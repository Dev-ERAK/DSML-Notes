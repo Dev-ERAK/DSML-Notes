{
 "cells": [
  {
   "cell_type": "markdown",
   "metadata": {
    "id": "Kd3X-8_Yy5GW"
   },
   "source": [
    "## Content\n",
    "- Agenda\n",
    "- Already Learnt\n",
    "- DSML Libraries\n",
    "  - Plotting Examples\n",
    "  - Prob and Stats\n",
    "  - Linear Algebra\n",
    "- TO Learn\n",
    "- ML v/s Classical Programming\n",
    "  - SDE vs ML Pipeline\n",
    "  - Tom Mitchell's definition of ML Task\n",
    "  - ETP\n",
    "- ML: Categorisation based on Tasks\n",
    "\n",
    "  - Classifcation\n",
    "  - Regression      \n",
    "  - Classification v/s Regression\n",
    "  - Supervised Learning\n",
    "  - Clustering\n",
    "  - Unsupervised Learning"
   ]
  },
  {
   "cell_type": "markdown",
   "metadata": {
    "id": "6aVY9g3cPs56"
   },
   "source": [
    "### Agenda"
   ]
  },
  {
   "cell_type": "markdown",
   "metadata": {
    "id": "yh-r-DJ9u9G3"
   },
   "source": [
    "<img src='intro_ML.jpeg' width=800>"
   ]
  },
  {
   "cell_type": "markdown",
   "metadata": {
    "id": "yAvDXVzZSe9g"
   },
   "source": [
    "### ALREADY LEARNT\n",
    "\n",
    "\n",
    "\n"
   ]
  },
  {
   "cell_type": "markdown",
   "metadata": {
    "id": "NOXhQhrrM1IR"
   },
   "source": [
    "<img src='revsision.jpeg' width=800>\n"
   ]
  },
  {
   "cell_type": "markdown",
   "metadata": {
    "id": "84f9DwlibpN1"
   },
   "source": [
    "### DSML Libraries\n",
    "\n"
   ]
  },
  {
   "cell_type": "markdown",
   "metadata": {
    "id": "43jqKd9Lv34x"
   },
   "source": [
    "<img src='DSML_LIB.jpeg' width=800>\n"
   ]
  },
  {
   "cell_type": "markdown",
   "metadata": {
    "id": "3YnGykylv5tc"
   },
   "source": [
    "<img src='DSML_LIB-2.jpeg' width=800>\n"
   ]
  },
  {
   "cell_type": "markdown",
   "metadata": {
    "id": "JQ8_5bQdhRJl"
   },
   "source": [
    "#### Plotting Examples\n",
    "\n",
    "\n",
    "\n",
    "\n"
   ]
  },
  {
   "cell_type": "markdown",
   "metadata": {
    "id": "kQe_evDnQm2Y"
   },
   "source": [
    "<img src='ML-plot.jpeg' width=800>\n"
   ]
  },
  {
   "cell_type": "markdown",
   "metadata": {
    "id": "00MndbX6xzIp"
   },
   "source": [
    "<img src='plot-1.jpeg' width=800>\n"
   ]
  },
  {
   "cell_type": "markdown",
   "metadata": {
    "id": "w2uA5JbBhRL4"
   },
   "source": [
    "#### Probability and Statistics"
   ]
  },
  {
   "cell_type": "markdown",
   "metadata": {
    "id": "LqYbAOQWyhOG"
   },
   "source": [
    "<img src='P&S.jpeg' width=800>"
   ]
  },
  {
   "cell_type": "markdown",
   "metadata": {
    "id": "jlJXz68oywt0"
   },
   "source": [
    "<img src='P&S-2.jpeg' width=800>\n"
   ]
  },
  {
   "cell_type": "markdown",
   "metadata": {
    "id": "TYp-zdn24BwL"
   },
   "source": [
    "<img src='P&S-3.jpeg' width=800>\n"
   ]
  },
  {
   "cell_type": "markdown",
   "metadata": {
    "id": "KrP8-7YvhRQV"
   },
   "source": [
    "#### Linear Algebra\n",
    "\n",
    "\n"
   ]
  },
  {
   "cell_type": "markdown",
   "metadata": {
    "id": "Lar2tl0F4WaT"
   },
   "source": [
    "<img src='linear-alg.jpeg' width=800>\n"
   ]
  },
  {
   "cell_type": "markdown",
   "metadata": {
    "id": "ThTkwhlN4Wcp"
   },
   "source": [
    "<img src='plot-2.jpeg' width=800>"
   ]
  },
  {
   "cell_type": "markdown",
   "metadata": {
    "id": "-rG7GMlvVNfG"
   },
   "source": [
    "\n",
    "<img src='revsision-2.jpeg' width=800>"
   ]
  },
  {
   "cell_type": "markdown",
   "metadata": {
    "id": "AGdv-rzMhRW4"
   },
   "source": [
    "### TO LEARN  "
   ]
  },
  {
   "cell_type": "markdown",
   "metadata": {
    "id": "nZbQQO17xP5T"
   },
   "source": [
    "### ML v/s Classical Programming"
   ]
  },
  {
   "cell_type": "markdown",
   "metadata": {
    "id": "SJ1s9ARo5WsY"
   },
   "source": [
    "<img src='ML-2.jpeg' width=800>"
   ]
  },
  {
   "cell_type": "markdown",
   "metadata": {
    "id": "259QdYeShRb2"
   },
   "source": [
    "#### **How does the SDE pipleline look?**\n",
    "\n"
   ]
  },
  {
   "cell_type": "markdown",
   "metadata": {
    "id": "QI8cxEnF6WCm"
   },
   "source": [
    "<img src='Notes-1.jpeg' width=800>\n"
   ]
  },
  {
   "cell_type": "markdown",
   "metadata": {
    "id": "kr4LOZAH6mMM"
   },
   "source": [
    "<img src='revsision-3.jpeg' width=800>\n"
   ]
  },
  {
   "cell_type": "markdown",
   "metadata": {
    "id": "AaN5JwR5xsRe"
   },
   "source": [
    "#### How does the ML pipeline look?\n",
    "\n"
   ]
  },
  {
   "cell_type": "markdown",
   "metadata": {
    "id": "01DPA8mM6w5D"
   },
   "source": [
    "<img src='revsision-4.jpeg' width=800>"
   ]
  },
  {
   "cell_type": "markdown",
   "metadata": {
    "id": "bU5TOB8J7V4Y"
   },
   "source": [
    "<img src='revsision-5.jpeg' width=800>"
   ]
  },
  {
   "cell_type": "markdown",
   "metadata": {
    "id": "4WHBPyld0Kr6"
   },
   "source": [
    "#### \"Well defined\" ML task - Definition by Tom Mitchell"
   ]
  },
  {
   "cell_type": "markdown",
   "metadata": {
    "id": "6UW-O4_R7t2a"
   },
   "source": [
    "\n",
    "<img src='Tom-M.jpeg' width=800>"
   ]
  },
  {
   "cell_type": "markdown",
   "metadata": {
    "id": "a8ab-Thp7t-P"
   },
   "source": [
    "\n",
    "<img src='revsision-6.jpeg' width=800>"
   ]
  },
  {
   "cell_type": "markdown",
   "metadata": {
    "id": "HT5sp1zuELU1"
   },
   "source": [
    "#### ETP Example"
   ]
  },
  {
   "cell_type": "markdown",
   "metadata": {
    "id": "KauuwFZx7V-k"
   },
   "source": [
    "<img src='revsision-7.jpeg' width=800>"
   ]
  },
  {
   "cell_type": "markdown",
   "metadata": {
    "id": "R6vusM8afr5R"
   },
   "source": [
    "\n",
    "<img src='revsision-8.jpeg' width=800>"
   ]
  },
  {
   "cell_type": "markdown",
   "metadata": {
    "id": "EYbHvxg7VbQW"
   },
   "source": [
    "\n",
    "\n",
    "\n",
    "<img src='revsision-9.jpeg' width=800>\n"
   ]
  },
  {
   "cell_type": "markdown",
   "metadata": {
    "id": "ljrzETUKJLv-"
   },
   "source": [
    "#### ML Topics Categorisation"
   ]
  },
  {
   "cell_type": "markdown",
   "metadata": {
    "id": "8p-yL9zo8-cE"
   },
   "source": [
    "<img src='classification.jpeg' width=800>"
   ]
  },
  {
   "cell_type": "markdown",
   "metadata": {
    "id": "-8iap3Lv9jSS"
   },
   "source": [
    "<img src='revsision-10.jpeg' width=800>"
   ]
  },
  {
   "cell_type": "markdown",
   "metadata": {
    "id": "7BuxD1M4OBjY"
   },
   "source": [
    "### ML Categorisation based on Tasks"
   ]
  },
  {
   "cell_type": "markdown",
   "metadata": {
    "id": "hrGzlgv4OH1e"
   },
   "source": [
    "#### Classification"
   ]
  },
  {
   "cell_type": "markdown",
   "metadata": {
    "id": "lhSNmSBm9yEr"
   },
   "source": [
    "<img src='classification-1.jpeg' width=800>"
   ]
  },
  {
   "cell_type": "markdown",
   "metadata": {
    "id": "I73YFTB993Eu"
   },
   "source": [
    "<img src='classification-2.jpeg' width=800>"
   ]
  },
  {
   "cell_type": "markdown",
   "metadata": {
    "id": "-f2DGnmBOWdH"
   },
   "source": [
    "#### Regression"
   ]
  },
  {
   "cell_type": "markdown",
   "metadata": {
    "id": "MzaAFeEx-UZ3"
   },
   "source": [
    "<img src='Regression-1.jpeg' width=800>"
   ]
  },
  {
   "cell_type": "markdown",
   "metadata": {
    "id": "MiJkVJPPOj14"
   },
   "source": [
    "#### Regression v/s Classification"
   ]
  },
  {
   "cell_type": "markdown",
   "metadata": {
    "id": "HQJ2Kk0b-Y4z"
   },
   "source": [
    "<img src='classificationVsRegression-1.jpeg' width=800>\n"
   ]
  },
  {
   "cell_type": "markdown",
   "metadata": {
    "id": "kEXgwOGl_CZ4"
   },
   "source": [
    "<img src='classificationVsRegression-2.jpeg' width=800>\n"
   ]
  },
  {
   "cell_type": "markdown",
   "metadata": {
    "id": "sna3Ufl3f4LO"
   },
   "source": [
    "\n",
    "<img src='classificationVsRegression-3.jpeg' width=800>"
   ]
  },
  {
   "cell_type": "markdown",
   "metadata": {
    "id": "e9eDc0CRg786"
   },
   "source": [
    "\n",
    "\n",
    "\n",
    "<img src='classificationVsRegression-4.jpeg' width=800>\n"
   ]
  },
  {
   "cell_type": "markdown",
   "metadata": {
    "id": "YSaztZlUgnSF"
   },
   "source": [
    "<img src='classificationVsRegression-5.jpeg' width=800>"
   ]
  },
  {
   "cell_type": "markdown",
   "metadata": {
    "id": "AaTuefp6Oo7a"
   },
   "source": [
    "#### Supervised Learning"
   ]
  },
  {
   "cell_type": "markdown",
   "metadata": {
    "id": "ndWOMmto_dYM"
   },
   "source": [
    "\n",
    "<img src='Supervised_learning.jpeg' width=800>\n"
   ]
  },
  {
   "cell_type": "markdown",
   "metadata": {
    "id": "mvHoYG44OtIC"
   },
   "source": [
    "#### Clustering"
   ]
  },
  {
   "cell_type": "markdown",
   "metadata": {
    "id": "Znu8EJgQ_hDG"
   },
   "source": [
    "\n",
    "<img src='clusting.jpeg' width=800>\n"
   ]
  },
  {
   "cell_type": "markdown",
   "metadata": {
    "id": "NCkDyqrB_he8"
   },
   "source": [
    "\n",
    "<img src='clusting-2.jpeg' width=800>\n"
   ]
  },
  {
   "cell_type": "markdown",
   "metadata": {
    "id": "yF4j9M5H_hzI"
   },
   "source": [
    "\n",
    "<img src='clusting-3.jpeg' width=800>"
   ]
  },
  {
   "cell_type": "markdown",
   "metadata": {
    "id": "NU8H3XR7OtMk"
   },
   "source": [
    "#### Unsupervised Learning"
   ]
  },
  {
   "cell_type": "markdown",
   "metadata": {
    "id": "aJoDp3Dp_iBm"
   },
   "source": [
    "\n",
    "<img src='unsupervised_Leanring-1.jpeg' width=800>\n"
   ]
  },
  {
   "cell_type": "markdown",
   "metadata": {
    "id": "wy0RvlqI__dL"
   },
   "source": [
    "\n",
    "<img src='unsupervised_Leanring-2.jpeg' width=800>\n"
   ]
  },
  {
   "cell_type": "markdown",
   "metadata": {
    "id": "fMA8___ZhBQl"
   },
   "source": [
    "\n",
    "<img src='unsupervised_Leanring-3.jpeg' width=800>"
   ]
  },
  {
   "cell_type": "markdown",
   "metadata": {
    "id": "bJSnDkmLhBQz"
   },
   "source": [
    "\n",
    "\n",
    "\n",
    "<img src='unsupervised_Leanring-4.jpeg' width=800>\n"
   ]
  },
  {
   "cell_type": "markdown",
   "metadata": {
    "id": "fKY-gdgMVygS"
   },
   "source": [
    "\n",
    "\n",
    "\n",
    "<img src='unsupervised_Leanring-5.jpeg' width=800>\n"
   ]
  }
 ],
 "metadata": {
  "colab": {
   "provenance": []
  },
  "kernelspec": {
   "display_name": "Python 3 (ipykernel)",
   "language": "python",
   "name": "python3"
  },
  "language_info": {
   "codemirror_mode": {
    "name": "ipython",
    "version": 3
   },
   "file_extension": ".py",
   "mimetype": "text/x-python",
   "name": "python",
   "nbconvert_exporter": "python",
   "pygments_lexer": "ipython3",
   "version": "3.10.2"
  }
 },
 "nbformat": 4,
 "nbformat_minor": 1
}
