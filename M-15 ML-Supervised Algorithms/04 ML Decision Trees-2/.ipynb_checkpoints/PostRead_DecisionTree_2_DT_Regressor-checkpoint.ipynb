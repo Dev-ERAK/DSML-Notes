{
 "cells": [
  {
   "cell_type": "markdown",
   "metadata": {
    "id": "yq74JxEv_mnT"
   },
   "source": [
    "### Code walkthrough - scratch implementation for calculating split threshold for numerical feature"
   ]
  },
  {
   "cell_type": "markdown",
   "metadata": {
    "id": "8KQOk0vEPqzZ"
   },
   "source": [
    "#### Loading data"
   ]
  },
  {
   "cell_type": "code",
   "execution_count": null,
   "metadata": {
    "id": "L4AsyoFLC7P8"
   },
   "outputs": [],
   "source": [
    "import pandas as pd\n",
    "import numpy as np"
   ]
  },
  {
   "cell_type": "code",
   "execution_count": null,
   "metadata": {
    "colab": {
     "base_uri": "https://localhost:8080/"
    },
    "id": "JPB6WtKNPsPS",
    "outputId": "a9b35a89-5478-4648-d229-74f0f347a9a5"
   },
   "outputs": [
    {
     "name": "stdout",
     "output_type": "stream",
     "text": [
      "Downloading...\n",
      "From: https://drive.google.com/uc?id=176WcJFfaSz3YkO1TiGEg_EqWgJ4YQEwO\n",
      "To: /content/regData.csv\n",
      "\r",
      "  0% 0.00/13.4k [00:00<?, ?B/s]\r",
      "100% 13.4k/13.4k [00:00<00:00, 33.8MB/s]\n"
     ]
    }
   ],
   "source": [
    "!gdown 176WcJFfaSz3YkO1TiGEg_EqWgJ4YQEwO"
   ]
  },
  {
   "cell_type": "code",
   "execution_count": null,
   "metadata": {
    "id": "0ZYXCxGXPv2u"
   },
   "outputs": [],
   "source": [
    "regression_data = pd.read_csv('regData.csv')"
   ]
  },
  {
   "cell_type": "code",
   "execution_count": null,
   "metadata": {
    "colab": {
     "base_uri": "https://localhost:8080/",
     "height": 206
    },
    "id": "va3wGvDHP0kT",
    "outputId": "f06e38e4-dbf7-48c9-8eb3-11559da23cec"
   },
   "outputs": [
    {
     "data": {
      "text/html": [
       "\n",
       "  <div id=\"df-6b613ffb-e008-409f-92fd-dd0d3704f57b\" class=\"colab-df-container\">\n",
       "    <div>\n",
       "<style scoped>\n",
       "    .dataframe tbody tr th:only-of-type {\n",
       "        vertical-align: middle;\n",
       "    }\n",
       "\n",
       "    .dataframe tbody tr th {\n",
       "        vertical-align: top;\n",
       "    }\n",
       "\n",
       "    .dataframe thead th {\n",
       "        text-align: right;\n",
       "    }\n",
       "</style>\n",
       "<table border=\"1\" class=\"dataframe\">\n",
       "  <thead>\n",
       "    <tr style=\"text-align: right;\">\n",
       "      <th></th>\n",
       "      <th>X</th>\n",
       "      <th>Y</th>\n",
       "    </tr>\n",
       "  </thead>\n",
       "  <tbody>\n",
       "    <tr>\n",
       "      <th>0</th>\n",
       "      <td>1</td>\n",
       "      <td>1.018138</td>\n",
       "    </tr>\n",
       "    <tr>\n",
       "      <th>1</th>\n",
       "      <td>2</td>\n",
       "      <td>0.813685</td>\n",
       "    </tr>\n",
       "    <tr>\n",
       "      <th>2</th>\n",
       "      <td>3</td>\n",
       "      <td>0.795484</td>\n",
       "    </tr>\n",
       "    <tr>\n",
       "      <th>3</th>\n",
       "      <td>4</td>\n",
       "      <td>0.860005</td>\n",
       "    </tr>\n",
       "    <tr>\n",
       "      <th>4</th>\n",
       "      <td>5</td>\n",
       "      <td>0.990648</td>\n",
       "    </tr>\n",
       "  </tbody>\n",
       "</table>\n",
       "</div>\n",
       "    <div class=\"colab-df-buttons\">\n",
       "\n",
       "  <div class=\"colab-df-container\">\n",
       "    <button class=\"colab-df-convert\" onclick=\"convertToInteractive('df-6b613ffb-e008-409f-92fd-dd0d3704f57b')\"\n",
       "            title=\"Convert this dataframe to an interactive table.\"\n",
       "            style=\"display:none;\">\n",
       "\n",
       "  <svg xmlns=\"http://www.w3.org/2000/svg\" height=\"24px\" viewBox=\"0 -960 960 960\">\n",
       "    <path d=\"M120-120v-720h720v720H120Zm60-500h600v-160H180v160Zm220 220h160v-160H400v160Zm0 220h160v-160H400v160ZM180-400h160v-160H180v160Zm440 0h160v-160H620v160ZM180-180h160v-160H180v160Zm440 0h160v-160H620v160Z\"/>\n",
       "  </svg>\n",
       "    </button>\n",
       "\n",
       "  <style>\n",
       "    .colab-df-container {\n",
       "      display:flex;\n",
       "      gap: 12px;\n",
       "    }\n",
       "\n",
       "    .colab-df-convert {\n",
       "      background-color: #E8F0FE;\n",
       "      border: none;\n",
       "      border-radius: 50%;\n",
       "      cursor: pointer;\n",
       "      display: none;\n",
       "      fill: #1967D2;\n",
       "      height: 32px;\n",
       "      padding: 0 0 0 0;\n",
       "      width: 32px;\n",
       "    }\n",
       "\n",
       "    .colab-df-convert:hover {\n",
       "      background-color: #E2EBFA;\n",
       "      box-shadow: 0px 1px 2px rgba(60, 64, 67, 0.3), 0px 1px 3px 1px rgba(60, 64, 67, 0.15);\n",
       "      fill: #174EA6;\n",
       "    }\n",
       "\n",
       "    .colab-df-buttons div {\n",
       "      margin-bottom: 4px;\n",
       "    }\n",
       "\n",
       "    [theme=dark] .colab-df-convert {\n",
       "      background-color: #3B4455;\n",
       "      fill: #D2E3FC;\n",
       "    }\n",
       "\n",
       "    [theme=dark] .colab-df-convert:hover {\n",
       "      background-color: #434B5C;\n",
       "      box-shadow: 0px 1px 3px 1px rgba(0, 0, 0, 0.15);\n",
       "      filter: drop-shadow(0px 1px 2px rgba(0, 0, 0, 0.3));\n",
       "      fill: #FFFFFF;\n",
       "    }\n",
       "  </style>\n",
       "\n",
       "    <script>\n",
       "      const buttonEl =\n",
       "        document.querySelector('#df-6b613ffb-e008-409f-92fd-dd0d3704f57b button.colab-df-convert');\n",
       "      buttonEl.style.display =\n",
       "        google.colab.kernel.accessAllowed ? 'block' : 'none';\n",
       "\n",
       "      async function convertToInteractive(key) {\n",
       "        const element = document.querySelector('#df-6b613ffb-e008-409f-92fd-dd0d3704f57b');\n",
       "        const dataTable =\n",
       "          await google.colab.kernel.invokeFunction('convertToInteractive',\n",
       "                                                    [key], {});\n",
       "        if (!dataTable) return;\n",
       "\n",
       "        const docLinkHtml = 'Like what you see? Visit the ' +\n",
       "          '<a target=\"_blank\" href=https://colab.research.google.com/notebooks/data_table.ipynb>data table notebook</a>'\n",
       "          + ' to learn more about interactive tables.';\n",
       "        element.innerHTML = '';\n",
       "        dataTable['output_type'] = 'display_data';\n",
       "        await google.colab.output.renderOutput(dataTable, element);\n",
       "        const docLink = document.createElement('div');\n",
       "        docLink.innerHTML = docLinkHtml;\n",
       "        element.appendChild(docLink);\n",
       "      }\n",
       "    </script>\n",
       "  </div>\n",
       "\n",
       "\n",
       "<div id=\"df-9401c56d-4cdb-41a1-90a8-c5c5248fbe58\">\n",
       "  <button class=\"colab-df-quickchart\" onclick=\"quickchart('df-9401c56d-4cdb-41a1-90a8-c5c5248fbe58')\"\n",
       "            title=\"Suggest charts\"\n",
       "            style=\"display:none;\">\n",
       "\n",
       "<svg xmlns=\"http://www.w3.org/2000/svg\" height=\"24px\"viewBox=\"0 0 24 24\"\n",
       "     width=\"24px\">\n",
       "    <g>\n",
       "        <path d=\"M19 3H5c-1.1 0-2 .9-2 2v14c0 1.1.9 2 2 2h14c1.1 0 2-.9 2-2V5c0-1.1-.9-2-2-2zM9 17H7v-7h2v7zm4 0h-2V7h2v10zm4 0h-2v-4h2v4z\"/>\n",
       "    </g>\n",
       "</svg>\n",
       "  </button>\n",
       "\n",
       "<style>\n",
       "  .colab-df-quickchart {\n",
       "      --bg-color: #E8F0FE;\n",
       "      --fill-color: #1967D2;\n",
       "      --hover-bg-color: #E2EBFA;\n",
       "      --hover-fill-color: #174EA6;\n",
       "      --disabled-fill-color: #AAA;\n",
       "      --disabled-bg-color: #DDD;\n",
       "  }\n",
       "\n",
       "  [theme=dark] .colab-df-quickchart {\n",
       "      --bg-color: #3B4455;\n",
       "      --fill-color: #D2E3FC;\n",
       "      --hover-bg-color: #434B5C;\n",
       "      --hover-fill-color: #FFFFFF;\n",
       "      --disabled-bg-color: #3B4455;\n",
       "      --disabled-fill-color: #666;\n",
       "  }\n",
       "\n",
       "  .colab-df-quickchart {\n",
       "    background-color: var(--bg-color);\n",
       "    border: none;\n",
       "    border-radius: 50%;\n",
       "    cursor: pointer;\n",
       "    display: none;\n",
       "    fill: var(--fill-color);\n",
       "    height: 32px;\n",
       "    padding: 0;\n",
       "    width: 32px;\n",
       "  }\n",
       "\n",
       "  .colab-df-quickchart:hover {\n",
       "    background-color: var(--hover-bg-color);\n",
       "    box-shadow: 0 1px 2px rgba(60, 64, 67, 0.3), 0 1px 3px 1px rgba(60, 64, 67, 0.15);\n",
       "    fill: var(--button-hover-fill-color);\n",
       "  }\n",
       "\n",
       "  .colab-df-quickchart-complete:disabled,\n",
       "  .colab-df-quickchart-complete:disabled:hover {\n",
       "    background-color: var(--disabled-bg-color);\n",
       "    fill: var(--disabled-fill-color);\n",
       "    box-shadow: none;\n",
       "  }\n",
       "\n",
       "  .colab-df-spinner {\n",
       "    border: 2px solid var(--fill-color);\n",
       "    border-color: transparent;\n",
       "    border-bottom-color: var(--fill-color);\n",
       "    animation:\n",
       "      spin 1s steps(1) infinite;\n",
       "  }\n",
       "\n",
       "  @keyframes spin {\n",
       "    0% {\n",
       "      border-color: transparent;\n",
       "      border-bottom-color: var(--fill-color);\n",
       "      border-left-color: var(--fill-color);\n",
       "    }\n",
       "    20% {\n",
       "      border-color: transparent;\n",
       "      border-left-color: var(--fill-color);\n",
       "      border-top-color: var(--fill-color);\n",
       "    }\n",
       "    30% {\n",
       "      border-color: transparent;\n",
       "      border-left-color: var(--fill-color);\n",
       "      border-top-color: var(--fill-color);\n",
       "      border-right-color: var(--fill-color);\n",
       "    }\n",
       "    40% {\n",
       "      border-color: transparent;\n",
       "      border-right-color: var(--fill-color);\n",
       "      border-top-color: var(--fill-color);\n",
       "    }\n",
       "    60% {\n",
       "      border-color: transparent;\n",
       "      border-right-color: var(--fill-color);\n",
       "    }\n",
       "    80% {\n",
       "      border-color: transparent;\n",
       "      border-right-color: var(--fill-color);\n",
       "      border-bottom-color: var(--fill-color);\n",
       "    }\n",
       "    90% {\n",
       "      border-color: transparent;\n",
       "      border-bottom-color: var(--fill-color);\n",
       "    }\n",
       "  }\n",
       "</style>\n",
       "\n",
       "  <script>\n",
       "    async function quickchart(key) {\n",
       "      const quickchartButtonEl =\n",
       "        document.querySelector('#' + key + ' button');\n",
       "      quickchartButtonEl.disabled = true;  // To prevent multiple clicks.\n",
       "      quickchartButtonEl.classList.add('colab-df-spinner');\n",
       "      try {\n",
       "        const charts = await google.colab.kernel.invokeFunction(\n",
       "            'suggestCharts', [key], {});\n",
       "      } catch (error) {\n",
       "        console.error('Error during call to suggestCharts:', error);\n",
       "      }\n",
       "      quickchartButtonEl.classList.remove('colab-df-spinner');\n",
       "      quickchartButtonEl.classList.add('colab-df-quickchart-complete');\n",
       "    }\n",
       "    (() => {\n",
       "      let quickchartButtonEl =\n",
       "        document.querySelector('#df-9401c56d-4cdb-41a1-90a8-c5c5248fbe58 button');\n",
       "      quickchartButtonEl.style.display =\n",
       "        google.colab.kernel.accessAllowed ? 'block' : 'none';\n",
       "    })();\n",
       "  </script>\n",
       "</div>\n",
       "    </div>\n",
       "  </div>\n"
      ],
      "text/plain": [
       "   X         Y\n",
       "0  1  1.018138\n",
       "1  2  0.813685\n",
       "2  3  0.795484\n",
       "3  4  0.860005\n",
       "4  5  0.990648"
      ]
     },
     "execution_count": 4,
     "metadata": {},
     "output_type": "execute_result"
    }
   ],
   "source": [
    "regression_data.head()"
   ]
  },
  {
   "cell_type": "code",
   "execution_count": null,
   "metadata": {
    "colab": {
     "base_uri": "https://localhost:8080/"
    },
    "id": "1mK4cJhfR3ee",
    "outputId": "48f8af19-8e23-4018-e610-7f075912e1b4"
   },
   "outputs": [
    {
     "name": "stdout",
     "output_type": "stream",
     "text": [
      "<class 'pandas.core.frame.DataFrame'>\n",
      "RangeIndex: 600 entries, 0 to 599\n",
      "Data columns (total 2 columns):\n",
      " #   Column  Non-Null Count  Dtype  \n",
      "---  ------  --------------  -----  \n",
      " 0   X       600 non-null    int64  \n",
      " 1   Y       600 non-null    float64\n",
      "dtypes: float64(1), int64(1)\n",
      "memory usage: 9.5 KB\n"
     ]
    }
   ],
   "source": [
    "regression_data.info()"
   ]
  },
  {
   "cell_type": "markdown",
   "metadata": {
    "id": "utpR6bkXR6_k"
   },
   "source": [
    "Ther are total of 600 datapoints"
   ]
  },
  {
   "cell_type": "code",
   "execution_count": null,
   "metadata": {
    "id": "kMmeGOsVP8gQ"
   },
   "outputs": [],
   "source": [
    "X = regression_data['X']\n",
    "y = regression_data['Y']"
   ]
  },
  {
   "cell_type": "markdown",
   "metadata": {
    "id": "jNGzq8eiP229"
   },
   "source": [
    "#### Plotting data"
   ]
  },
  {
   "cell_type": "code",
   "execution_count": null,
   "metadata": {
    "id": "yeSJVa_UC_qK"
   },
   "outputs": [],
   "source": [
    "from matplotlib import pyplot as plt"
   ]
  },
  {
   "cell_type": "code",
   "execution_count": null,
   "metadata": {
    "colab": {
     "base_uri": "https://localhost:8080/",
     "height": 700
    },
    "id": "nTHkauquP4Jq",
    "outputId": "af30bc77-336c-442c-fa24-97e1d9dcf129"
   },
   "outputs": [
    {
     "data": {
      "image/png": "[encoded data removed]",
      "text/plain": [
       "<Figure size 2000x1000 with 1 Axes>"
      ]
     },
     "metadata": {},
     "output_type": "display_data"
    }
   ],
   "source": [
    "plt.figure(figsize = (20,10))\n",
    "plt.scatter(X,y)\n",
    "plt.xlabel('X')\n",
    "plt.ylabel('Y')\n",
    "plt.show()"
   ]
  },
  {
   "cell_type": "markdown",
   "metadata": {
    "id": "GPQ39srHQGKQ"
   },
   "source": [
    "#### Splitting data"
   ]
  },
  {
   "cell_type": "code",
   "execution_count": null,
   "metadata": {
    "id": "8ABH44WnQI72"
   },
   "outputs": [],
   "source": [
    "from sklearn.model_selection import train_test_split\n",
    "X_train, X_test, y_train, y_test = train_test_split(X,\n",
    "                                                    y,\n",
    "                                                    test_size=0.25,\n",
    "                                                    random_state=43,\n",
    "                                                    shuffle = True)"
   ]
  },
  {
   "cell_type": "markdown",
   "metadata": {
    "id": "2Ea_KbxOQLVN"
   },
   "source": [
    "#### Sorting feature to calculate threshold"
   ]
  },
  {
   "cell_type": "code",
   "execution_count": null,
   "metadata": {
    "id": "YPzly2rNQOXM"
   },
   "outputs": [],
   "source": [
    "thresholds = X_train.sort_values().unique()"
   ]
  },
  {
   "cell_type": "code",
   "execution_count": null,
   "metadata": {
    "colab": {
     "base_uri": "https://localhost:8080/"
    },
    "id": "ANI-qZ0cQP-R",
    "outputId": "911aad33-a73f-4d10-80da-8ca0032cab20"
   },
   "outputs": [
    {
     "data": {
      "text/plain": [
       "array([  1,   2,   4,   5,   6,   7,   8,   9,  10,  11,  14,  15,  17,\n",
       "        19,  20,  21,  22,  23,  24,  26,  27,  28,  29,  30,  31,  32,\n",
       "        33,  34,  35,  37,  38,  39,  40,  41,  42,  43,  44,  45,  46,\n",
       "        47,  50,  51,  52,  53,  54,  55,  56,  57,  59,  60,  61,  63,\n",
       "        65,  66,  67,  71,  73,  74,  75,  76,  77,  78,  79,  80,  81,\n",
       "        82,  84,  85,  86,  87,  88,  89,  90,  92,  93,  94,  95,  96,\n",
       "        98,  99, 100, 101, 102, 103, 105, 107, 108, 109, 110, 111, 112,\n",
       "       113, 114, 115, 116, 117, 119, 121, 123, 125, 126, 127, 129, 130,\n",
       "       132, 133, 134, 135, 136, 137, 138, 141, 147, 148, 149, 150, 152,\n",
       "       153, 154, 155, 156, 157, 158, 159, 160, 161, 162, 163, 164, 165,\n",
       "       168, 169, 170, 171, 172, 173, 174, 176, 178, 180, 182, 183, 185,\n",
       "       188, 189, 190, 194, 195, 198, 199, 200, 201, 202, 203, 205, 208,\n",
       "       209, 210, 212, 213, 214, 216, 217, 219, 220, 221, 223, 225, 226,\n",
       "       227, 228, 230, 231, 233, 235, 237, 238, 240, 241, 242, 243, 244,\n",
       "       245, 246, 247, 249, 253, 254, 255, 256, 258, 259, 260, 263, 264,\n",
       "       266, 267, 268, 269, 270, 273, 274, 275, 276, 277, 278, 279, 280,\n",
       "       281, 282, 283, 284, 288, 290, 291, 293, 296, 297, 299, 300, 301,\n",
       "       302, 304, 305, 306, 307, 308, 310, 313, 314, 315, 317, 318, 320,\n",
       "       321, 322, 323, 324, 325, 326, 328, 330, 331, 332, 333, 334, 337,\n",
       "       339, 341, 342, 344, 345, 346, 347, 349, 350, 351, 352, 353, 355,\n",
       "       356, 357, 358, 360, 361, 363, 365, 366, 368, 369, 371, 374, 375,\n",
       "       377, 379, 380, 382, 383, 384, 385, 386, 388, 389, 390, 391, 392,\n",
       "       396, 397, 399, 400, 401, 402, 404, 405, 406, 407, 408, 409, 410,\n",
       "       411, 412, 413, 414, 415, 416, 417, 418, 419, 420, 421, 422, 423,\n",
       "       424, 425, 427, 428, 430, 431, 432, 433, 434, 435, 436, 437, 438,\n",
       "       439, 441, 444, 445, 446, 448, 449, 450, 451, 452, 453, 454, 455,\n",
       "       456, 457, 458, 459, 460, 461, 464, 465, 466, 467, 468, 469, 470,\n",
       "       473, 474, 475, 476, 477, 479, 481, 483, 485, 487, 488, 489, 490,\n",
       "       491, 492, 493, 495, 497, 498, 499, 500, 501, 502, 503, 504, 505,\n",
       "       507, 509, 510, 511, 512, 513, 514, 515, 516, 517, 518, 519, 520,\n",
       "       523, 524, 525, 527, 528, 532, 533, 534, 535, 536, 537, 539, 541,\n",
       "       542, 543, 544, 545, 546, 547, 548, 549, 551, 552, 553, 554, 555,\n",
       "       558, 561, 562, 563, 564, 568, 569, 570, 571, 572, 573, 575, 576,\n",
       "       577, 578, 579, 580, 581, 582, 583, 584, 586, 587, 588, 589, 590,\n",
       "       591, 592, 594, 595, 596, 597, 599, 600])"
      ]
     },
     "execution_count": 11,
     "metadata": {},
     "output_type": "execute_result"
    }
   ],
   "source": [
    "thresholds"
   ]
  },
  {
   "cell_type": "markdown",
   "metadata": {
    "id": "Dg-cn8ZAPDEr"
   },
   "source": [
    "#### Calculating MSE"
   ]
  },
  {
   "cell_type": "code",
   "execution_count": null,
   "metadata": {
    "id": "rTxqtTdh_oi1"
   },
   "outputs": [],
   "source": [
    "def calculate_MSE(y):\n",
    "    if(y.shape[0] == 0):\n",
    "        return 0\n",
    "\n",
    "    y_pred = np.mean(y)\n",
    "\n",
    "    n = y.shape[0]\n",
    "\n",
    "    mse = np.sum((y - np.mean(y))**2)\n",
    "    mse /= n\n",
    "\n",
    "    return mse"
   ]
  },
  {
   "cell_type": "markdown",
   "metadata": {
    "id": "Sv0bHsK7QSGW"
   },
   "source": [
    "#### Calculating delta MSE"
   ]
  },
  {
   "cell_type": "code",
   "execution_count": null,
   "metadata": {
    "id": "HlH-ynvJPGGI"
   },
   "outputs": [],
   "source": [
    "def calulate_deltaMSE(y,mask):\n",
    "    left_node_count = sum(mask)\n",
    "    total = mask.shape[0]\n",
    "    right_node_count = total - left_node_count\n",
    "\n",
    "    parent_MSE = calculate_MSE(y)\n",
    "\n",
    "    child_MSE = left_node_count/total*calculate_MSE(y[mask]) + right_node_count/total*calculate_MSE(y[~mask])\n",
    "\n",
    "    deltaMSE = parent_MSE - child_MSE\n",
    "\n",
    "    return deltaMSE\n",
    "\n"
   ]
  },
  {
   "cell_type": "markdown",
   "metadata": {
    "id": "Xi-KfOePQWmz"
   },
   "source": [
    "#### Calculating best threshold for split"
   ]
  },
  {
   "cell_type": "code",
   "execution_count": null,
   "metadata": {
    "id": "1p60VHdxQWDC"
   },
   "outputs": [],
   "source": [
    "delta_mse_train = []\n",
    "\n",
    "for thr in thresholds:\n",
    "    mask = X_train <= thr\n",
    "\n",
    "    delta_MSE = calulate_deltaMSE(y_train, mask)\n",
    "\n",
    "    delta_mse_train.append(delta_MSE)\n",
    "\n",
    "\n"
   ]
  },
  {
   "cell_type": "code",
   "execution_count": null,
   "metadata": {
    "colab": {
     "base_uri": "https://localhost:8080/"
    },
    "id": "2AVkHVyGQZ1j",
    "outputId": "8aadc33a-9243-4d8c-8441-d0e4f55ade72"
   },
   "outputs": [
    {
     "name": "stdout",
     "output_type": "stream",
     "text": [
      "Best reduction in MSE is 2.539507086209006 is for threshold: 200\n"
     ]
    }
   ],
   "source": [
    "delta_mse_train = np.array(delta_mse_train)\n",
    "\n",
    "print(f'Best reduction in MSE is {delta_mse_train.max()} is for threshold: {thresholds[delta_mse_train.argmax()]}')"
   ]
  },
  {
   "cell_type": "markdown",
   "metadata": {
    "id": "b1Uq-JygWKeZ"
   },
   "source": [
    "#### Note\n",
    "sklearn implementation creates thresholds by taking average of two values.\n",
    "\n",
    "Let's see an example:\n",
    "\n",
    "- Say, we have feature $X_1$ as $[1,2,3,4,5]$.\n",
    "\n",
    "- So, thresholds here will be $[1.5, 2.5, 3.5, 4.5]$\n",
    "\n",
    "- i.e. First threshold will be  $\\frac{1 + 2}{2} = 1.5$\n",
    "\n",
    "- Similarly, second threshold will be $\\frac{2 + 3}{2} = 2.5$\n",
    "\n"
   ]
  }
 ],
 "metadata": {
  "colab": {
   "provenance": []
  },
  "kernelspec": {
   "display_name": "Python 3 (ipykernel)",
   "language": "python",
   "name": "python3"
  },
  "language_info": {
   "codemirror_mode": {
    "name": "ipython",
    "version": 3
   },
   "file_extension": ".py",
   "mimetype": "text/x-python",
   "name": "python",
   "nbconvert_exporter": "python",
   "pygments_lexer": "ipython3",
   "version": "3.10.2"
  }
 },
 "nbformat": 4,
 "nbformat_minor": 1
}
