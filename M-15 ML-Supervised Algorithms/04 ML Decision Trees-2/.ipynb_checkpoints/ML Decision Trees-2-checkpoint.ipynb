{
 "cells": [
  {
   "cell_type": "markdown",
   "metadata": {
    "id": "zq20sq-f_GSb"
   },
   "source": [
    "## Content\n",
    "\n",
    "- Recap\n",
    "\n",
    "- Issue with Entropy\n",
    "\n",
    "- Gini Impurity\n",
    "\n",
    "    * QUIZ 1\n",
    "\n",
    "    * [Lower or higher Gini impurity?](https://www.scaler.com/hire/test/problem/25648/)\n",
    "    * [Decision Tree Information Gain and Gini Index](https://www.scaler.com/hire/test/problem/16630/) - H/W\n",
    "    * [Gini impurity in different distributions](https://www.scaler.com/hire/test/problem/25638/)\n",
    "    * [Gini impurity](https://www.scaler.com/hire/test/problem/25488/) - (coding) H/W\n",
    "\n",
    "- Splitting numerical features\n",
    "\n",
    "    * [Datasets in Decision Trees](https://www.scaler.com/hire/test/problem/25756/)\n",
    "    * [Decision Tree Characteristic II](https://www.scaler.com/hire/test/problem/16360/)\n",
    "    * [Decision Tree Classification](https://www.scaler.com/hire/test/problem/17484/) - (coding) H/W\n",
    "\n",
    "- Overfit vs. Underfit\n",
    "\n",
    "     * QUIZ 2-4\n",
    "\n",
    "- Hyperparameter Tuning\n",
    "\n",
    "    * QUIZ 5\n",
    "    * [Overfitting in Decision Tree](https://www.scaler.com/hire/test/problem/25740/)\n",
    "    * [Max-depth in decision trees](https://www.scaler.com/hire/test/problem/25747/)\n",
    "    * [Hyperparameters in decision trees](https://www.scaler.com/hire/test/problem/25749/)\n",
    "\n",
    "- Visualizing DT\n",
    "\n",
    "- Impact of Outliers\n",
    "\n",
    "  * QUIZ 6\n",
    "\n",
    "- Feature Scaling\n",
    "\n",
    "- Encoding categorical features\n",
    "\n",
    "- High dimensional data\n",
    "\n",
    "- Data Imbalance\n",
    "\n",
    "- Feature Importance\n",
    "\n",
    "  * [Feature Importance](https://www.scaler.com/hire/test/problem/25653/) - (coding) H/W\n",
    "\n",
    "- Regression using DT\n",
    "    * QUIZ 7-8\n",
    "    * [Decision Tree Regression](https://www.scaler.com/hire/test/problem/17480/) - (coding) H/W\n",
    "    * [Drug effectiveness](https://www.scaler.com/hire/test/problem/25735/)\n",
    "\n"
   ]
  },
  {
   "cell_type": "markdown",
   "metadata": {
    "id": "xDXm4u_m0qXA"
   },
   "source": [
    "---"
   ]
  },
  {
   "cell_type": "markdown",
   "metadata": {
    "id": "Oau-g4ESVzUA"
   },
   "source": [
    "## Recap\n"
   ]
  },
  {
   "cell_type": "markdown",
   "metadata": {
    "id": "N9w2QW-8_1wG"
   },
   "source": [
    "\n",
    "#### What have we learned till now?\n",
    "\n"
   ]
  },
  {
   "cell_type": "markdown",
   "metadata": {
    "id": "Bpyl_DL5Vvzi"
   },
   "source": [
    "<img src=https://d2beiqkhq929f0.cloudfront.net/public_assets/assets/000/041/086/original/Screenshot_2023-07-31_at_10.27.26_AM.png?1690779929 width=700>"
   ]
  },
  {
   "cell_type": "markdown",
   "metadata": {
    "id": "odq7FYxdV0uU"
   },
   "source": [
    "- What are Decision Trees?\n",
    "- How to build Decision Trees?\n",
    "  - Splitting of nodes\n",
    "  - Entropy to measure impurity\n",
    "  - Information Gain"
   ]
  },
  {
   "cell_type": "markdown",
   "metadata": {
    "id": "sqo5KnK8UNlI"
   },
   "source": [
    "## Issue with Entropy\n",
    "\n"
   ]
  },
  {
   "cell_type": "markdown",
   "metadata": {
    "id": "ponEJDCqV9Mv"
   },
   "source": [
    "Do you recall how entropy is calculated?\n",
    "- $H(y) = - ∑_{i=1}^k p(y_i)log(p(y_i))$\n"
   ]
  },
  {
   "cell_type": "markdown",
   "metadata": {
    "id": "Pe87btXbV5Mg"
   },
   "source": [
    "<img src=https://d2beiqkhq929f0.cloudfront.net/public_assets/assets/000/041/087/original/Screenshot_2023-07-31_at_10.27.33_AM.png?1690780005 width=700>"
   ]
  },
  {
   "cell_type": "markdown",
   "metadata": {
    "id": "4AWNTp89V-eA"
   },
   "source": [
    "\n",
    "\\\n",
    "So, what's the problem?\n",
    "- Notice that we take log of probability.\n",
    "- We have to do this for each feature, at each node.\n",
    "\n",
    "This is **computationally expensive** and **time consuming**.\n",
    "\n",
    "\\\n",
    "Do we have any alternatives?\n",
    "- That's when **Gini Impurity** comes into picture."
   ]
  },
  {
   "cell_type": "markdown",
   "metadata": {
    "id": "0mOkUgKs0sj6"
   },
   "source": [
    "---"
   ]
  },
  {
   "cell_type": "markdown",
   "metadata": {
    "id": "b14fmC3h0u3P"
   },
   "source": [
    "---"
   ]
  },
  {
   "cell_type": "markdown",
   "metadata": {
    "id": "sLvrymmrTmwL"
   },
   "source": [
    "### What is Gini Impurity?\n",
    "\n",
    "Similar to entropy, Gini is also\n",
    "- A measure of impurity of nodes.\n",
    "\n",
    "\\\n",
    "#### But how do we calculate Gini Impurity?\n"
   ]
  },
  {
   "cell_type": "markdown",
   "metadata": {
    "id": "JNwP9hFYWDoM"
   },
   "source": [
    "<img src=https://d2beiqkhq929f0.cloudfront.net/public_assets/assets/000/041/088/original/Screenshot_2023-07-31_at_10.27.40_AM.png?1690780045 width=700>"
   ]
  },
  {
   "cell_type": "markdown",
   "metadata": {
    "id": "FzFqffO0cz_j"
   },
   "source": [
    "Let's take an example to compare **Entropy vs. Gini Impurity**\n",
    "\n",
    "\\\n",
    "Suppose you have a binary classification problem.\n",
    "- $y ~ \\epsilon ~ \\{red, blue\\}$\n",
    "\n"
   ]
  },
  {
   "cell_type": "markdown",
   "metadata": {
    "id": "Z_rnJoMjWNgL"
   },
   "source": [
    "<img src=https://d2beiqkhq929f0.cloudfront.net/public_assets/assets/000/041/089/original/Screenshot_2023-07-31_at_10.27.49_AM.png?1690780085 width=700>"
   ]
  },
  {
   "cell_type": "markdown",
   "metadata": {
    "id": "MG0Wvbl5N0bn"
   },
   "source": [
    "#### Visualizing Gini Impurity"
   ]
  },
  {
   "cell_type": "markdown",
   "metadata": {
    "id": "GIpsQNPIuAtR"
   },
   "source": [
    "Desmos plot: https://www.desmos.com/calculator/yhcwubphxs"
   ]
  },
  {
   "cell_type": "code",
   "execution_count": 1,
   "metadata": {
    "colab": {
     "base_uri": "https://localhost:8080/",
     "height": 396
    },
    "id": "LOoCgCeprKSx",
    "outputId": "1922754f-df87-420f-f8ee-582d3f6e4365"
   },
   "outputs": [
    {
     "data": {
      "text/html": [
       "\n",
       "        <iframe\n",
       "            width=\"700\"\n",
       "            height=\"375\"\n",
       "            src=\"https://www.desmos.com/calculator/yhcwubphxs\"\n",
       "            frameborder=\"0\"\n",
       "            allowfullscreen\n",
       "            \n",
       "        ></iframe>\n",
       "        "
      ],
      "text/plain": [
       "<IPython.lib.display.IFrame at 0x26a88ea3100>"
      ]
     },
     "execution_count": 1,
     "metadata": {},
     "output_type": "execute_result"
    }
   ],
   "source": [
    "from IPython.display import IFrame\n",
    "\n",
    "IFrame(src=\"https://www.desmos.com/calculator/yhcwubphxs\", width=700, height=375)"
   ]
  },
  {
   "cell_type": "markdown",
   "metadata": {
    "id": "WeqQuBaMWTIk"
   },
   "source": [
    "<img src=https://d2beiqkhq929f0.cloudfront.net/public_assets/assets/000/041/090/original/Screenshot_2023-07-31_at_10.27.56_AM.png?1690780130 width=700>"
   ]
  },
  {
   "cell_type": "markdown",
   "metadata": {
    "id": "eN9EbPApM1OW"
   },
   "source": [
    "```\n",
    "Quiz 1:\n",
    "\n",
    "A decision tree model uses Gini impurity as the splitting criterion.\n",
    "If a node has 60 instances of class A and 40 instances of class B,\n",
    "what is the Gini impurity at that node?\n",
    "\n",
    "A. 0.24\n",
    "B. 0.4\n",
    "C. 0.6\n",
    "D. 0.48\n",
    "\n",
    "Ans: D. 0.48\n",
    "```\n",
    "```\n",
    "Soln:\n",
    "Gini impurity = 1 - (p(A)^2 + p(B)^2)\n",
    "\n",
    "p(A) = 60 / 100 = 0.6\n",
    "p(B) = 40 / 100 = 0.4\n",
    "\n",
    "Gini impurity = 1 - (0.6^2 + 0.4^2)\n",
    "= 1 - (0.36 + 0.16)\n",
    "= 1 - 0.52\n",
    "= 0.48\n",
    "\n",
    "Therefore, the Gini impurity at that node is 0.48.\n",
    "```"
   ]
  },
  {
   "cell_type": "markdown",
   "metadata": {
    "id": "RBnc1SoVail5"
   },
   "source": [
    "#### How do we calculate Information Gain for Gini Impurity?\n",
    "\n",
    "$IG = GI_{parent~node} - Weighted~GI_{child~nodes}$"
   ]
  },
  {
   "cell_type": "markdown",
   "metadata": {
    "id": "lBzcFeh1sSd_"
   },
   "source": [
    "### Extra reading material\n",
    "\n",
    "Functions for calculating...\n",
    "- Gini impurity\n",
    "- Weighted gini impurity\n",
    "- Information Gain using gini impurity\n",
    "\n",
    "Link: https://colab.research.google.com/drive/1Cf6Bt6sQVYBbvnhtR3cPQENUO4DRGjMP"
   ]
  },
  {
   "cell_type": "markdown",
   "metadata": {
    "id": "fSHxHCQLWmC-"
   },
   "source": [
    "<img src=https://d2beiqkhq929f0.cloudfront.net/public_assets/assets/000/041/091/original/Screenshot_2023-07-31_at_10.28.04_AM.png?1690780165 width=700>"
   ]
  },
  {
   "cell_type": "markdown",
   "metadata": {
    "id": "Q0q8DBzI0x4H"
   },
   "source": [
    "---"
   ]
  },
  {
   "cell_type": "markdown",
   "metadata": {
    "id": "F_wrwHyIOotR"
   },
   "source": [
    "## How to split on numerical features?\n",
    "\n",
    "I hope you remember that our data contains both,\n",
    "- Categorical features\n",
    "- Numerical features\n",
    "\n",
    "\\\n",
    "We already know that for Categorical feature,\n",
    "- DT splits data based on distinct categories."
   ]
  },
  {
   "cell_type": "markdown",
   "metadata": {
    "id": "9iyGbjY-Wr6s"
   },
   "source": [
    "<img src= https://d2beiqkhq929f0.cloudfront.net/public_assets/assets/000/041/092/original/Screenshot_2023-07-31_at_10.28.12_AM.png?1690780208 width=700>"
   ]
  },
  {
   "cell_type": "markdown",
   "metadata": {
    "id": "zC1hYpFMPyWu"
   },
   "source": [
    "#### What happens when we have a Numerical feature?\n",
    "\n",
    "DT uses a **threshold-based approach**.\n",
    "\n",
    "  - Consider a numerical feature $f_1$ with $n$ different values.\n",
    "  - We select a threshold value (say $n_i$) that splits the data into two subsets.\n",
    "  - This is done on the basis of a condition such as:\n",
    "    - $f_1 < n_i$\n",
    "    - $f_1 > n_i$\n",
    "    - $f_1 = n_i$\n",
    "\n",
    "\\\n",
    "#### But how do we choose the threshold?\n",
    "\n",
    "The goal is to find the $threshold+condition$ that gives us **maximum information gain** after splitting.\n",
    "\n"
   ]
  },
  {
   "cell_type": "markdown",
   "metadata": {
    "id": "Jrc3qynYXCXV"
   },
   "source": []
  },
  {
   "cell_type": "markdown",
   "metadata": {
    "id": "Hvq9YfZLW3gT"
   },
   "source": [
    "<img src=https://d2beiqkhq929f0.cloudfront.net/public_assets/assets/000/041/093/original/Screenshot_2023-07-31_at_10.28.20_AM.png?1690780248 width=700>"
   ]
  },
  {
   "cell_type": "markdown",
   "metadata": {
    "id": "-0g9_zxiXDQW"
   },
   "source": [
    "\n",
    "1. Arrange the values in $f_1$ in increasing order\n",
    "2. Set each value of $f_1$ i.e. ($n_1$, $n_2$, $n_3$,..) as threshold\n",
    "3. Calculate the IG of the split for all values"
   ]
  },
  {
   "cell_type": "markdown",
   "metadata": {
    "id": "NEdkFvJDXFTZ"
   },
   "source": [
    "<img src=https://d2beiqkhq929f0.cloudfront.net/public_assets/assets/000/041/094/original/Screenshot_2023-07-31_at_10.28.26_AM.png?1690780348 width=700>"
   ]
  },
  {
   "cell_type": "markdown",
   "metadata": {
    "id": "l1-aYf1EXFiL"
   },
   "source": [
    "\n",
    "4. Which gives us $n$ IG values say IG$_1$, IG$_2$, IG$_3$ ... IG$_n$\n",
    "5. Choose whichever threshold gives the highest IG."
   ]
  },
  {
   "cell_type": "markdown",
   "metadata": {
    "id": "6kAgu9RBV19i"
   },
   "source": [
    "#### But what if two features yield equal IG?\n",
    "  - In such case,\n",
    "    - We can never know for sure which feature would be the best.\n",
    "    - So we can randomly select any feature to split the node."
   ]
  },
  {
   "cell_type": "markdown",
   "metadata": {
    "id": "6JIm6vzjF4Rp"
   },
   "source": [
    "#### Do you see any problem in splitting on numerical features?\n",
    "\n",
    "\\\n",
    "**Time Complexity**\n",
    "  - For a feature with 1000 different values,\n",
    "  - We have to compute 1000 different splits.\n",
    "  - This is very unefficient.\n",
    "\n",
    "\\\n"
   ]
  },
  {
   "cell_type": "markdown",
   "metadata": {
    "id": "VPRub1IaXcQB"
   },
   "source": [
    "#### How can we make it more efficient?\n",
    "\n",
    "By binning the feature values.\n",
    "  - Suppose we have an `Age` column.\n",
    "    - Range: [20, 60]\n"
   ]
  },
  {
   "cell_type": "markdown",
   "metadata": {
    "id": "AKnZHcCDXdXq"
   },
   "source": [
    "<img src=https://d2beiqkhq929f0.cloudfront.net/public_assets/assets/000/041/095/original/Screenshot_2023-07-31_at_10.28.37_AM.png?1690780522 width=700>"
   ]
  },
  {
   "cell_type": "markdown",
   "metadata": {
    "id": "sbvGRQfAXdn5"
   },
   "source": [
    "\n",
    "  - We can bin the values into `Age Groups`.\n",
    "    - Bins: [20, 30), [30, 40), [40, 50), [50, 60]"
   ]
  },
  {
   "cell_type": "markdown",
   "metadata": {
    "id": "dq7-9yag02Sg"
   },
   "source": [
    "---"
   ]
  },
  {
   "cell_type": "markdown",
   "metadata": {
    "id": "5DY4UhX5YA48"
   },
   "source": [
    "## Overfit Vs Underfit\n"
   ]
  },
  {
   "cell_type": "markdown",
   "metadata": {
    "id": "aPIXEuNQYDLk"
   },
   "source": [
    "#### Recall in the last lecture we calculated the train & test accuracy for our DT -\n",
    "\n",
    "- Accuracy -\n",
    "  - Train: 1.0\n",
    "  - Test: 0.76\n"
   ]
  },
  {
   "cell_type": "markdown",
   "metadata": {
    "id": "FleZP1PKX915"
   },
   "source": [
    "<img src=https://d2beiqkhq929f0.cloudfront.net/public_assets/assets/000/041/096/original/Screenshot_2023-07-31_at_10.28.44_AM.png?1690780545 width=700>"
   ]
  },
  {
   "cell_type": "markdown",
   "metadata": {
    "id": "4KFITXUUYE5N"
   },
   "source": [
    "\\\n",
    "#### What can we conclude from this?\n",
    "\n",
    "- There's a big difference in training & test accuracy.\n",
    "- It means, the DT model is **overfitting** the data.\n",
    "\n",
    "\\\n",
    "#### When do you think a DT will **overfit**?\n",
    "\n",
    "If all the leaf nodes are pure then,\n",
    "- the DT would have 100% accuracy on training set."
   ]
  },
  {
   "cell_type": "markdown",
   "metadata": {
    "id": "AYPHXV2XYPw-"
   },
   "source": [
    "\\\n",
    "#### Why does DT overfit as the depth increases?\n",
    "\n",
    "Imagine we have 1000 data points.\n",
    "- as the depth increases, the data set becomes smaller.\n",
    "\n",
    "By the time we reach the leaf node,\n",
    "- there will be fewer points.\n",
    "- these points coule be noise/outliers."
   ]
  },
  {
   "cell_type": "markdown",
   "metadata": {
    "id": "5bpe9nR5YJ3r"
   },
   "source": [
    "<img src=https://d2beiqkhq929f0.cloudfront.net/public_assets/assets/000/041/097/original/Screenshot_2023-07-31_at_10.28.51_AM.png?1690780598 width=700>"
   ]
  },
  {
   "cell_type": "markdown",
   "metadata": {
    "id": "fgABfTXDWUzf"
   },
   "source": [
    "\n",
    "\n",
    "\n",
    "\n",
    "\n",
    "\n",
    "\n",
    "This results in **Overfitting**.\n",
    "\n"
   ]
  },
  {
   "cell_type": "markdown",
   "metadata": {
    "id": "pkuh8nV4vZmf"
   },
   "source": [
    "```\n",
    "Quiz 2:\n",
    "\n",
    "Which of the following statements is true about overfitting in decision trees?\n",
    "\n",
    "A. It leads to high bias and high variance.\n",
    "B. It leads to low bias and high variance.\n",
    "C. It leads to high bias and low variance.\n",
    "D. It leads to low bias and low variance.\n",
    "\n",
    "ANS: B. It leads to low bias and high variance.\n",
    "```"
   ]
  },
  {
   "cell_type": "markdown",
   "metadata": {
    "id": "3qSGLqTQxXK-"
   },
   "source": [
    "#### How can we resolve this problem?\n",
    "  \n",
    "  - Stop splitting nodes before they become pure.\n",
    "  - Or in simpler terms, by reducing the **Depth of the DT**."
   ]
  },
  {
   "cell_type": "markdown",
   "metadata": {
    "id": "u4LYe5rV0rHg"
   },
   "source": [
    "```\n",
    "QUIZ 3:\n",
    "\n",
    "What is pruning in decision trees?\n",
    "\n",
    "A. The process of removing outliers\n",
    "B. The process of handling missing values\n",
    "C. The process removing unnecessary branches\n",
    "D. process of transforming categorical variables\n",
    "\n",
    "ANS: C. The process removing unnecessary branches.\n",
    "```"
   ]
  },
  {
   "cell_type": "markdown",
   "metadata": {
    "id": "ncN1il-6ZuMH"
   },
   "source": [
    "#### But what if the depth is too low?\n",
    "\n",
    "\\\n",
    "Typically, we let the tree grow until we get a pure node.\n",
    "\n",
    "What if we stop the tree growth at a depth=2?\n",
    "\n",
    "\n",
    "\n",
    "\n",
    "\n",
    "\n",
    "\n",
    "\n",
    "\n",
    "\n",
    "\n",
    "\n"
   ]
  },
  {
   "cell_type": "markdown",
   "metadata": {
    "id": "RWhU4a4s4ZSa"
   },
   "source": [
    "This would mean...\n",
    "- Lot of -ve points might also fall in that leaf node,\n",
    "- and they'll be incorrectly classified as +ve.\n",
    "\n",
    "\\\n",
    "This results in **Underfitting**.\n",
    "\n",
    "\\\n",
    "If the tree depth is less,\n",
    "- it means the splits are less.\n",
    "\n",
    "Hence, **number of hyper-planes dividing the data space are less** </br> i.e., less variance and more bias."
   ]
  },
  {
   "cell_type": "markdown",
   "metadata": {
    "id": "VUlhwN_7_odY"
   },
   "source": [
    "#### Extreme Case\n",
    "\n",
    "```\n",
    "QUIZ 4:\n",
    "\n",
    "What if the tree depth is zero?\n",
    "\n",
    "It'll mean that the tree has\n",
    "A. a single node\n",
    "B. at most 2 nodes\n",
    "C. at most 3 nodes\n",
    "\n",
    "ANS: A. a single node\n",
    "\n",
    "```"
   ]
  },
  {
   "cell_type": "markdown",
   "metadata": {
    "id": "kUMiom9bCzoU"
   },
   "source": [
    "**Conclusion:**\n",
    "\n",
    "- A **deep tree** usually Overfits the training data.\n",
    "- A **shallow tree** usually Underfits the training data.\n",
    "\n"
   ]
  },
  {
   "cell_type": "markdown",
   "metadata": {
    "id": "i7nm-JEHYold"
   },
   "source": [
    "<img src=https://d2beiqkhq929f0.cloudfront.net/public_assets/assets/000/041/098/original/Screenshot_2023-07-31_at_10.28.58_AM.png?1690780751 width=700>"
   ]
  },
  {
   "cell_type": "markdown",
   "metadata": {
    "id": "SM5p2GUZFPRB"
   },
   "source": [
    "### Tradeoff\n",
    "\n",
    "#### How do we find the right depth of our DT?\n",
    "\n",
    "Our goal is to -\n",
    "- not overfit outliers\n",
    "- not underfit training samples\n",
    "\n",
    "\\\n",
    "The idea here is to -\n",
    "- treat **depth** as a hyperparameter\n",
    "- and find its optimal value."
   ]
  },
  {
   "cell_type": "markdown",
   "metadata": {
    "id": "asHxBu2F08c7"
   },
   "source": [
    "---"
   ]
  },
  {
   "cell_type": "markdown",
   "metadata": {
    "id": "kYs_JTaRDsE-"
   },
   "source": [
    "## Hyperparameters\n",
    "\n",
    "Let's look at various DT hyperparmeters available in the sklearn library."
   ]
  },
  {
   "cell_type": "markdown",
   "metadata": {
    "id": "rvSk_QmnGJiz"
   },
   "source": [
    "<img src='https://drive.google.com/uc?id=1z8KTHw3qq0wonrM-zxnSD_Tunh477zLv'>\n",
    "\n",
    "sklearn DT - https://scikit-learn.org/stable/modules/generated/sklearn.tree.DecisionTreeClassifier.html"
   ]
  },
  {
   "cell_type": "markdown",
   "metadata": {
    "id": "HXEbToB4eUYR"
   },
   "source": [
    "#### What does each of these hyperparameters do?\n",
    "\n",
    "\\\n",
    "- **Criterion**:\n",
    "  - Defines which impurity measure to use.\n",
    "  - By default, it is set to Gini Impurity.\n",
    "  \n",
    "- **max_depth**:\n",
    "  - Defines maximium depth upto which a tree will grow.\n",
    "  - By default, it is **None** i.e.\n",
    "  - it'll grow until all leaves are pure.\n",
    "\n",
    "- **min_samples_split**:\n",
    "  - Defines the minimum no. of datapoints required to split further.\n",
    "  - Helps control depth which therefore prevents **overfit**.\n",
    "  - By default, it is 2.\n",
    "\n",
    "- **min_samples_leaf**:\n",
    "  - Defines the minimum no. of samples a leaf node can have.\n",
    "\n",
    "- **max_leaf_nodes**:\n",
    "  - Defines the maximum no. of leaf nodes a tree can have.\n",
    "\n",
    "- **max_features**:\n",
    "  - Selects features to be used while deciding the best split.\n",
    "  - By default, it considers all the features for split.\n",
    "\n",
    "- **class_weight**:\n",
    "  - Assign weights to different classes during training.\n",
    "  - Helps in dealing with imbalanced data.\n"
   ]
  },
  {
   "cell_type": "markdown",
   "metadata": {
    "id": "DbaD37-qP6-Y"
   },
   "source": [
    "```\n",
    "QUIZ 5:\n",
    "How the performance of a DT will be affected if we tend to increase maximum number of pure leaf nodes?\n",
    "\n",
    "A. Model will underfit\n",
    "B. Model will be optimized\n",
    "C. Model will overfit\n",
    "D. Can't be sure\n",
    "\n",
    "ANS: C. Model will overfit\n",
    "```\n",
    "\n",
    "\n"
   ]
  },
  {
   "cell_type": "markdown",
   "metadata": {
    "id": "4KmIjHLJTRsD"
   },
   "source": [
    "#### Tuning the **max_depth** hyperparameter to improve the model performance.\n",
    "\n",
    "\\\n",
    "We try multiple values of depth.\n",
    "- Train DTs using various depth values.\n",
    "- Check the CV error for each value.\n",
    "- Choose the one which gives lowest CV error."
   ]
  },
  {
   "cell_type": "code",
   "execution_count": 2,
   "metadata": {
    "id": "0oiHR_JPf5p8"
   },
   "outputs": [],
   "source": [
    "import pandas as pd\n",
    "import numpy as np"
   ]
  },
  {
   "cell_type": "code",
   "execution_count": 3,
   "metadata": {
    "colab": {
     "base_uri": "https://localhost:8080/"
    },
    "id": "YK15a4m5aZmd",
    "outputId": "227e80be-81a6-40ce-d112-779effc5c583"
   },
   "outputs": [
    {
     "name": "stderr",
     "output_type": "stream",
     "text": [
      "Downloading...\n",
      "From: https://drive.google.com/uc?id=19L3rYatfhbBL1r5MHrv-p_oM2wlvrhqk\n",
      "To: E:\\Scaler-Notes-Git\\DSML-Notes\\M-15 ML-Supervised Algorithms\\04 ML Decision Trees-2\\preprocessed_X_sm.pickle\n",
      "\n",
      "  0%|          | 0.00/534k [00:00<?, ?B/s]\n",
      " 98%|#########8| 524k/534k [00:00<00:00, 2.74MB/s]\n",
      "100%|##########| 534k/534k [00:00<00:00, 2.76MB/s]\n",
      "Downloading...\n",
      "From: https://drive.google.com/uc?id=1OHLKJwA3qZopKPvlKoRldM6BvA1A4dYF\n",
      "To: E:\\Scaler-Notes-Git\\DSML-Notes\\M-15 ML-Supervised Algorithms\\04 ML Decision Trees-2\\X_test.pickle\n",
      "\n",
      "  0%|          | 0.00/111k [00:00<?, ?B/s]\n",
      "100%|##########| 111k/111k [00:00<00:00, 55.6MB/s]\n",
      "Downloading...\n",
      "From: https://drive.google.com/uc?id=1N7O_fWCTJLu8SIa_paKcDEzllgpMk8sK\n",
      "To: E:\\Scaler-Notes-Git\\DSML-Notes\\M-15 ML-Supervised Algorithms\\04 ML Decision Trees-2\\y_sm.pickle\n",
      "\n",
      "  0%|          | 0.00/15.4k [00:00<?, ?B/s]\n",
      "100%|##########| 15.4k/15.4k [00:00<?, ?B/s]\n",
      "Downloading...\n",
      "From: https://drive.google.com/uc?id=12Bh2AN8LcZAlg20ehpQrEWccUDaSdsOG\n",
      "To: E:\\Scaler-Notes-Git\\DSML-Notes\\M-15 ML-Supervised Algorithms\\04 ML Decision Trees-2\\y_test.pickle\n",
      "\n",
      "  0%|          | 0.00/9.49k [00:00<?, ?B/s]\n",
      "100%|##########| 9.49k/9.49k [00:00<00:00, 9.47MB/s]\n"
     ]
    }
   ],
   "source": [
    "!gdown 19L3rYatfhbBL1r5MHrv-p_oM2wlvrhqk\n",
    "!gdown 1OHLKJwA3qZopKPvlKoRldM6BvA1A4dYF\n",
    "!gdown 1N7O_fWCTJLu8SIa_paKcDEzllgpMk8sK\n",
    "!gdown 12Bh2AN8LcZAlg20ehpQrEWccUDaSdsOG"
   ]
  },
  {
   "cell_type": "code",
   "execution_count": 4,
   "metadata": {
    "id": "lLOv-ppuaas8"
   },
   "outputs": [
    {
     "ename": "ModuleNotFoundError",
     "evalue": "No module named 'pandas.core.indexes.numeric'",
     "output_type": "error",
     "traceback": [
      "\u001b[1;31m---------------------------------------------------------------------------\u001b[0m",
      "\u001b[1;31mModuleNotFoundError\u001b[0m                       Traceback (most recent call last)",
      "Cell \u001b[1;32mIn[4], line 7\u001b[0m\n\u001b[0;32m      4\u001b[0m     X_train \u001b[38;5;241m=\u001b[39m pickle\u001b[38;5;241m.\u001b[39mload(handle)\n\u001b[0;32m      6\u001b[0m \u001b[38;5;28;01mwith\u001b[39;00m \u001b[38;5;28mopen\u001b[39m(\u001b[38;5;124m'\u001b[39m\u001b[38;5;124mX_test.pickle\u001b[39m\u001b[38;5;124m'\u001b[39m, \u001b[38;5;124m'\u001b[39m\u001b[38;5;124mrb\u001b[39m\u001b[38;5;124m'\u001b[39m) \u001b[38;5;28;01mas\u001b[39;00m handle:\n\u001b[1;32m----> 7\u001b[0m     X_test \u001b[38;5;241m=\u001b[39m \u001b[43mpickle\u001b[49m\u001b[38;5;241;43m.\u001b[39;49m\u001b[43mload\u001b[49m\u001b[43m(\u001b[49m\u001b[43mhandle\u001b[49m\u001b[43m)\u001b[49m\n\u001b[0;32m      9\u001b[0m \u001b[38;5;28;01mwith\u001b[39;00m \u001b[38;5;28mopen\u001b[39m(\u001b[38;5;124m'\u001b[39m\u001b[38;5;124my_sm.pickle\u001b[39m\u001b[38;5;124m'\u001b[39m, \u001b[38;5;124m'\u001b[39m\u001b[38;5;124mrb\u001b[39m\u001b[38;5;124m'\u001b[39m) \u001b[38;5;28;01mas\u001b[39;00m handle:\n\u001b[0;32m     10\u001b[0m     y_train \u001b[38;5;241m=\u001b[39m pickle\u001b[38;5;241m.\u001b[39mload(handle)\n",
      "\u001b[1;31mModuleNotFoundError\u001b[0m: No module named 'pandas.core.indexes.numeric'"
     ]
    }
   ],
   "source": [
    "import pickle\n",
    "# Load data (deserialize)\n",
    "with open('preprocessed_X_sm.pickle', 'rb') as handle:\n",
    "    X_train = pickle.load(handle)\n",
    "\n",
    "with open('X_test.pickle', 'rb') as handle:\n",
    "    X_test = pickle.load(handle)\n",
    "\n",
    "with open('y_sm.pickle', 'rb') as handle:\n",
    "    y_train = pickle.load(handle)\n",
    "\n",
    "with open('y_test.pickle', 'rb') as handle:\n",
    "    y_test = pickle.load(handle)"
   ]
  },
  {
   "cell_type": "code",
   "execution_count": null,
   "metadata": {
    "colab": {
     "base_uri": "https://localhost:8080/"
    },
    "id": "G84fR8mIl2co",
    "outputId": "95df0ad0-23a5-4786-f608-534ba16e964e"
   },
   "outputs": [],
   "source": [
    "from sklearn.tree import DecisionTreeClassifier\n",
    "from sklearn.model_selection import KFold, cross_validate, cross_val_score\n",
    "\n",
    "kfold = KFold(n_splits=10)\n",
    "\n",
    "depths = [3,4,5,67,9,11,13,15]\n",
    "\n",
    "for depth in depths:\n",
    "    tree_clf = DecisionTreeClassifier(random_state=7, max_depth=depth)\n",
    "\n",
    "    cv_acc_results = cross_validate(tree_clf, X_train, y_train, cv = kfold, scoring = 'accuracy', return_train_score = True)\n",
    "\n",
    "    print(f\"K-Fold for depth:{depth} Accuracy Mean: Train: {cv_acc_results['train_score'].mean()*100} Validation: {cv_acc_results['test_score'].mean()*100}\")\n",
    "    print(f\"K-Fold for depth: {depth} Accuracy Std: Train: {cv_acc_results['train_score'].std()*100} Validation: {cv_acc_results['test_score'].std()*100}\")\n",
    "    print('***************')"
   ]
  },
  {
   "cell_type": "markdown",
   "metadata": {
    "id": "LxNHmee7WmbM"
   },
   "source": [
    "#### Training with the best parameters -"
   ]
  },
  {
   "cell_type": "code",
   "execution_count": null,
   "metadata": {
    "id": "cxhFzQOVWks_"
   },
   "outputs": [],
   "source": [
    "tree_clf = DecisionTreeClassifier(random_state=7, max_depth=4)\n",
    "tree_clf=tree_clf.fit(X_train, y_train)\n",
    "pred = tree_clf.predict(X_test)"
   ]
  },
  {
   "cell_type": "markdown",
   "metadata": {
    "id": "ljqMbcbt1ACu"
   },
   "source": [
    "---"
   ]
  },
  {
   "cell_type": "markdown",
   "metadata": {
    "id": "sa-fwKT6D5ng"
   },
   "source": [
    "## How to **visualize** a DT?"
   ]
  },
  {
   "cell_type": "code",
   "execution_count": null,
   "metadata": {
    "id": "XS3Eh59ZD5ng"
   },
   "outputs": [],
   "source": [
    "from IPython.display import Image\n",
    "from six import StringIO\n",
    "from sklearn.tree import export_graphviz\n",
    "import pydot\n",
    "\n",
    "features = list(X_train.columns)\n",
    "\n",
    "# Ensure the target variable 'Attrition' is not there in the feature list"
   ]
  },
  {
   "cell_type": "code",
   "execution_count": null,
   "metadata": {
    "colab": {
     "base_uri": "https://localhost:8080/",
     "height": 334
    },
    "id": "ZpZ52OFdD5nh",
    "outputId": "f7a592dc-45d5-4501-9dcc-e34462c8809e"
   },
   "outputs": [],
   "source": [
    "dot_data = StringIO()\n",
    "export_graphviz(tree_clf, out_file=dot_data, feature_names=features, filled=True)\n",
    "graph = pydot.graph_from_dot_data(dot_data.getvalue())\n",
    "Image(graph[0].create_png())"
   ]
  },
  {
   "cell_type": "markdown",
   "metadata": {
    "id": "dESsg1wxD5nh"
   },
   "source": [
    "Did you notice the depth of the tree?\n",
    "- Neither too large\n",
    "- Nor too low\n",
    "\n",
    "\\\n",
    "#### What can we infer from this?\n",
    "\n",
    "If you notice the leaves,\n",
    "- not all of them are pure.\n",
    "- This means lesser variance."
   ]
  },
  {
   "cell_type": "markdown",
   "metadata": {
    "id": "Y2IZNzbUYFvd"
   },
   "source": [
    "### Confusion Matrix"
   ]
  },
  {
   "cell_type": "markdown",
   "metadata": {
    "id": "dgzlNggGXA6q"
   },
   "source": [
    "Plotting the confusion matrix for test data -\n",
    "\n",
    "Recall the **TP**, **TN**, **FN**, **FP** we discussed earlier.\n"
   ]
  },
  {
   "cell_type": "code",
   "execution_count": null,
   "metadata": {
    "colab": {
     "base_uri": "https://localhost:8080/",
     "height": 546
    },
    "id": "N-yz6bWXXKjv",
    "outputId": "fa7e970a-85b6-4ad6-cd11-ff3ea3592444"
   },
   "outputs": [],
   "source": [
    "# Confusion Matrix\n",
    "\n",
    "from sklearn.metrics import confusion_matrix\n",
    "import seaborn as sns\n",
    "import matplotlib.pyplot as plt\n",
    "\n",
    "cnf_matrix = confusion_matrix(y_test, pred)\n",
    "fig, ax = plt.subplots()\n",
    "\n",
    "# create heatmap\n",
    "sns.heatmap(pd.DataFrame(cnf_matrix), annot=True, cmap=\"YlGnBu\" ,fmt='g')\n",
    "\n",
    "plt.tight_layout()\n",
    "plt.title('Confusion Matrix')\n",
    "plt.ylabel('Actual label')\n",
    "plt.xlabel('Predicted label')"
   ]
  },
  {
   "cell_type": "markdown",
   "metadata": {
    "id": "6hfFzNK7YRpD"
   },
   "source": [
    "What did you notice?\n",
    "\n",
    "- Model is classifying class 0 quite well.\n",
    "- However, the number of FN is large."
   ]
  },
  {
   "cell_type": "markdown",
   "metadata": {
    "id": "RJQwCDN-1IGR"
   },
   "source": [
    "---"
   ]
  },
  {
   "cell_type": "markdown",
   "metadata": {
    "id": "G67KwdaQacX-"
   },
   "source": [
    "## Impact of Outliers\n",
    "\n",
    "```\n",
    "QUIZ 6:\n",
    "\n",
    "Which of the given DTs will be affected by an outlier?\n",
    "\n",
    "A. DT with depth=50\n",
    "B. DT with depth=5\n",
    "C. Both of them\n",
    "D. None of them\n",
    "\n",
    "ANS: DT with depth=50\n",
    "```\n",
    "\n",
    "#### But how can we say this?\n",
    "\n",
    "Because,\n",
    "- It all depends on the depth of DT.\n",
    "  - Outliers will only affect DTs with large depth.\n",
    "  - The DT will overfit on those outlier values."
   ]
  },
  {
   "cell_type": "markdown",
   "metadata": {
    "id": "L5r-uk9A1JQw"
   },
   "source": [
    "---"
   ]
  },
  {
   "cell_type": "markdown",
   "metadata": {
    "id": "ghMGuIaN-lTq"
   },
   "source": [
    "## Feature Scaling\n",
    "\n",
    "#### Does a DT requires standardised data?\n",
    "Nope!\n",
    "\n",
    "- Imagine we have a numerical feature $f_i$\\\n",
    "  and we standardize it.\n",
    "\n"
   ]
  },
  {
   "cell_type": "markdown",
   "metadata": {
    "id": "H3y29iqiY6Gv"
   },
   "source": [
    "<img src=https://d2beiqkhq929f0.cloudfront.net/public_assets/assets/000/041/099/original/Screenshot_2023-07-31_at_10.29.09_AM.png?1690780787 width=700>"
   ]
  },
  {
   "cell_type": "markdown",
   "metadata": {
    "id": "d535GTUZpP55"
   },
   "source": [
    "- But, does Impurity depends on values? \\\n",
    "Nope!\n",
    "  - it depends on number of +ve/ -ve datapoints\n",
    "  - and in turn dependend upon the thresold\n",
    "\n",
    "\\\n",
    "- So standardisation won't change/affect the threshold.\n",
    "- Hence, standardization doesn't impact the Entropy & IG."
   ]
  },
  {
   "cell_type": "markdown",
   "metadata": {
    "id": "7tmfBb3P1Me2"
   },
   "source": [
    "---"
   ]
  },
  {
   "cell_type": "markdown",
   "metadata": {
    "id": "csgXgiT-yq_q"
   },
   "source": [
    "## Encoding of categorial features\n",
    "\n",
    "Suppose we have a feature zipcode, with 10,000 distinct categories.\n",
    "\n",
    "\\\n",
    "#### What'll happen if we did **no encoding**?\n",
    "\n",
    "- We'll get 10,000 child nodes,\n",
    "- data set becomes too small in some nodes,\n",
    "- eventually the predictions will suffers.\n",
    "    \n",
    "Overall, not a good choice.\n",
    "\n",
    "\n"
   ]
  },
  {
   "cell_type": "markdown",
   "metadata": {
    "id": "DBtUC2ysZsW7"
   },
   "source": [
    "<img src=https://d2beiqkhq929f0.cloudfront.net/public_assets/assets/000/041/100/original/Screenshot_2023-07-31_at_10.29.16_AM.png?1690780996 width=700>"
   ]
  },
  {
   "cell_type": "markdown",
   "metadata": {
    "id": "hx0XfClRZwAh"
   },
   "source": [
    "\\\n",
    "#### How should we do the encoding then?  \n",
    "\n",
    "- We can do **target encoding**\n",
    "  - covert the categories to a numerical value.\n",
    "\n",
    "- We **should not do one hot encoding**\n",
    "  * that'll increase the dimensionality of the data.\n"
   ]
  },
  {
   "cell_type": "markdown",
   "metadata": {
    "id": "XUXIMHqR1Ny5"
   },
   "source": [
    "---"
   ]
  },
  {
   "cell_type": "markdown",
   "metadata": {
    "id": "JFFx6XiB2PHi"
   },
   "source": [
    "## DT for high dimension data"
   ]
  },
  {
   "cell_type": "markdown",
   "metadata": {
    "id": "AHPhbIMs2dQc"
   },
   "source": [
    "#### Why shouldn't we use DT for high dimensional data?\n",
    "\n",
    "If there are lots of features,\n",
    "- it takes a lot of time to\n",
    "- check every possible split and compute entropy.\n",
    "\n",
    "Hence the time to build a DT increases.\n",
    "\n",
    "\\\n",
    "#### So, what can be done about that?\n",
    "\n"
   ]
  },
  {
   "cell_type": "markdown",
   "metadata": {
    "id": "dGBrp-9sZ1rR"
   },
   "source": [
    "<img src=https://d2beiqkhq929f0.cloudfront.net/public_assets/assets/000/041/101/original/Screenshot_2023-07-31_at_10.29.27_AM.png?1690781041 width=700>"
   ]
  },
  {
   "cell_type": "markdown",
   "metadata": {
    "id": "b9MBmF6Y1PAc"
   },
   "source": [
    "---"
   ]
  },
  {
   "cell_type": "markdown",
   "metadata": {
    "id": "lXvhuF3Z2u4M"
   },
   "source": [
    "## Data Imbalance in DT\n",
    "\n",
    "#### How does an imbalanced dataset impacts DT?\n",
    "\n",
    "\\\n",
    "Since DTs aim to minimize impurity or maximize IG,\n",
    "- they may prioritize correctly classifying the majority class,\n",
    "- leading to poor performance on the minority class.\n",
    "\n",
    "\\\n",
    "#### So, how do we deal with this issue?\n",
    "\n",
    "- We can rebalance the data by:\n",
    "\n"
   ]
  },
  {
   "cell_type": "markdown",
   "metadata": {
    "id": "g7pI-sQ_Z9VW"
   },
   "source": [
    "<img src=https://d2beiqkhq929f0.cloudfront.net/public_assets/assets/000/041/102/original/Screenshot_2023-07-31_at_10.29.35_AM.png?1690781072 width=700>"
   ]
  },
  {
   "cell_type": "markdown",
   "metadata": {
    "id": "lVzbZNto1QUY"
   },
   "source": [
    "---"
   ]
  },
  {
   "cell_type": "markdown",
   "metadata": {
    "id": "fMT9P1XgNo7W"
   },
   "source": [
    "## Feature Importance\n",
    "\n",
    "#### How can we find which parameters are contributing more towards a prediction?\n",
    "\n",
    "- This is where **feature importance** comes into picture.\n",
    "\n",
    "\\\n",
    "#### How can we get Feature Importance for DT?\n",
    "\n",
    "Suppose we have 10,000 datapoints at root node.\n",
    "- A feature $f_i$ is used twice in splitting a DT.\n",
    "- At first split,\n",
    "  - No. of data points be 5,000 ($n_1$)\n",
    "  - Infromation Gain is IG$_1$\n",
    "- At second split,\n",
    "  - No. of data points be 500 ($n_2$)\n",
    "  - Infromation Gain is IG$_2$\n",
    "\n",
    "\\\n",
    "We calculate feature importance of $f_i$ by\n"
   ]
  },
  {
   "cell_type": "markdown",
   "metadata": {
    "id": "TkAMI44oaIZZ"
   },
   "source": [
    "<img src=https://d2beiqkhq929f0.cloudfront.net/public_assets/assets/000/041/103/original/Screenshot_2023-07-31_at_10.29.46_AM.png?1690781118 width=700>"
   ]
  },
  {
   "cell_type": "markdown",
   "metadata": {
    "id": "cvYzV9OopZUo"
   },
   "source": [
    "This is called **normalized information gain.**\n",
    "\n",
    "- We calculate normalized information gain for all features.\n",
    "- This Normalized IG value is used as feature importances.\n",
    "\n",
    "\\\n",
    "**NOTE:**\n",
    "- This is just one of the popular way of calculating feature importance.\n",
    "- Different libraries may use different methods of calculating it."
   ]
  },
  {
   "cell_type": "markdown",
   "metadata": {
    "id": "s64u0nqV8u_W"
   },
   "source": [
    "#### Code Walkthrough"
   ]
  },
  {
   "cell_type": "code",
   "execution_count": null,
   "metadata": {
    "colab": {
     "base_uri": "https://localhost:8080/",
     "height": 736
    },
    "id": "cY19KT0a7wum",
    "outputId": "543cdb9a-2251-400b-999b-8c003819862d"
   },
   "outputs": [],
   "source": [
    "importances = tree_clf.feature_importances_\n",
    "indices = np.argsort(importances)[::-1] # Sort feature importances in descending order\n",
    "names = [X_train.columns[i] for i in indices] # Rearrange feature names so they match the sorted feature importances\n",
    "\n",
    "plt.figure(figsize=(15, 7)) # Create plot\n",
    "plt.title(\"Feature Importance\") # Create plot title\n",
    "plt.bar(range(X_train.shape[1]), importances[indices]) # Add bars\n",
    "plt.xticks(range(X_train.shape[1]), names, rotation=90) # Add feature names as x-axis labels\n",
    "plt.show() # Show plot"
   ]
  },
  {
   "cell_type": "code",
   "execution_count": null,
   "metadata": {
    "colab": {
     "base_uri": "https://localhost:8080/",
     "height": 363
    },
    "id": "_nIJC5_Z8l7L",
    "outputId": "15772bcf-3e61-434a-9000-814322cf6d25"
   },
   "outputs": [],
   "source": [
    "df_param_coeff = pd.DataFrame(columns=['Feature', 'Coefficient'])\n",
    "for i in range(len(list(X_train.columns))):\n",
    "    feat = X_train.columns[i]\n",
    "    coeff = importances[i]\n",
    "    df_param_coeff.loc[i] = (feat, coeff)\n",
    "df_param_coeff.sort_values(by='Coefficient', ascending=False, inplace=True)\n",
    "df_param_coeff = df_param_coeff.reset_index(drop=True)\n",
    "df_param_coeff.head(10)"
   ]
  },
  {
   "cell_type": "markdown",
   "metadata": {
    "id": "U_xv-Cv78qJ9"
   },
   "source": [
    "#### What can we infer from the above graph?\n",
    "\n",
    "- `MaritalStatus_Single` is the most important feature.\n",
    "- Followed by `Department_Research & Development`, `JobInvolvement` and `JobRole`."
   ]
  },
  {
   "cell_type": "markdown",
   "metadata": {
    "id": "MrifG_8h1URT"
   },
   "source": [
    "---"
   ]
  },
  {
   "cell_type": "markdown",
   "metadata": {
    "id": "bcRkZ3FJvi3v"
   },
   "source": [
    "```\n",
    "Quiz 7:\n",
    "\n",
    "Which of the following given statements are correct?\n",
    "\n",
    "I : DT is supervised algo\n",
    "II : It can be used for classification\n",
    "III : It can be used for regression\n",
    "\n",
    "\n",
    "Options:\n",
    "A. Statement I\n",
    "B. Statement I and II\n",
    "C. Statement I and III\n",
    "D. All the statements are correct\n",
    "\n",
    "\n",
    "ANS: D. All the statements are correct\n",
    "```"
   ]
  },
  {
   "cell_type": "markdown",
   "metadata": {
    "id": "JRyavQf8afwb"
   },
   "source": [
    "<img src=https://d2beiqkhq929f0.cloudfront.net/public_assets/assets/000/041/105/original/Screenshot_2023-07-31_at_10.29.59_AM.png?1690781212 width=700>"
   ]
  },
  {
   "cell_type": "markdown",
   "metadata": {
    "id": "HXUnNBvcahw0"
   },
   "source": [
    "<img src=https://d2beiqkhq929f0.cloudfront.net/public_assets/assets/000/041/106/original/Screenshot_2023-07-31_at_10.30.17_AM.png?1690781238 width=700>"
   ]
  },
  {
   "cell_type": "markdown",
   "metadata": {
    "id": "Q7K_2rDNtg9P"
   },
   "source": [
    "## DT Regression"
   ]
  },
  {
   "cell_type": "markdown",
   "metadata": {
    "id": "ROV3QzHQwaST"
   },
   "source": [
    "### How do we use DT for regression ?"
   ]
  },
  {
   "cell_type": "markdown",
   "metadata": {
    "id": "RWNBLO0MwhUy"
   },
   "source": [
    "Let's understand this with an example\n",
    "\n",
    "\n",
    "Suppose we have data of marks scored by students\n",
    "- along with some bunch of categorical/ numerical features  ($f_1, f_2, f_3, f_4$)"
   ]
  },
  {
   "cell_type": "markdown",
   "metadata": {
    "id": "V-P7qk07v-P-"
   },
   "source": [
    "<img src=https://d2beiqkhq929f0.cloudfront.net/public_assets/assets/000/041/104/original/Screenshot_2023-07-31_at_10.29.53_AM.png?1690781155 width=700>"
   ]
  },
  {
   "cell_type": "markdown",
   "metadata": {
    "id": "R-oMfbCjyjYN"
   },
   "source": [
    "Using this data, we want to predict the marks.\n",
    "\n",
    "Remember that,\n",
    "- in regression problem, target variable (marks) is continuous.\n",
    "\n"
   ]
  },
  {
   "cell_type": "markdown",
   "metadata": {
    "id": "3lJt6vzCzGGJ"
   },
   "source": [
    "#### So, how does decision tree handle continous target variable ?"
   ]
  },
  {
   "cell_type": "markdown",
   "metadata": {
    "id": "PinzY4pdztL6"
   },
   "source": [
    "In order to so, let's breakdown the process DT follows:\n",
    "- It calculates the impurity\n",
    "- Splits the node to reduce the impurity\n",
    "- Makes the predictions i.e. calculate predicted value"
   ]
  },
  {
   "cell_type": "markdown",
   "metadata": {
    "id": "F4kT9Ten0LT-"
   },
   "source": [
    "In short, we need to find answers to following questions:\n",
    "\n",
    "- **How do we calculate impurity in case of regression ?**\n",
    "- **How do we calculated predicted value at each node ?**"
   ]
  },
  {
   "cell_type": "markdown",
   "metadata": {
    "id": "YD2chFX30gsk"
   },
   "source": [
    "Let's try answering these questions"
   ]
  },
  {
   "cell_type": "markdown",
   "metadata": {
    "id": "3-8Rdfxq0wlS"
   },
   "source": [
    "#### How to calculate impurity ?"
   ]
  },
  {
   "cell_type": "markdown",
   "metadata": {
    "id": "q0dWM_Yg0zga"
   },
   "source": [
    "**How did we calculate impurity in case of classification?**\n",
    "\n",
    "We did so by calculating entropy/gini index.\n",
    "\n",
    "\n",
    "**Can we use the same over here as well?**\n",
    "\n",
    "- We can't.\n",
    "    \n",
    "    **Why?**\n",
    "    \n",
    "    coz both of these involve calculating probabilities\n",
    "    - and regression doesn't have probabilities\n",
    "\n",
    "\n",
    "**What shall we use instead ?**\n",
    "\n",
    "\n",
    "Instead, we use **MSE**\n"
   ]
  },
  {
   "cell_type": "markdown",
   "metadata": {
    "id": "ueunfmXE3-ia"
   },
   "source": [
    "Now, in order to calculate MSE, we need two things\n",
    "- **Actual** target values (we already have these)\n",
    "- **predicted** target values (we don't have these)\n",
    "\n",
    "\n",
    "which brings us to our next question"
   ]
  },
  {
   "cell_type": "markdown",
   "metadata": {
    "id": "16gs-xla46rV"
   },
   "source": [
    "#### How to calculate predicted value ?"
   ]
  },
  {
   "cell_type": "markdown",
   "metadata": {
    "id": "kU0I5c2g49mW"
   },
   "source": [
    "```\n",
    "QUIZ 8:\n",
    "\n",
    "What do you think DT's approach for calculating predicted value for regression?\n",
    "\n",
    "\n",
    "A. Majority vote\n",
    "B. Take mean of all values present at given node.\n",
    "C. Select random value out of present target values at given node.\n",
    "D. Takes first present values as predicted value\n",
    "\n",
    "\n",
    "ANS: B. Take mean of all values present at the given node.\n",
    "```"
   ]
  },
  {
   "cell_type": "markdown",
   "metadata": {
    "id": "HJrMmyt_5rwf"
   },
   "source": [
    "Decision Trees makes the prediction by simply\n",
    "- taking **average of all values present at node**. i.e. mean value."
   ]
  },
  {
   "cell_type": "markdown",
   "metadata": {
    "id": "-UtAnPD66q6u"
   },
   "source": [
    "<img src=https://d2beiqkhq929f0.cloudfront.net/public_assets/assets/000/041/107/original/Screenshot_2023-07-31_at_10.30.24_AM.png?1690781264 width=700>"
   ]
  },
  {
   "cell_type": "markdown",
   "metadata": {
    "id": "WE_KHkez7LeE"
   },
   "source": [
    "Let's understand the whole process with an example:"
   ]
  },
  {
   "cell_type": "markdown",
   "metadata": {
    "id": "K1hldIU37SKW"
   },
   "source": [
    "So, at root node we have all the datapoints present\n",
    "\n",
    "- We calculate the MSE @ root node."
   ]
  },
  {
   "cell_type": "markdown",
   "metadata": {
    "id": "7IE5qbjL7WG-"
   },
   "source": [
    "<img src=https://d2beiqkhq929f0.cloudfront.net/public_assets/assets/000/041/108/original/Screenshot_2023-07-31_at_10.30.32_AM.png?1690781312 width=700>"
   ]
  },
  {
   "cell_type": "markdown",
   "metadata": {
    "id": "AOk0b0aT9u8c"
   },
   "source": [
    "After calculating the predicted value and MSE\n",
    "\n",
    "Next step is\n",
    "- we want to **reduce the MSE**\n",
    "- as we want our prediction to be as close as to actual values\n",
    "\n",
    "\n",
    "So, in order to do so\n",
    "- we **split the node**."
   ]
  },
  {
   "cell_type": "markdown",
   "metadata": {
    "id": "KKbH02yM9_k_"
   },
   "source": [
    "We try all the features and\n",
    "- select one which gives us **maximum reduction in MSE**.\n",
    "\n",
    "\n",
    "So, we split the root node\n",
    "- calculate MSE for each child\n",
    "- combine child entropy using weighted average.\n",
    "\n",
    "and ultimately calculate **Information gain**"
   ]
  },
  {
   "cell_type": "markdown",
   "metadata": {
    "id": "cdVZ48519_iJ"
   },
   "source": [
    "<img src=https://d2beiqkhq929f0.cloudfront.net/public_assets/assets/000/041/109/original/Screenshot_2023-07-31_at_10.30.39_AM.png?1690781352 width=700>"
   ]
  },
  {
   "cell_type": "markdown",
   "metadata": {
    "id": "BLEbijmsBDRd"
   },
   "source": [
    "The splitting of nodes continues\n",
    "- until MSE is minimal\n",
    "- or based on the hyperparameter tuning."
   ]
  },
  {
   "cell_type": "markdown",
   "metadata": {
    "id": "AVvT71f2BQYV"
   },
   "source": [
    "Let's look into how how we do all this using code"
   ]
  },
  {
   "cell_type": "markdown",
   "metadata": {
    "id": "aoMyJ8F-BVJP"
   },
   "source": [
    "### Sklearn Implementation"
   ]
  },
  {
   "cell_type": "code",
   "execution_count": null,
   "metadata": {
    "id": "yvoEAHgbBl9u"
   },
   "outputs": [],
   "source": [
    "from sklearn.tree import DecisionTreeRegressor\n",
    "from sklearn.metrics import mean_squared_error\n",
    "from sklearn.model_selection import KFold, cross_validate\n",
    "import pandas as pd\n",
    "import numpy as np\n",
    "from matplotlib import pyplot as plt"
   ]
  },
  {
   "cell_type": "code",
   "execution_count": null,
   "metadata": {
    "colab": {
     "base_uri": "https://localhost:8080/"
    },
    "id": "fuErkg77KwiI",
    "outputId": "ec2e3672-14e6-4ab4-e20c-23a0b5f05459"
   },
   "outputs": [],
   "source": [
    "!gdown 176WcJFfaSz3YkO1TiGEg_EqWgJ4YQEwO"
   ]
  },
  {
   "cell_type": "code",
   "execution_count": null,
   "metadata": {
    "id": "Asy0YZrnKwiI"
   },
   "outputs": [],
   "source": [
    "regression_data = pd.read_csv('regData.csv')"
   ]
  },
  {
   "cell_type": "code",
   "execution_count": null,
   "metadata": {
    "colab": {
     "base_uri": "https://localhost:8080/",
     "height": 206
    },
    "id": "n5d8NgCFKwiI",
    "outputId": "965b1515-f06a-4299-c8b6-955b53811148"
   },
   "outputs": [],
   "source": [
    "regression_data.head()"
   ]
  },
  {
   "cell_type": "code",
   "execution_count": null,
   "metadata": {
    "colab": {
     "base_uri": "https://localhost:8080/"
    },
    "id": "C0-3Ae7vKwiI",
    "outputId": "78baee83-9ffe-4e4e-a021-4c8c62346d72"
   },
   "outputs": [],
   "source": [
    "regression_data.info()"
   ]
  },
  {
   "cell_type": "markdown",
   "metadata": {
    "id": "mCFnH9t-KwiJ"
   },
   "source": [
    "There are total of 600 datapoints"
   ]
  },
  {
   "cell_type": "code",
   "execution_count": null,
   "metadata": {
    "id": "K3OLEpVxKwiJ"
   },
   "outputs": [],
   "source": [
    "X = regression_data['X']\n",
    "y = regression_data['Y']"
   ]
  },
  {
   "cell_type": "markdown",
   "metadata": {
    "id": "LWHApjLDKwiJ"
   },
   "source": [
    "#### Plotting data"
   ]
  },
  {
   "cell_type": "code",
   "execution_count": null,
   "metadata": {
    "colab": {
     "base_uri": "https://localhost:8080/",
     "height": 544
    },
    "id": "QwJpFfkKKwiJ",
    "outputId": "4740fc01-6761-4420-decb-0e91b14aaa0e"
   },
   "outputs": [],
   "source": [
    "plt.figure(figsize = (20,10))\n",
    "plt.scatter(X,y)\n",
    "plt.xlabel('X')\n",
    "plt.ylabel('Y')\n",
    "plt.show()"
   ]
  },
  {
   "cell_type": "markdown",
   "metadata": {
    "id": "wrFTG2dpDaWB"
   },
   "source": [
    "Notice that,\n",
    "- simple linear regression will fail to fit a line on this type of data."
   ]
  },
  {
   "cell_type": "markdown",
   "metadata": {
    "id": "tL9Nqsq3KwiJ"
   },
   "source": [
    "#### Splitting data"
   ]
  },
  {
   "cell_type": "code",
   "execution_count": null,
   "metadata": {
    "id": "VTyB2LIqKwiJ"
   },
   "outputs": [],
   "source": [
    "from sklearn.model_selection import train_test_split\n",
    "X_train, X_test, y_train, y_test = train_test_split(X,\n",
    "                                                    y,\n",
    "                                                    test_size=0.25,\n",
    "                                                    random_state=43,\n",
    "                                                    shuffle = True)"
   ]
  },
  {
   "cell_type": "code",
   "execution_count": null,
   "metadata": {
    "id": "XPTfTkjXKwiJ"
   },
   "outputs": [],
   "source": [
    "X_train = X_train.values.reshape(-1,1)"
   ]
  },
  {
   "cell_type": "code",
   "execution_count": null,
   "metadata": {
    "id": "cBr-nY70KwiJ"
   },
   "outputs": [],
   "source": [
    "y_train = y_train.values"
   ]
  },
  {
   "cell_type": "code",
   "execution_count": null,
   "metadata": {
    "colab": {
     "base_uri": "https://localhost:8080/"
    },
    "id": "nUqJDxmUKwiJ",
    "outputId": "90b2e8d4-19db-4310-918d-82a3b1ff244b"
   },
   "outputs": [],
   "source": [
    "depths = [1,2,3,5,6,7,9,11]\n",
    "\n",
    "for depth in depths:\n",
    "    tree_reg = DecisionTreeRegressor(random_state=7, max_depth = depth, min_samples_split = 10, min_samples_leaf = 20)\n",
    "\n",
    "    kfold = KFold(n_splits=3)\n",
    "\n",
    "    # scoring is taken as negative mse as we maximize the scoring. maximizing negative MSE is same as minimizing MSE.\n",
    "    cv_acc_results = cross_validate(tree_reg, X_train, y_train, cv = kfold, scoring = 'neg_mean_squared_error', return_train_score = True)\n",
    "\n",
    "    print(f\"K-Fold for depth:{depth} -ve MSE Mean: Train: {cv_acc_results['train_score'].mean()*100} Validation: {cv_acc_results['test_score'].mean()*100}\")\n",
    "    print('***************')"
   ]
  },
  {
   "cell_type": "markdown",
   "metadata": {
    "id": "mz5G2WW-KwiJ"
   },
   "source": [
    "\n",
    "\n",
    "Notice, the regressor is overfitting.\n",
    "- This could be bcoz we have very less datapoints for training.\n",
    "- We can also try tuning the hyperparameters.\n",
    "\n"
   ]
  },
  {
   "cell_type": "markdown",
   "metadata": {
    "id": "LxF8CVr1KwiJ"
   },
   "source": [
    "#### Visualizing Decision Tree"
   ]
  },
  {
   "cell_type": "code",
   "execution_count": null,
   "metadata": {
    "id": "JVXVMHHIKwiJ"
   },
   "outputs": [],
   "source": [
    "features = list(regression_data.columns[0])"
   ]
  },
  {
   "cell_type": "code",
   "execution_count": null,
   "metadata": {
    "colab": {
     "base_uri": "https://localhost:8080/",
     "height": 75
    },
    "id": "_hUI3_kcKwiJ",
    "outputId": "32c32866-183c-4440-a1bb-f866c5558d0a"
   },
   "outputs": [],
   "source": [
    "tree_reg = DecisionTreeRegressor(random_state=7, max_depth = 2, min_samples_split = 20 )\n",
    "tree_reg.fit(X_train, y_train)"
   ]
  },
  {
   "cell_type": "code",
   "execution_count": null,
   "metadata": {
    "id": "K6ehYWDECUtf"
   },
   "outputs": [],
   "source": [
    "from IPython.display import Image\n",
    "from six import StringIO\n",
    "from sklearn.tree import export_graphviz\n",
    "import pydot"
   ]
  },
  {
   "cell_type": "code",
   "execution_count": null,
   "metadata": {
    "colab": {
     "base_uri": "https://localhost:8080/",
     "height": 376
    },
    "id": "WtLHtFz-KwiJ",
    "outputId": "10b53d26-e3aa-4ee8-9022-9b4af76b32ce"
   },
   "outputs": [],
   "source": [
    "dot_data = StringIO()\n",
    "export_graphviz(tree_reg, out_file=dot_data, feature_names=features, filled=True)\n",
    "graph = pydot.graph_from_dot_data(dot_data.getvalue())\n",
    "Image(graph[0].create_png())"
   ]
  },
  {
   "cell_type": "markdown",
   "metadata": {
    "id": "GuChMnv0KwiJ"
   },
   "source": [
    "#### Visualizing Regression Line"
   ]
  },
  {
   "cell_type": "code",
   "execution_count": null,
   "metadata": {
    "colab": {
     "base_uri": "https://localhost:8080/",
     "height": 730
    },
    "id": "az1_jD89KwiJ",
    "outputId": "c36c4694-a01b-4cbe-e9c6-3e51198532d3"
   },
   "outputs": [],
   "source": [
    "X_grid = np.arange(min(X_train), max(X_train), 0.01)\n",
    "X_grid = X_grid.reshape((len(X_grid), 1))\n",
    "plt.figure(figsize = (15,10))\n",
    "plt.scatter(X_train, y_train, color = 'red', label = 'Training data')\n",
    "plt.scatter (X_test, y_test, color = 'green', label = 'Test data')\n",
    "plt.plot(X_grid, tree_reg.predict(X_grid), color = 'blue')\n",
    "plt.title('Decision Tree Regression')\n",
    "plt.xlabel('X_train')\n",
    "plt.ylabel('Y')\n",
    "plt.legend()\n",
    "plt.show()"
   ]
  },
  {
   "cell_type": "markdown",
   "metadata": {
    "id": "YLSoCmHXC6iD"
   },
   "source": [
    "### Extra reading material\n",
    "\n",
    "**Scratch implementation for calculating split threshold for numerical feature**\n",
    "\n",
    "Link: https://colab.research.google.com/drive/1glFYa9-vHNDBHUysQj45ioAg8x6m9_B2?usp=sharing"
   ]
  },
  {
   "cell_type": "markdown",
   "metadata": {
    "id": "iHJOfE8fbN59"
   },
   "source": [
    "<img src=https://d2beiqkhq929f0.cloudfront.net/public_assets/assets/000/041/110/original/Screenshot_2023-07-31_at_10.30.46_AM.png?1690781396 width=700>"
   ]
  },
  {
   "cell_type": "markdown",
   "metadata": {
    "id": "TDVS4JcWbPmz"
   },
   "source": [
    "<img src=https://d2beiqkhq929f0.cloudfront.net/public_assets/assets/000/041/111/original/Screenshot_2023-07-31_at_10.30.53_AM.png?1690781423 width=700>"
   ]
  }
 ],
 "metadata": {
  "colab": {
   "provenance": []
  },
  "kernelspec": {
   "display_name": "Python 3 (ipykernel)",
   "language": "python",
   "name": "python3"
  },
  "language_info": {
   "codemirror_mode": {
    "name": "ipython",
    "version": 3
   },
   "file_extension": ".py",
   "mimetype": "text/x-python",
   "name": "python",
   "nbconvert_exporter": "python",
   "pygments_lexer": "ipython3",
   "version": "3.10.2"
  }
 },
 "nbformat": 4,
 "nbformat_minor": 1
}
