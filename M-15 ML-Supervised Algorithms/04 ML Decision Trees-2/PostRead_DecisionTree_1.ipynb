{
 "cells": [
  {
   "cell_type": "markdown",
   "metadata": {
    "id": "yq74JxEv_mnT"
   },
   "source": [
    "### Functions for calculating the followings:\n",
    "- Gini impurity\n",
    "- Weighted gini impurity\n",
    "- Information Gain using gini impurity"
   ]
  },
  {
   "cell_type": "code",
   "execution_count": 1,
   "metadata": {
    "colab": {
     "base_uri": "https://localhost:8080/"
    },
    "id": "_jrDhf01B0Zl",
    "outputId": "1da0fa83-6957-477f-a4cf-14663f1291b6"
   },
   "outputs": [
    {
     "name": "stderr",
     "output_type": "stream",
     "text": [
      "Downloading...\n",
      "From: https://drive.google.com/uc?id=1l53Fgkg1G1ekCxxgaDQ00EXrnSMTeJj-\n",
      "To: E:\\Scaler-Notes-Git\\DSML-Notes\\M-15 ML-Supervised Algorithms\\04 ML Decision Trees-2\\sample_data.csv\n",
      "\n",
      "  0%|          | 0.00/32.5k [00:00<?, ?B/s]\n",
      "100%|##########| 32.5k/32.5k [00:00<?, ?B/s]\n"
     ]
    }
   ],
   "source": [
    "!gdown  1l53Fgkg1G1ekCxxgaDQ00EXrnSMTeJj-"
   ]
  },
  {
   "cell_type": "code",
   "execution_count": 2,
   "metadata": {
    "id": "PZYCHqSbqao-"
   },
   "outputs": [],
   "source": [
    "import pandas as pd\n",
    "import numpy as np"
   ]
  },
  {
   "cell_type": "code",
   "execution_count": 3,
   "metadata": {
    "colab": {
     "base_uri": "https://localhost:8080/",
     "height": 206
    },
    "id": "Ikwr0foEB4Xz",
    "outputId": "66af20dc-fe76-4a33-ddfb-ef657ee1d607"
   },
   "outputs": [
    {
     "data": {
      "text/html": [
       "<div>\n",
       "<style scoped>\n",
       "    .dataframe tbody tr th:only-of-type {\n",
       "        vertical-align: middle;\n",
       "    }\n",
       "\n",
       "    .dataframe tbody tr th {\n",
       "        vertical-align: top;\n",
       "    }\n",
       "\n",
       "    .dataframe thead th {\n",
       "        text-align: right;\n",
       "    }\n",
       "</style>\n",
       "<table border=\"1\" class=\"dataframe\">\n",
       "  <thead>\n",
       "    <tr style=\"text-align: right;\">\n",
       "      <th></th>\n",
       "      <th>Gender</th>\n",
       "      <th>Age_less_35</th>\n",
       "      <th>JobRole</th>\n",
       "      <th>Attrition</th>\n",
       "    </tr>\n",
       "  </thead>\n",
       "  <tbody>\n",
       "    <tr>\n",
       "      <th>0</th>\n",
       "      <td>Male</td>\n",
       "      <td>True</td>\n",
       "      <td>Laboratory Technician</td>\n",
       "      <td>0</td>\n",
       "    </tr>\n",
       "    <tr>\n",
       "      <th>1</th>\n",
       "      <td>Male</td>\n",
       "      <td>False</td>\n",
       "      <td>Sales Executive</td>\n",
       "      <td>1</td>\n",
       "    </tr>\n",
       "    <tr>\n",
       "      <th>2</th>\n",
       "      <td>Male</td>\n",
       "      <td>True</td>\n",
       "      <td>Sales Representative</td>\n",
       "      <td>1</td>\n",
       "    </tr>\n",
       "    <tr>\n",
       "      <th>3</th>\n",
       "      <td>Female</td>\n",
       "      <td>False</td>\n",
       "      <td>Healthcare Representative</td>\n",
       "      <td>0</td>\n",
       "    </tr>\n",
       "    <tr>\n",
       "      <th>4</th>\n",
       "      <td>Male</td>\n",
       "      <td>True</td>\n",
       "      <td>Sales Executive</td>\n",
       "      <td>0</td>\n",
       "    </tr>\n",
       "  </tbody>\n",
       "</table>\n",
       "</div>"
      ],
      "text/plain": [
       "   Gender  Age_less_35                    JobRole  Attrition\n",
       "0    Male         True      Laboratory Technician          0\n",
       "1    Male        False            Sales Executive          1\n",
       "2    Male         True       Sales Representative          1\n",
       "3  Female        False  Healthcare Representative          0\n",
       "4    Male         True            Sales Executive          0"
      ]
     },
     "execution_count": 3,
     "metadata": {},
     "output_type": "execute_result"
    }
   ],
   "source": [
    "sample_data = pd.read_csv('sample_data.csv')\n",
    "sample_data.head()"
   ]
  },
  {
   "cell_type": "code",
   "execution_count": 4,
   "metadata": {
    "colab": {
     "base_uri": "https://localhost:8080/"
    },
    "id": "gQo8HcXwCBOS",
    "outputId": "30cd15a6-1eb1-497f-effe-2eb2cb232a0a"
   },
   "outputs": [
    {
     "data": {
      "text/plain": [
       "Attrition\n",
       "0    831\n",
       "1    169\n",
       "Name: count, dtype: int64"
      ]
     },
     "execution_count": 4,
     "metadata": {},
     "output_type": "execute_result"
    }
   ],
   "source": [
    "sample_data.Attrition.value_counts()"
   ]
  },
  {
   "cell_type": "code",
   "execution_count": 5,
   "metadata": {
    "id": "6Oxv9L2bn4QR"
   },
   "outputs": [],
   "source": [
    "def gini_impurity(y):\n",
    "  p = y.value_counts()/y.shape[0]\n",
    "  gini = 1-np.sum(p**2)\n",
    "\n",
    "  return gini"
   ]
  },
  {
   "cell_type": "code",
   "execution_count": 6,
   "metadata": {
    "id": "h3S6BmB2n_cn"
   },
   "outputs": [],
   "source": [
    "def calculate_weighted_gini(feature, y):\n",
    "    categories = feature.unique()\n",
    "\n",
    "    weighted_gini_impurity = 0\n",
    "\n",
    "    for category in categories:\n",
    "        y_category = y[feature == category]\n",
    "        gini_impurity_category = gini_impurity(y_category)\n",
    "        weighted_gini_impurity += y_category.shape[0]/y.shape[0]*gini_impurity_category\n",
    "\n",
    "    return weighted_gini_impurity"
   ]
  },
  {
   "cell_type": "code",
   "execution_count": 7,
   "metadata": {
    "id": "nUiIskGAoDIQ"
   },
   "outputs": [],
   "source": [
    "def information_gain_gini(feature, y):\n",
    "\n",
    "    parent_gini = gini_impurity(y)\n",
    "    child_gini = calculate_weighted_gini(feature,y)\n",
    "\n",
    "    ig = parent_gini - child_gini\n",
    "\n",
    "    return ig"
   ]
  },
  {
   "cell_type": "markdown",
   "metadata": {
    "id": "_SGKH2bxDibf"
   },
   "source": [
    "Gini impurity at root node -"
   ]
  },
  {
   "cell_type": "code",
   "execution_count": 8,
   "metadata": {
    "colab": {
     "base_uri": "https://localhost:8080/"
    },
    "id": "BE4jkur1CuEO",
    "outputId": "69406488-8507-42a8-e2cc-7ddb939af113"
   },
   "outputs": [
    {
     "data": {
      "text/plain": [
       "0.28087799999999996"
      ]
     },
     "execution_count": 8,
     "metadata": {},
     "output_type": "execute_result"
    }
   ],
   "source": [
    "gini_impurity(sample_data.Attrition)"
   ]
  },
  {
   "cell_type": "markdown",
   "metadata": {
    "id": "B3nMZ_FHDpRK"
   },
   "source": [
    "Weighted gini impurity of child for `JobRole` -"
   ]
  },
  {
   "cell_type": "code",
   "execution_count": 9,
   "metadata": {
    "colab": {
     "base_uri": "https://localhost:8080/"
    },
    "id": "Avr8hABYC1eQ",
    "outputId": "1cebf7db-3c6b-41cd-d75c-db6c0cc89b1e"
   },
   "outputs": [
    {
     "data": {
      "text/plain": [
       "0.26022396036321827"
      ]
     },
     "execution_count": 9,
     "metadata": {},
     "output_type": "execute_result"
    }
   ],
   "source": [
    "calculate_weighted_gini(sample_data.JobRole, sample_data.Attrition)"
   ]
  },
  {
   "cell_type": "markdown",
   "metadata": {
    "id": "TAYPxWcXDtuY"
   },
   "source": [
    "Information Gain using gini impurity for `JobRole` -"
   ]
  },
  {
   "cell_type": "code",
   "execution_count": 10,
   "metadata": {
    "colab": {
     "base_uri": "https://localhost:8080/"
    },
    "id": "JwrQl7l9DDeg",
    "outputId": "f31435f5-55fa-4162-efae-6c24fdf0ec80"
   },
   "outputs": [
    {
     "data": {
      "text/plain": [
       "0.020654039636781696"
      ]
     },
     "execution_count": 10,
     "metadata": {},
     "output_type": "execute_result"
    }
   ],
   "source": [
    "information_gain_gini(sample_data.JobRole, sample_data.Attrition)"
   ]
  },
  {
   "cell_type": "markdown",
   "metadata": {
    "id": "_EvvgR45DzrO"
   },
   "source": [
    "Comparing Information Gain (using gini) for features -"
   ]
  },
  {
   "cell_type": "code",
   "execution_count": 11,
   "metadata": {
    "colab": {
     "base_uri": "https://localhost:8080/"
    },
    "id": "dwrRQ_CkDLX2",
    "outputId": "e7b28999-3d88-4f47-d8c4-a88f29742a5e"
   },
   "outputs": [
    {
     "name": "stdout",
     "output_type": "stream",
     "text": [
      "Information Gain for Gender is 1.2832567979348397e-06\n",
      "Information Gain for Age_less_35 is 0.008400808101418078\n",
      "Information Gain for JobRole is 0.020654039636781696\n"
     ]
    }
   ],
   "source": [
    "for feature in sample_data.columns[:-1]:\n",
    "    print(f'Information Gain for {feature} is {information_gain_gini(sample_data[feature],sample_data.Attrition)}')"
   ]
  },
  {
   "cell_type": "code",
   "execution_count": null,
   "metadata": {
    "id": "BoXaZlcTv3X6"
   },
   "outputs": [],
   "source": []
  }
 ],
 "metadata": {
  "colab": {
   "provenance": []
  },
  "kernelspec": {
   "display_name": "Python 3 (ipykernel)",
   "language": "python",
   "name": "python3"
  },
  "language_info": {
   "codemirror_mode": {
    "name": "ipython",
    "version": 3
   },
   "file_extension": ".py",
   "mimetype": "text/x-python",
   "name": "python",
   "nbconvert_exporter": "python",
   "pygments_lexer": "ipython3",
   "version": "3.10.2"
  }
 },
 "nbformat": 4,
 "nbformat_minor": 1
}
