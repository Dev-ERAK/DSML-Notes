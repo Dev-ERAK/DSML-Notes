{
 "cells": [
  {
   "cell_type": "markdown",
   "metadata": {
    "id": "GchOChVvpIJ6"
   },
   "source": [
    "## Scratch impl of DT"
   ]
  },
  {
   "cell_type": "markdown",
   "metadata": {
    "id": "E3SyzIzepu71"
   },
   "source": [
    "#### Loading data"
   ]
  },
  {
   "cell_type": "code",
   "execution_count": 1,
   "metadata": {
    "colab": {
     "base_uri": "https://localhost:8080/"
    },
    "id": "_jrDhf01B0Zl",
    "outputId": "8e18f7b9-5346-4f74-98a5-6cb9e6d24418"
   },
   "outputs": [
    {
     "name": "stderr",
     "output_type": "stream",
     "text": [
      "Downloading...\n",
      "From: https://drive.google.com/uc?id=1l53Fgkg1G1ekCxxgaDQ00EXrnSMTeJj-\n",
      "To: E:\\Scaler-Notes-Git\\DSML-Notes\\M-15 ML-Supervised Algorithms\\03 ML Decision Trees-1\\sample_data.csv\n",
      "\n",
      "  0%|          | 0.00/32.5k [00:00<?, ?B/s]\n",
      "100%|##########| 32.5k/32.5k [00:00<00:00, 1.24MB/s]\n"
     ]
    }
   ],
   "source": [
    "!gdown  1l53Fgkg1G1ekCxxgaDQ00EXrnSMTeJj-"
   ]
  },
  {
   "cell_type": "code",
   "execution_count": 2,
   "metadata": {
    "id": "PZYCHqSbqao-"
   },
   "outputs": [],
   "source": [
    "import pandas as pd\n",
    "import numpy as np"
   ]
  },
  {
   "cell_type": "code",
   "execution_count": 3,
   "metadata": {
    "id": "Ikwr0foEB4Xz"
   },
   "outputs": [],
   "source": [
    "sample_data = pd.read_csv('sample_data.csv')"
   ]
  },
  {
   "cell_type": "code",
   "execution_count": 4,
   "metadata": {
    "colab": {
     "base_uri": "https://localhost:8080/",
     "height": 424
    },
    "id": "V1Nve3XVB_8W",
    "outputId": "a006d861-6efc-4f5f-80bf-0b300f912885"
   },
   "outputs": [
    {
     "data": {
      "text/html": [
       "<div>\n",
       "<style scoped>\n",
       "    .dataframe tbody tr th:only-of-type {\n",
       "        vertical-align: middle;\n",
       "    }\n",
       "\n",
       "    .dataframe tbody tr th {\n",
       "        vertical-align: top;\n",
       "    }\n",
       "\n",
       "    .dataframe thead th {\n",
       "        text-align: right;\n",
       "    }\n",
       "</style>\n",
       "<table border=\"1\" class=\"dataframe\">\n",
       "  <thead>\n",
       "    <tr style=\"text-align: right;\">\n",
       "      <th></th>\n",
       "      <th>Gender</th>\n",
       "      <th>Age_less_35</th>\n",
       "      <th>JobRole</th>\n",
       "      <th>Attrition</th>\n",
       "    </tr>\n",
       "  </thead>\n",
       "  <tbody>\n",
       "    <tr>\n",
       "      <th>0</th>\n",
       "      <td>Male</td>\n",
       "      <td>True</td>\n",
       "      <td>Laboratory Technician</td>\n",
       "      <td>0</td>\n",
       "    </tr>\n",
       "    <tr>\n",
       "      <th>1</th>\n",
       "      <td>Male</td>\n",
       "      <td>False</td>\n",
       "      <td>Sales Executive</td>\n",
       "      <td>1</td>\n",
       "    </tr>\n",
       "    <tr>\n",
       "      <th>2</th>\n",
       "      <td>Male</td>\n",
       "      <td>True</td>\n",
       "      <td>Sales Representative</td>\n",
       "      <td>1</td>\n",
       "    </tr>\n",
       "    <tr>\n",
       "      <th>3</th>\n",
       "      <td>Female</td>\n",
       "      <td>False</td>\n",
       "      <td>Healthcare Representative</td>\n",
       "      <td>0</td>\n",
       "    </tr>\n",
       "    <tr>\n",
       "      <th>4</th>\n",
       "      <td>Male</td>\n",
       "      <td>True</td>\n",
       "      <td>Sales Executive</td>\n",
       "      <td>0</td>\n",
       "    </tr>\n",
       "    <tr>\n",
       "      <th>...</th>\n",
       "      <td>...</td>\n",
       "      <td>...</td>\n",
       "      <td>...</td>\n",
       "      <td>...</td>\n",
       "    </tr>\n",
       "    <tr>\n",
       "      <th>995</th>\n",
       "      <td>Male</td>\n",
       "      <td>False</td>\n",
       "      <td>Laboratory Technician</td>\n",
       "      <td>1</td>\n",
       "    </tr>\n",
       "    <tr>\n",
       "      <th>996</th>\n",
       "      <td>Female</td>\n",
       "      <td>False</td>\n",
       "      <td>Manufacturing Director</td>\n",
       "      <td>0</td>\n",
       "    </tr>\n",
       "    <tr>\n",
       "      <th>997</th>\n",
       "      <td>Female</td>\n",
       "      <td>True</td>\n",
       "      <td>Sales Executive</td>\n",
       "      <td>0</td>\n",
       "    </tr>\n",
       "    <tr>\n",
       "      <th>998</th>\n",
       "      <td>Male</td>\n",
       "      <td>False</td>\n",
       "      <td>Manager</td>\n",
       "      <td>0</td>\n",
       "    </tr>\n",
       "    <tr>\n",
       "      <th>999</th>\n",
       "      <td>Female</td>\n",
       "      <td>True</td>\n",
       "      <td>Laboratory Technician</td>\n",
       "      <td>0</td>\n",
       "    </tr>\n",
       "  </tbody>\n",
       "</table>\n",
       "<p>1000 rows × 4 columns</p>\n",
       "</div>"
      ],
      "text/plain": [
       "     Gender  Age_less_35                    JobRole  Attrition\n",
       "0      Male         True      Laboratory Technician          0\n",
       "1      Male        False            Sales Executive          1\n",
       "2      Male         True       Sales Representative          1\n",
       "3    Female        False  Healthcare Representative          0\n",
       "4      Male         True            Sales Executive          0\n",
       "..      ...          ...                        ...        ...\n",
       "995    Male        False      Laboratory Technician          1\n",
       "996  Female        False     Manufacturing Director          0\n",
       "997  Female         True            Sales Executive          0\n",
       "998    Male        False                    Manager          0\n",
       "999  Female         True      Laboratory Technician          0\n",
       "\n",
       "[1000 rows x 4 columns]"
      ]
     },
     "execution_count": 4,
     "metadata": {},
     "output_type": "execute_result"
    }
   ],
   "source": [
    "sample_data"
   ]
  },
  {
   "cell_type": "code",
   "execution_count": 5,
   "metadata": {
    "colab": {
     "base_uri": "https://localhost:8080/"
    },
    "id": "gQo8HcXwCBOS",
    "outputId": "b7871e96-3c66-4d82-e5ec-4cd3fe8a3ef2"
   },
   "outputs": [
    {
     "data": {
      "text/plain": [
       "Attrition\n",
       "0    831\n",
       "1    169\n",
       "Name: count, dtype: int64"
      ]
     },
     "execution_count": 5,
     "metadata": {},
     "output_type": "execute_result"
    }
   ],
   "source": [
    "sample_data.Attrition.value_counts()"
   ]
  },
  {
   "cell_type": "markdown",
   "metadata": {
    "id": "MsiexF7OBuJN"
   },
   "source": [
    "#### Entropy"
   ]
  },
  {
   "cell_type": "code",
   "execution_count": 6,
   "metadata": {
    "id": "YWPa4V38o09R"
   },
   "outputs": [],
   "source": [
    "def entropy(y):\n",
    "\n",
    "    if isinstance(y, pd.Series):\n",
    "        # calculating probability\n",
    "        p = y.value_counts()/y.shape[0]\n",
    "\n",
    "        entropy = np.sum(-p*np.log2(p+1e-9)) # adding delta 1e-9 in case p = 0 as log(0) is not defined\n",
    "\n",
    "        return(entropy)\n",
    "\n",
    "    else:\n",
    "        raise('Object must be a Pandas Series.')\n",
    "\n"
   ]
  },
  {
   "cell_type": "markdown",
   "metadata": {
    "id": "9y0PYN9GBvsm"
   },
   "source": [
    "#### Weighted entropy for child nodes"
   ]
  },
  {
   "cell_type": "code",
   "execution_count": 7,
   "metadata": {
    "id": "Y4oWtuYA-sK-"
   },
   "outputs": [],
   "source": [
    "def calculate_weighted_entropy(feature,y):\n",
    "    '''\n",
    "        feature -> series (Gender/ Age < 35)\n",
    "        y -> series\n",
    "    '''\n",
    "    categories = feature.unique()\n",
    "\n",
    "    weighted_entropy = 0\n",
    "\n",
    "    for category in categories:\n",
    "        y_category = y[feature == category]\n",
    "        entropy_category = entropy(y_category)\n",
    "        # print(category)\n",
    "        # print(entropy_category)\n",
    "        weighted_entropy += y_category.shape[0]/y.shape[0]*entropy_category\n",
    "\n",
    "\n",
    "    return weighted_entropy\n",
    "\n"
   ]
  },
  {
   "cell_type": "markdown",
   "metadata": {
    "id": "JEuqUXv4ByIl"
   },
   "source": [
    "#### Information gain"
   ]
  },
  {
   "cell_type": "code",
   "execution_count": 8,
   "metadata": {
    "id": "lA04rBkH-t6p"
   },
   "outputs": [],
   "source": [
    "def information_gain(feature,y):\n",
    "    parent_entropy = entropy(y)\n",
    "\n",
    "    child_entropy = calculate_weighted_entropy(feature,y)\n",
    "\n",
    "    ig = parent_entropy - child_entropy\n",
    "\n",
    "    return ig"
   ]
  },
  {
   "cell_type": "markdown",
   "metadata": {
    "id": "_SGKH2bxDibf"
   },
   "source": [
    "#### Entropy at root node"
   ]
  },
  {
   "cell_type": "code",
   "execution_count": 9,
   "metadata": {
    "colab": {
     "base_uri": "https://localhost:8080/"
    },
    "id": "BE4jkur1CuEO",
    "outputId": "c04ea8ea-5e09-4281-eb7c-7700ac0c4ed9"
   },
   "outputs": [
    {
     "data": {
      "text/plain": [
       "0.6554120789588516"
      ]
     },
     "execution_count": 9,
     "metadata": {},
     "output_type": "execute_result"
    }
   ],
   "source": [
    "entropy(sample_data.Attrition)"
   ]
  },
  {
   "cell_type": "markdown",
   "metadata": {
    "id": "B3nMZ_FHDpRK"
   },
   "source": [
    "#### Weighted entropy of child for Gender"
   ]
  },
  {
   "cell_type": "code",
   "execution_count": 10,
   "metadata": {
    "colab": {
     "base_uri": "https://localhost:8080/"
    },
    "id": "Avr8hABYC1eQ",
    "outputId": "8b4840dd-3e79-4485-a088-25492af90a2f"
   },
   "outputs": [
    {
     "data": {
      "text/plain": [
       "0.6554087812684072"
      ]
     },
     "execution_count": 10,
     "metadata": {},
     "output_type": "execute_result"
    }
   ],
   "source": [
    "calculate_weighted_entropy(sample_data.Gender, sample_data.Attrition)"
   ]
  },
  {
   "cell_type": "markdown",
   "metadata": {
    "id": "TAYPxWcXDtuY"
   },
   "source": [
    "#### Information Gain for Gender"
   ]
  },
  {
   "cell_type": "code",
   "execution_count": 11,
   "metadata": {
    "colab": {
     "base_uri": "https://localhost:8080/"
    },
    "id": "JwrQl7l9DDeg",
    "outputId": "9aeaf006-29c5-474c-b992-c9996c0844a1"
   },
   "outputs": [
    {
     "data": {
      "text/plain": [
       "3.2976904443815513e-06"
      ]
     },
     "execution_count": 11,
     "metadata": {},
     "output_type": "execute_result"
    }
   ],
   "source": [
    "information_gain(sample_data.Gender,sample_data.Attrition)"
   ]
  },
  {
   "cell_type": "markdown",
   "metadata": {
    "id": "_EvvgR45DzrO"
   },
   "source": [
    "#### Comparing Information gain for features"
   ]
  },
  {
   "cell_type": "code",
   "execution_count": 12,
   "metadata": {
    "colab": {
     "base_uri": "https://localhost:8080/"
    },
    "id": "dwrRQ_CkDLX2",
    "outputId": "186cd62d-bd2e-443a-cd99-307e81c11763"
   },
   "outputs": [
    {
     "name": "stdout",
     "output_type": "stream",
     "text": [
      "Information Gain for feature Gender is 3.2976904443815513e-06\n",
      "Information Gain for feature Age_less_35 is 0.021463064919737374\n",
      "Information Gain for feature JobRole is 0.05429906805101925\n"
     ]
    }
   ],
   "source": [
    "for feature in sample_data.columns[:-1]:\n",
    "    print(f'Information Gain for feature {feature} is {information_gain(sample_data[feature],sample_data.Attrition)}')"
   ]
  }
 ],
 "metadata": {
  "colab": {
   "provenance": []
  },
  "kernelspec": {
   "display_name": "Python 3 (ipykernel)",
   "language": "python",
   "name": "python3"
  },
  "language_info": {
   "codemirror_mode": {
    "name": "ipython",
    "version": 3
   },
   "file_extension": ".py",
   "mimetype": "text/x-python",
   "name": "python",
   "nbconvert_exporter": "python",
   "pygments_lexer": "ipython3",
   "version": "3.10.2"
  }
 },
 "nbformat": 4,
 "nbformat_minor": 1
}
