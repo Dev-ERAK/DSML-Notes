{
 "cells": [
  {
   "cell_type": "markdown",
   "metadata": {
    "id": "7i1zqyfM2QTN"
   },
   "source": [
    "## Content"
   ]
  },
  {
   "cell_type": "markdown",
   "metadata": {
    "id": "QWUSV6ds2gJS"
   },
   "source": [
    "- **DT intuition**\n",
    "    - Quiz 1 - 4\n",
    "\n",
    "- **How to split the nodes?**\n",
    "    - Quiz 5 - 6\n",
    "\n",
    "- **Entropy**\n",
    "    - Quiz 7 - 10\n",
    "    - [All same Y-values](https://www.scaler.com/hire/test/problem/25647/)\n",
    "    - [50-50 split](https://www.scaler.com/hire/test/problem/25639/)\n",
    "    - [Decision Tree Entropy](https://www.scaler.com/hire/test/problem/16628/)\n",
    "    - [Dominant and equiprobable classes](https://www.scaler.com/hire/test/problem/25640/)\n",
    "    - [Calculate entropy](https://www.scaler.com/hire/test/problem/25764/) h/w\n",
    "\n",
    "- **Building a DT intuition**\n",
    "    - Quiz 11 - 13\n",
    "    - [Let's play tennis](https://www.scaler.com/hire/test/problem/25641/)  h/w → <font color='red'>Used for TT</font>\n",
    "    - [Information Gain 0](https://www.scaler.com/hire/test/problem/16172/)   h/w\n",
    "    - [Decision Tree](https://www.scaler.com/hire/test/problem/25757/)\n",
    "    - [__is used to?](https://www.scaler.com/hire/test/problem/25744/) - Covers DT Regression\n",
    "\n",
    "- **Visualizing the process of building DT**\n",
    "\n",
    "- **Scratch impl of DT (optional) - Post read**\n",
    "\n",
    "- **Sklearn implementation**\n",
    "    - Quiz 14\n",
    "    - [Decision Tree Classifier](https://www.scaler.com/hire/test/problem/25806/)\n",
    "    - [Multiclass classification](https://www.scaler.com/hire/test/problem/25654/)\n",
    "    - [ Decision Trees Characteristics](https://www.scaler.com/hire/test/problem/16355/)\n",
    "    - [Find the attribute](https://www.scaler.com/hire/test/problem/25787/)"
   ]
  },
  {
   "cell_type": "markdown",
   "metadata": {
    "id": "qOu5sBslKD3o"
   },
   "source": [
    "## Assessment doc"
   ]
  },
  {
   "cell_type": "markdown",
   "metadata": {
    "id": "WoUDJ-e4KFTt"
   },
   "source": [
    "Doc link: https://docs.google.com/document/d/1ZKX5djVoBbCOJvIlv-Qs1i7A1-ekJLBX39lXsfKdvAo/edit?usp=sharing"
   ]
  },
  {
   "cell_type": "markdown",
   "metadata": {
    "id": "mPrwn9Ek-tj3"
   },
   "source": [
    "## UseCase Intro: Employee Attrition\n",
    "### You are a Data Scientist working at a Jio\n",
    "\n",
    "- The company is facing a huge problem of employee attrition\n",
    "- Your task is to help the company find a solution to this problem.\n",
    "\n",
    "#### Why is attrition a problem?\n",
    "\n",
    "  - A new employee asks for more compensation\n",
    "  - Training of new employees\n",
    "  - Lots of time and resources required for searching a new candidate\n"
   ]
  },
  {
   "cell_type": "markdown",
   "metadata": {
    "id": "ZnAbKgHQCH7p"
   },
   "source": [
    "<img src=https://d2beiqkhq929f0.cloudfront.net/public_assets/assets/000/040/781/original/Screenshot_2023-07-28_at_11.12.39_AM.png?1690523151 width=700>"
   ]
  },
  {
   "cell_type": "markdown",
   "metadata": {
    "id": "WK8aBa7wCNaK"
   },
   "source": [
    "\n",
    "#### What can be done to solve the problem ?\n",
    "\n",
    "1. Identify the employees who may leave in future.\n",
    "  - Targeted approaches can be undertaken to retain such employees.\n",
    "  - These might include addressing their problems with the company and so on ...\n",
    "\n",
    "2. Help identify the key indicators/factors leading to an employee leaving.\n",
    "  - #### What all reasons can you think of contributing to attrition ?\n",
    "    - Forcing employees to come to office daily\n",
    "    - Unhealthy culture etc\n",
    "  - Identifying these key factors helps in taking better measures to improve employee retention"
   ]
  },
  {
   "cell_type": "markdown",
   "metadata": {
    "id": "D3Z6hPcW-1n7"
   },
   "source": [
    "#### Dataset"
   ]
  },
  {
   "cell_type": "code",
   "execution_count": 1,
   "metadata": {
    "id": "0Fmutqcs-7Dm"
   },
   "outputs": [],
   "source": [
    "import numpy as np\n",
    "import pandas as pd\n",
    "import matplotlib.pyplot as plt\n",
    "import io"
   ]
  },
  {
   "cell_type": "code",
   "execution_count": 2,
   "metadata": {
    "colab": {
     "base_uri": "https://localhost:8080/"
    },
    "id": "tC34Fdu3vlNr",
    "outputId": "5d8b9065-1eee-421c-9813-06cbbf5fa907"
   },
   "outputs": [
    {
     "name": "stderr",
     "output_type": "stream",
     "text": [
      "Downloading...\n",
      "From: https://drive.google.com/uc?id=16KtxSt_QEGQvfluEaMls5cCHPwhRXgCk\n",
      "To: E:\\Scaler-Notes-Git\\DSML-Notes\\M-15 ML-Supervised Algorithms\\03 ML Decision Trees-1\\HR-Employee-Attrition.csv\n",
      "\n",
      "  0%|          | 0.00/228k [00:00<?, ?B/s]\n",
      "100%|##########| 228k/228k [00:00<00:00, 1.79MB/s]\n",
      "100%|##########| 228k/228k [00:00<00:00, 1.79MB/s]\n"
     ]
    }
   ],
   "source": [
    "!gdown 16KtxSt_QEGQvfluEaMls5cCHPwhRXgCk"
   ]
  },
  {
   "cell_type": "code",
   "execution_count": 3,
   "metadata": {
    "colab": {
     "base_uri": "https://localhost:8080/"
    },
    "id": "mvn-Bc7ywh6z",
    "outputId": "90caaf3d-7752-47d0-d034-843c57d2f73a"
   },
   "outputs": [
    {
     "name": "stdout",
     "output_type": "stream",
     "text": [
      "<class 'pandas.core.frame.DataFrame'>\n",
      "RangeIndex: 1470 entries, 0 to 1469\n",
      "Data columns (total 35 columns):\n",
      " #   Column                    Non-Null Count  Dtype \n",
      "---  ------                    --------------  ----- \n",
      " 0   Age                       1470 non-null   int64 \n",
      " 1   Attrition                 1470 non-null   object\n",
      " 2   BusinessTravel            1470 non-null   object\n",
      " 3   DailyRate                 1470 non-null   int64 \n",
      " 4   Department                1470 non-null   object\n",
      " 5   DistanceFromHome          1470 non-null   int64 \n",
      " 6   Education                 1470 non-null   int64 \n",
      " 7   EducationField            1470 non-null   object\n",
      " 8   EmployeeCount             1470 non-null   int64 \n",
      " 9   EmployeeNumber            1470 non-null   int64 \n",
      " 10  EnvironmentSatisfaction   1470 non-null   int64 \n",
      " 11  Gender                    1470 non-null   object\n",
      " 12  HourlyRate                1470 non-null   int64 \n",
      " 13  JobInvolvement            1470 non-null   int64 \n",
      " 14  JobLevel                  1470 non-null   int64 \n",
      " 15  JobRole                   1470 non-null   object\n",
      " 16  JobSatisfaction           1470 non-null   int64 \n",
      " 17  MaritalStatus             1470 non-null   object\n",
      " 18  MonthlyIncome             1470 non-null   int64 \n",
      " 19  MonthlyRate               1470 non-null   int64 \n",
      " 20  NumCompaniesWorked        1470 non-null   int64 \n",
      " 21  Over18                    1470 non-null   object\n",
      " 22  OverTime                  1470 non-null   object\n",
      " 23  PercentSalaryHike         1470 non-null   int64 \n",
      " 24  PerformanceRating         1470 non-null   int64 \n",
      " 25  RelationshipSatisfaction  1470 non-null   int64 \n",
      " 26  StandardHours             1470 non-null   int64 \n",
      " 27  StockOptionLevel          1470 non-null   int64 \n",
      " 28  TotalWorkingYears         1470 non-null   int64 \n",
      " 29  TrainingTimesLastYear     1470 non-null   int64 \n",
      " 30  WorkLifeBalance           1470 non-null   int64 \n",
      " 31  YearsAtCompany            1470 non-null   int64 \n",
      " 32  YearsInCurrentRole        1470 non-null   int64 \n",
      " 33  YearsSinceLastPromotion   1470 non-null   int64 \n",
      " 34  YearsWithCurrManager      1470 non-null   int64 \n",
      "dtypes: int64(26), object(9)\n",
      "memory usage: 402.1+ KB\n"
     ]
    }
   ],
   "source": [
    "df = pd.read_csv(\"HR-Employee-Attrition.csv\")\n",
    "df.info()"
   ]
  },
  {
   "cell_type": "code",
   "execution_count": 4,
   "metadata": {
    "colab": {
     "base_uri": "https://localhost:8080/",
     "height": 369
    },
    "id": "7aoTdNEKwj0c",
    "outputId": "fbb63948-d643-497a-ea1d-823e78f8b74d"
   },
   "outputs": [
    {
     "data": {
      "text/html": [
       "<div>\n",
       "<style scoped>\n",
       "    .dataframe tbody tr th:only-of-type {\n",
       "        vertical-align: middle;\n",
       "    }\n",
       "\n",
       "    .dataframe tbody tr th {\n",
       "        vertical-align: top;\n",
       "    }\n",
       "\n",
       "    .dataframe thead th {\n",
       "        text-align: right;\n",
       "    }\n",
       "</style>\n",
       "<table border=\"1\" class=\"dataframe\">\n",
       "  <thead>\n",
       "    <tr style=\"text-align: right;\">\n",
       "      <th></th>\n",
       "      <th>Age</th>\n",
       "      <th>Attrition</th>\n",
       "      <th>BusinessTravel</th>\n",
       "      <th>DailyRate</th>\n",
       "      <th>Department</th>\n",
       "      <th>DistanceFromHome</th>\n",
       "      <th>Education</th>\n",
       "      <th>EducationField</th>\n",
       "      <th>EmployeeCount</th>\n",
       "      <th>EmployeeNumber</th>\n",
       "      <th>...</th>\n",
       "      <th>RelationshipSatisfaction</th>\n",
       "      <th>StandardHours</th>\n",
       "      <th>StockOptionLevel</th>\n",
       "      <th>TotalWorkingYears</th>\n",
       "      <th>TrainingTimesLastYear</th>\n",
       "      <th>WorkLifeBalance</th>\n",
       "      <th>YearsAtCompany</th>\n",
       "      <th>YearsInCurrentRole</th>\n",
       "      <th>YearsSinceLastPromotion</th>\n",
       "      <th>YearsWithCurrManager</th>\n",
       "    </tr>\n",
       "  </thead>\n",
       "  <tbody>\n",
       "    <tr>\n",
       "      <th>0</th>\n",
       "      <td>41</td>\n",
       "      <td>Yes</td>\n",
       "      <td>Travel_Rarely</td>\n",
       "      <td>1102</td>\n",
       "      <td>Sales</td>\n",
       "      <td>1</td>\n",
       "      <td>2</td>\n",
       "      <td>Life Sciences</td>\n",
       "      <td>1</td>\n",
       "      <td>1</td>\n",
       "      <td>...</td>\n",
       "      <td>1</td>\n",
       "      <td>80</td>\n",
       "      <td>0</td>\n",
       "      <td>8</td>\n",
       "      <td>0</td>\n",
       "      <td>1</td>\n",
       "      <td>6</td>\n",
       "      <td>4</td>\n",
       "      <td>0</td>\n",
       "      <td>5</td>\n",
       "    </tr>\n",
       "    <tr>\n",
       "      <th>1</th>\n",
       "      <td>49</td>\n",
       "      <td>No</td>\n",
       "      <td>Travel_Frequently</td>\n",
       "      <td>279</td>\n",
       "      <td>Research &amp; Development</td>\n",
       "      <td>8</td>\n",
       "      <td>1</td>\n",
       "      <td>Life Sciences</td>\n",
       "      <td>1</td>\n",
       "      <td>2</td>\n",
       "      <td>...</td>\n",
       "      <td>4</td>\n",
       "      <td>80</td>\n",
       "      <td>1</td>\n",
       "      <td>10</td>\n",
       "      <td>3</td>\n",
       "      <td>3</td>\n",
       "      <td>10</td>\n",
       "      <td>7</td>\n",
       "      <td>1</td>\n",
       "      <td>7</td>\n",
       "    </tr>\n",
       "    <tr>\n",
       "      <th>2</th>\n",
       "      <td>37</td>\n",
       "      <td>Yes</td>\n",
       "      <td>Travel_Rarely</td>\n",
       "      <td>1373</td>\n",
       "      <td>Research &amp; Development</td>\n",
       "      <td>2</td>\n",
       "      <td>2</td>\n",
       "      <td>Other</td>\n",
       "      <td>1</td>\n",
       "      <td>4</td>\n",
       "      <td>...</td>\n",
       "      <td>2</td>\n",
       "      <td>80</td>\n",
       "      <td>0</td>\n",
       "      <td>7</td>\n",
       "      <td>3</td>\n",
       "      <td>3</td>\n",
       "      <td>0</td>\n",
       "      <td>0</td>\n",
       "      <td>0</td>\n",
       "      <td>0</td>\n",
       "    </tr>\n",
       "    <tr>\n",
       "      <th>3</th>\n",
       "      <td>33</td>\n",
       "      <td>No</td>\n",
       "      <td>Travel_Frequently</td>\n",
       "      <td>1392</td>\n",
       "      <td>Research &amp; Development</td>\n",
       "      <td>3</td>\n",
       "      <td>4</td>\n",
       "      <td>Life Sciences</td>\n",
       "      <td>1</td>\n",
       "      <td>5</td>\n",
       "      <td>...</td>\n",
       "      <td>3</td>\n",
       "      <td>80</td>\n",
       "      <td>0</td>\n",
       "      <td>8</td>\n",
       "      <td>3</td>\n",
       "      <td>3</td>\n",
       "      <td>8</td>\n",
       "      <td>7</td>\n",
       "      <td>3</td>\n",
       "      <td>0</td>\n",
       "    </tr>\n",
       "    <tr>\n",
       "      <th>4</th>\n",
       "      <td>27</td>\n",
       "      <td>No</td>\n",
       "      <td>Travel_Rarely</td>\n",
       "      <td>591</td>\n",
       "      <td>Research &amp; Development</td>\n",
       "      <td>2</td>\n",
       "      <td>1</td>\n",
       "      <td>Medical</td>\n",
       "      <td>1</td>\n",
       "      <td>7</td>\n",
       "      <td>...</td>\n",
       "      <td>4</td>\n",
       "      <td>80</td>\n",
       "      <td>1</td>\n",
       "      <td>6</td>\n",
       "      <td>3</td>\n",
       "      <td>3</td>\n",
       "      <td>2</td>\n",
       "      <td>2</td>\n",
       "      <td>2</td>\n",
       "      <td>2</td>\n",
       "    </tr>\n",
       "  </tbody>\n",
       "</table>\n",
       "<p>5 rows × 35 columns</p>\n",
       "</div>"
      ],
      "text/plain": [
       "   Age Attrition     BusinessTravel  DailyRate              Department   \n",
       "0   41       Yes      Travel_Rarely       1102                   Sales  \\\n",
       "1   49        No  Travel_Frequently        279  Research & Development   \n",
       "2   37       Yes      Travel_Rarely       1373  Research & Development   \n",
       "3   33        No  Travel_Frequently       1392  Research & Development   \n",
       "4   27        No      Travel_Rarely        591  Research & Development   \n",
       "\n",
       "   DistanceFromHome  Education EducationField  EmployeeCount  EmployeeNumber   \n",
       "0                 1          2  Life Sciences              1               1  \\\n",
       "1                 8          1  Life Sciences              1               2   \n",
       "2                 2          2          Other              1               4   \n",
       "3                 3          4  Life Sciences              1               5   \n",
       "4                 2          1        Medical              1               7   \n",
       "\n",
       "   ...  RelationshipSatisfaction StandardHours  StockOptionLevel   \n",
       "0  ...                         1            80                 0  \\\n",
       "1  ...                         4            80                 1   \n",
       "2  ...                         2            80                 0   \n",
       "3  ...                         3            80                 0   \n",
       "4  ...                         4            80                 1   \n",
       "\n",
       "   TotalWorkingYears  TrainingTimesLastYear WorkLifeBalance  YearsAtCompany   \n",
       "0                  8                      0               1               6  \\\n",
       "1                 10                      3               3              10   \n",
       "2                  7                      3               3               0   \n",
       "3                  8                      3               3               8   \n",
       "4                  6                      3               3               2   \n",
       "\n",
       "  YearsInCurrentRole  YearsSinceLastPromotion  YearsWithCurrManager  \n",
       "0                  4                        0                     5  \n",
       "1                  7                        1                     7  \n",
       "2                  0                        0                     0  \n",
       "3                  7                        3                     0  \n",
       "4                  2                        2                     2  \n",
       "\n",
       "[5 rows x 35 columns]"
      ]
     },
     "execution_count": 4,
     "metadata": {},
     "output_type": "execute_result"
    }
   ],
   "source": [
    "df.head()\n"
   ]
  },
  {
   "cell_type": "markdown",
   "metadata": {
    "id": "rni4T_uYNASO"
   },
   "source": [
    "#### Summary of EDA and Preprocessing"
   ]
  },
  {
   "cell_type": "markdown",
   "metadata": {
    "id": "DDigRWDJCQdQ"
   },
   "source": [
    "<img src=https://d2beiqkhq929f0.cloudfront.net/public_assets/assets/000/040/782/original/Screenshot_2023-07-28_at_11.12.47_AM.png?1690523216 width=700>"
   ]
  },
  {
   "cell_type": "markdown",
   "metadata": {
    "id": "FI5j49ax_mJC"
   },
   "source": [
    "We perform EDA followed by preprocessing on the data which is covered in the post read"
   ]
  },
  {
   "cell_type": "markdown",
   "metadata": {
    "id": "4kN-CtX5qvPw"
   },
   "source": [
    "#### Post Read - Employee Attrition Usecase"
   ]
  },
  {
   "cell_type": "markdown",
   "metadata": {
    "id": "v2zV2pdhsBnM"
   },
   "source": [
    "Employee EDA: https://colab.research.google.com/drive/1OdxmAv5q-92ll5Jf8XrDYQp-4-mitgC8?usp=sharing"
   ]
  },
  {
   "cell_type": "markdown",
   "metadata": {
    "id": "mP2Tbsq9_J-L"
   },
   "source": [
    "#### Final dataset after preprocessing"
   ]
  },
  {
   "cell_type": "code",
   "execution_count": 5,
   "metadata": {
    "colab": {
     "base_uri": "https://localhost:8080/"
    },
    "id": "YK15a4m5aZmd",
    "outputId": "19891123-0fa7-47f1-c411-dd0210b1c10f",
    "scrolled": true
   },
   "outputs": [
    {
     "name": "stderr",
     "output_type": "stream",
     "text": [
      "Downloading...\n",
      "From: https://drive.google.com/uc?id=19L3rYatfhbBL1r5MHrv-p_oM2wlvrhqk\n",
      "To: E:\\Scaler-Notes-Git\\DSML-Notes\\M-15 ML-Supervised Algorithms\\03 ML Decision Trees-1\\preprocessed_X_sm.pickle\n",
      "\n",
      "  0%|          | 0.00/534k [00:00<?, ?B/s]\n",
      " 98%|#########8| 524k/534k [00:00<00:00, 2.31MB/s]\n",
      "100%|##########| 534k/534k [00:00<00:00, 2.35MB/s]\n",
      "Downloading...\n",
      "From: https://drive.google.com/uc?id=1OHLKJwA3qZopKPvlKoRldM6BvA1A4dYF\n",
      "To: E:\\Scaler-Notes-Git\\DSML-Notes\\M-15 ML-Supervised Algorithms\\03 ML Decision Trees-1\\X_test.pickle\n",
      "\n",
      "  0%|          | 0.00/111k [00:00<?, ?B/s]\n",
      "100%|##########| 111k/111k [00:00<00:00, 11.1MB/s]\n",
      "Downloading...\n",
      "From: https://drive.google.com/uc?id=1N7O_fWCTJLu8SIa_paKcDEzllgpMk8sK\n",
      "To: E:\\Scaler-Notes-Git\\DSML-Notes\\M-15 ML-Supervised Algorithms\\03 ML Decision Trees-1\\y_sm.pickle\n",
      "\n",
      "  0%|          | 0.00/15.4k [00:00<?, ?B/s]\n",
      "100%|##########| 15.4k/15.4k [00:00<?, ?B/s]\n",
      "Downloading...\n",
      "From: https://drive.google.com/uc?id=12Bh2AN8LcZAlg20ehpQrEWccUDaSdsOG\n",
      "To: E:\\Scaler-Notes-Git\\DSML-Notes\\M-15 ML-Supervised Algorithms\\03 ML Decision Trees-1\\y_test.pickle\n",
      "\n",
      "  0%|          | 0.00/9.49k [00:00<?, ?B/s]\n",
      "100%|##########| 9.49k/9.49k [00:00<00:00, 9.48MB/s]\n"
     ]
    }
   ],
   "source": [
    "!gdown 19L3rYatfhbBL1r5MHrv-p_oM2wlvrhqk\n",
    "!gdown 1OHLKJwA3qZopKPvlKoRldM6BvA1A4dYF\n",
    "!gdown 1N7O_fWCTJLu8SIa_paKcDEzllgpMk8sK\n",
    "!gdown 12Bh2AN8LcZAlg20ehpQrEWccUDaSdsOG"
   ]
  },
  {
   "cell_type": "code",
   "execution_count": 16,
   "metadata": {},
   "outputs": [
    {
     "name": "stdout",
     "output_type": "stream",
     "text": [
      "Collecting pickle4\n",
      "  Downloading pickle4-0.0.1.tar.gz (19 kB)\n",
      "  Installing build dependencies: started\n",
      "  Installing build dependencies: finished with status 'done'\n",
      "  Getting requirements to build wheel: started\n",
      "  Getting requirements to build wheel: finished with status 'done'\n",
      "  Preparing metadata (pyproject.toml): started\n",
      "  Preparing metadata (pyproject.toml): finished with status 'done'\n",
      "Requirement already satisfied: setuptools in c:\\users\\aman kumar\\appdata\\local\\programs\\python\\python310\\lib\\site-packages (from pickle4) (58.1.0)\n",
      "Building wheels for collected packages: pickle4\n",
      "  Building wheel for pickle4 (pyproject.toml): started\n",
      "  Building wheel for pickle4 (pyproject.toml): finished with status 'done'\n",
      "  Created wheel for pickle4: filename=pickle4-0.0.1-py2.py3-none-any.whl size=19707 sha256=ef7dcc5b553cbf08f760a0353a459867a48a4fe7c2c29cc8e034140dc03bd42b\n",
      "  Stored in directory: c:\\users\\aman kumar\\appdata\\local\\pip\\cache\\wheels\\fa\\2c\\86\\ea9f8f047af128230580d01abee9d5635e287478f9d6c7bd0f\n",
      "Successfully built pickle4\n",
      "Installing collected packages: pickle4\n",
      "Successfully installed pickle4-0.0.1\n"
     ]
    }
   ],
   "source": [
    "!pip install pickle4"
   ]
  },
  {
   "cell_type": "code",
   "execution_count": 21,
   "metadata": {
    "id": "lLOv-ppuaas8"
   },
   "outputs": [
    {
     "ename": "ModuleNotFoundError",
     "evalue": "No module named 'pandas.core.indexes.numeric'",
     "output_type": "error",
     "traceback": [
      "\u001b[1;31m---------------------------------------------------------------------------\u001b[0m",
      "\u001b[1;31mModuleNotFoundError\u001b[0m                       Traceback (most recent call last)",
      "Cell \u001b[1;32mIn[21], line 7\u001b[0m\n\u001b[0;32m      4\u001b[0m     X_train \u001b[38;5;241m=\u001b[39m pickle\u001b[38;5;241m.\u001b[39mload(handle)\n\u001b[0;32m      6\u001b[0m \u001b[38;5;28;01mwith\u001b[39;00m \u001b[38;5;28mopen\u001b[39m(\u001b[38;5;124m'\u001b[39m\u001b[38;5;124mX_test.pickle\u001b[39m\u001b[38;5;124m'\u001b[39m, \u001b[38;5;124m'\u001b[39m\u001b[38;5;124mrb\u001b[39m\u001b[38;5;124m'\u001b[39m) \u001b[38;5;28;01mas\u001b[39;00m handle:\n\u001b[1;32m----> 7\u001b[0m     X_test \u001b[38;5;241m=\u001b[39m \u001b[43mpickle\u001b[49m\u001b[38;5;241;43m.\u001b[39;49m\u001b[43mload\u001b[49m\u001b[43m(\u001b[49m\u001b[43mhandle\u001b[49m\u001b[43m)\u001b[49m\n\u001b[0;32m      9\u001b[0m \u001b[38;5;28;01mwith\u001b[39;00m \u001b[38;5;28mopen\u001b[39m(\u001b[38;5;124m'\u001b[39m\u001b[38;5;124my_sm.pickle\u001b[39m\u001b[38;5;124m'\u001b[39m, \u001b[38;5;124m'\u001b[39m\u001b[38;5;124mrb\u001b[39m\u001b[38;5;124m'\u001b[39m) \u001b[38;5;28;01mas\u001b[39;00m handle:\n\u001b[0;32m     10\u001b[0m     y_train \u001b[38;5;241m=\u001b[39m pickle\u001b[38;5;241m.\u001b[39mload(handle)\n",
      "\u001b[1;31mModuleNotFoundError\u001b[0m: No module named 'pandas.core.indexes.numeric'"
     ]
    }
   ],
   "source": [
    "import pickle\n",
    "# Load data (deserialize)\n",
    "with open('preprocessed_X_sm.pickle', 'rb') as handle:\n",
    "    X_train = pickle.load(handle)\n",
    "\n",
    "with open('X_test.pickle', 'rb') as handle:\n",
    "    X_test = pickle.load(handle)\n",
    "\n",
    "with open('y_sm.pickle', 'rb') as handle:\n",
    "    y_train = pickle.load(handle)\n",
    "\n",
    "with open('y_test.pickle', 'rb') as handle:\n",
    "    y_test = pickle.load(handle)"
   ]
  },
  {
   "cell_type": "code",
   "execution_count": 18,
   "metadata": {
    "colab": {
     "base_uri": "https://localhost:8080/"
    },
    "id": "zSHckkrE_sas",
    "outputId": "adfee6c3-55f9-45fe-9130-c879b4e7e7ec"
   },
   "outputs": [
    {
     "data": {
      "text/plain": [
       "(1848, 36)"
      ]
     },
     "execution_count": 18,
     "metadata": {},
     "output_type": "execute_result"
    }
   ],
   "source": [
    "# train data shape\n",
    "X_train.shape"
   ]
  },
  {
   "cell_type": "code",
   "execution_count": 19,
   "metadata": {
    "colab": {
     "base_uri": "https://localhost:8080/"
    },
    "id": "H_mW0cGL_wvK",
    "outputId": "a556b441-bd03-4d16-dead-7f92390b5f3e"
   },
   "outputs": [
    {
     "ename": "NameError",
     "evalue": "name 'X_test' is not defined",
     "output_type": "error",
     "traceback": [
      "\u001b[1;31m---------------------------------------------------------------------------\u001b[0m",
      "\u001b[1;31mNameError\u001b[0m                                 Traceback (most recent call last)",
      "Cell \u001b[1;32mIn[19], line 2\u001b[0m\n\u001b[0;32m      1\u001b[0m \u001b[38;5;66;03m# test data shape\u001b[39;00m\n\u001b[1;32m----> 2\u001b[0m \u001b[43mX_test\u001b[49m\u001b[38;5;241m.\u001b[39mshape\n",
      "\u001b[1;31mNameError\u001b[0m: name 'X_test' is not defined"
     ]
    }
   ],
   "source": [
    "# test data shape\n",
    "X_test.shape"
   ]
  },
  {
   "cell_type": "code",
   "execution_count": 20,
   "metadata": {
    "colab": {
     "base_uri": "https://localhost:8080/",
     "height": 317
    },
    "id": "tcv9d6Oz_z6M",
    "outputId": "1b367e44-8339-4089-9a73-b905f0300b98"
   },
   "outputs": [
    {
     "data": {
      "text/html": [
       "<div>\n",
       "<style scoped>\n",
       "    .dataframe tbody tr th:only-of-type {\n",
       "        vertical-align: middle;\n",
       "    }\n",
       "\n",
       "    .dataframe tbody tr th {\n",
       "        vertical-align: top;\n",
       "    }\n",
       "\n",
       "    .dataframe thead th {\n",
       "        text-align: right;\n",
       "    }\n",
       "</style>\n",
       "<table border=\"1\" class=\"dataframe\">\n",
       "  <thead>\n",
       "    <tr style=\"text-align: right;\">\n",
       "      <th></th>\n",
       "      <th>Age</th>\n",
       "      <th>DailyRate</th>\n",
       "      <th>DistanceFromHome</th>\n",
       "      <th>Education</th>\n",
       "      <th>EducationField</th>\n",
       "      <th>EnvironmentSatisfaction</th>\n",
       "      <th>Gender</th>\n",
       "      <th>HourlyRate</th>\n",
       "      <th>JobInvolvement</th>\n",
       "      <th>JobLevel</th>\n",
       "      <th>...</th>\n",
       "      <th>YearsWithCurrManager</th>\n",
       "      <th>BusinessTravel_Non-Travel</th>\n",
       "      <th>BusinessTravel_Travel_Frequently</th>\n",
       "      <th>BusinessTravel_Travel_Rarely</th>\n",
       "      <th>Department_Human Resources</th>\n",
       "      <th>Department_Research &amp; Development</th>\n",
       "      <th>Department_Sales</th>\n",
       "      <th>MaritalStatus_Divorced</th>\n",
       "      <th>MaritalStatus_Married</th>\n",
       "      <th>MaritalStatus_Single</th>\n",
       "    </tr>\n",
       "  </thead>\n",
       "  <tbody>\n",
       "    <tr>\n",
       "      <th>0</th>\n",
       "      <td>36</td>\n",
       "      <td>1174</td>\n",
       "      <td>3</td>\n",
       "      <td>4</td>\n",
       "      <td>0.233871</td>\n",
       "      <td>1</td>\n",
       "      <td>0</td>\n",
       "      <td>99</td>\n",
       "      <td>3</td>\n",
       "      <td>2</td>\n",
       "      <td>...</td>\n",
       "      <td>1</td>\n",
       "      <td>0.0</td>\n",
       "      <td>0.0</td>\n",
       "      <td>1.0</td>\n",
       "      <td>0.0</td>\n",
       "      <td>0.0</td>\n",
       "      <td>1.0</td>\n",
       "      <td>0.0</td>\n",
       "      <td>0.0</td>\n",
       "      <td>1.0</td>\n",
       "    </tr>\n",
       "    <tr>\n",
       "      <th>1</th>\n",
       "      <td>21</td>\n",
       "      <td>546</td>\n",
       "      <td>5</td>\n",
       "      <td>1</td>\n",
       "      <td>0.127479</td>\n",
       "      <td>3</td>\n",
       "      <td>1</td>\n",
       "      <td>97</td>\n",
       "      <td>3</td>\n",
       "      <td>1</td>\n",
       "      <td>...</td>\n",
       "      <td>2</td>\n",
       "      <td>0.0</td>\n",
       "      <td>0.0</td>\n",
       "      <td>1.0</td>\n",
       "      <td>0.0</td>\n",
       "      <td>1.0</td>\n",
       "      <td>0.0</td>\n",
       "      <td>0.0</td>\n",
       "      <td>0.0</td>\n",
       "      <td>1.0</td>\n",
       "    </tr>\n",
       "    <tr>\n",
       "      <th>2</th>\n",
       "      <td>43</td>\n",
       "      <td>422</td>\n",
       "      <td>1</td>\n",
       "      <td>3</td>\n",
       "      <td>0.151584</td>\n",
       "      <td>4</td>\n",
       "      <td>0</td>\n",
       "      <td>33</td>\n",
       "      <td>3</td>\n",
       "      <td>2</td>\n",
       "      <td>...</td>\n",
       "      <td>2</td>\n",
       "      <td>0.0</td>\n",
       "      <td>1.0</td>\n",
       "      <td>0.0</td>\n",
       "      <td>0.0</td>\n",
       "      <td>1.0</td>\n",
       "      <td>0.0</td>\n",
       "      <td>0.0</td>\n",
       "      <td>1.0</td>\n",
       "      <td>0.0</td>\n",
       "    </tr>\n",
       "    <tr>\n",
       "      <th>3</th>\n",
       "      <td>42</td>\n",
       "      <td>188</td>\n",
       "      <td>29</td>\n",
       "      <td>3</td>\n",
       "      <td>0.127479</td>\n",
       "      <td>2</td>\n",
       "      <td>1</td>\n",
       "      <td>56</td>\n",
       "      <td>1</td>\n",
       "      <td>2</td>\n",
       "      <td>...</td>\n",
       "      <td>0</td>\n",
       "      <td>0.0</td>\n",
       "      <td>0.0</td>\n",
       "      <td>1.0</td>\n",
       "      <td>0.0</td>\n",
       "      <td>1.0</td>\n",
       "      <td>0.0</td>\n",
       "      <td>0.0</td>\n",
       "      <td>0.0</td>\n",
       "      <td>1.0</td>\n",
       "    </tr>\n",
       "    <tr>\n",
       "      <th>4</th>\n",
       "      <td>35</td>\n",
       "      <td>992</td>\n",
       "      <td>1</td>\n",
       "      <td>3</td>\n",
       "      <td>0.127479</td>\n",
       "      <td>4</td>\n",
       "      <td>1</td>\n",
       "      <td>68</td>\n",
       "      <td>2</td>\n",
       "      <td>1</td>\n",
       "      <td>...</td>\n",
       "      <td>2</td>\n",
       "      <td>0.0</td>\n",
       "      <td>0.0</td>\n",
       "      <td>1.0</td>\n",
       "      <td>0.0</td>\n",
       "      <td>1.0</td>\n",
       "      <td>0.0</td>\n",
       "      <td>0.0</td>\n",
       "      <td>0.0</td>\n",
       "      <td>1.0</td>\n",
       "    </tr>\n",
       "  </tbody>\n",
       "</table>\n",
       "<p>5 rows × 36 columns</p>\n",
       "</div>"
      ],
      "text/plain": [
       "   Age  DailyRate  DistanceFromHome  Education  EducationField   \n",
       "0   36       1174                 3          4        0.233871  \\\n",
       "1   21        546                 5          1        0.127479   \n",
       "2   43        422                 1          3        0.151584   \n",
       "3   42        188                29          3        0.127479   \n",
       "4   35        992                 1          3        0.127479   \n",
       "\n",
       "   EnvironmentSatisfaction  Gender  HourlyRate  JobInvolvement  JobLevel  ...   \n",
       "0                        1       0          99               3         2  ...  \\\n",
       "1                        3       1          97               3         1  ...   \n",
       "2                        4       0          33               3         2  ...   \n",
       "3                        2       1          56               1         2  ...   \n",
       "4                        4       1          68               2         1  ...   \n",
       "\n",
       "   YearsWithCurrManager  BusinessTravel_Non-Travel   \n",
       "0                     1                        0.0  \\\n",
       "1                     2                        0.0   \n",
       "2                     2                        0.0   \n",
       "3                     0                        0.0   \n",
       "4                     2                        0.0   \n",
       "\n",
       "   BusinessTravel_Travel_Frequently  BusinessTravel_Travel_Rarely   \n",
       "0                               0.0                           1.0  \\\n",
       "1                               0.0                           1.0   \n",
       "2                               1.0                           0.0   \n",
       "3                               0.0                           1.0   \n",
       "4                               0.0                           1.0   \n",
       "\n",
       "   Department_Human Resources  Department_Research & Development   \n",
       "0                         0.0                                0.0  \\\n",
       "1                         0.0                                1.0   \n",
       "2                         0.0                                1.0   \n",
       "3                         0.0                                1.0   \n",
       "4                         0.0                                1.0   \n",
       "\n",
       "   Department_Sales  MaritalStatus_Divorced  MaritalStatus_Married   \n",
       "0               1.0                     0.0                    0.0  \\\n",
       "1               0.0                     0.0                    0.0   \n",
       "2               0.0                     0.0                    1.0   \n",
       "3               0.0                     0.0                    0.0   \n",
       "4               0.0                     0.0                    0.0   \n",
       "\n",
       "   MaritalStatus_Single  \n",
       "0                   1.0  \n",
       "1                   1.0  \n",
       "2                   0.0  \n",
       "3                   1.0  \n",
       "4                   1.0  \n",
       "\n",
       "[5 rows x 36 columns]"
      ]
     },
     "execution_count": 20,
     "metadata": {},
     "output_type": "execute_result"
    }
   ],
   "source": [
    "X_train.head()"
   ]
  },
  {
   "cell_type": "markdown",
   "metadata": {
    "id": "-S7_tR-n2hlM"
   },
   "source": [
    "## DT intuition"
   ]
  },
  {
   "cell_type": "markdown",
   "metadata": {
    "id": "vaeDhnL120Mn"
   },
   "source": [
    "Say, we have attrition data with 2 features\n",
    "- Age\n",
    "- Overtime\n",
    "\n",
    "When we plot the data, it looks something like this :"
   ]
  },
  {
   "cell_type": "markdown",
   "metadata": {
    "id": "SpsKOnv1Fewl"
   },
   "source": [
    "<img src=https://d2beiqkhq929f0.cloudfront.net/public_assets/assets/000/040/783/original/Screenshot_2023-07-28_at_11.12.53_AM.png?1690523246 width=700>\n",
    "\n",
    "\n",
    "\n",
    "\n"
   ]
  },
  {
   "cell_type": "markdown",
   "metadata": {
    "id": "3YIMbKweI-2l"
   },
   "source": [
    "\n",
    "#### Can we use logistic regression to classify this data ?\n",
    "\n",
    "**No** as it is a **linear model** and we have **non linear data** with us.\n",
    "\n",
    "- Logistic regression will not perform well in this case.\n"
   ]
  },
  {
   "cell_type": "markdown",
   "metadata": {
    "id": "uyyMVSRPJPaO"
   },
   "source": [
    "#### Can we use KNN to solve this problem ?\n"
   ]
  },
  {
   "cell_type": "markdown",
   "metadata": {
    "id": "H_McdDL6K7ID"
   },
   "source": [
    "**Yes** as it works on assumptions that\n",
    "- neighbourhood should be homogenous\n",
    "- i.e. datapoints belonging to same class are close to each other.\n",
    "\n",
    "This assumption is valid here.\n"
   ]
  },
  {
   "cell_type": "markdown",
   "metadata": {
    "id": "4fTYWLJvQUa-"
   },
   "source": [
    "#### But, KNN has a big disadvantage\n"
   ]
  },
  {
   "cell_type": "markdown",
   "metadata": {
    "id": "EfvPsMDANvXN"
   },
   "source": [
    "```\n",
    "Quiz - 1 Try it out\n",
    "\n",
    "What is the main disadvange of KNN ?\n",
    "\n",
    "a. It becomes computationally expensive for large datasets\n",
    "b. Not suitable to handle categorical features\n",
    "c. Can't be used for regression\n",
    "d. Non parametric algo so difficult to train.\n",
    "\n",
    "\n",
    "Ans: a. It becomes computationally expensive for large datasets\n",
    "\n",
    "```"
   ]
  },
  {
   "cell_type": "markdown",
   "metadata": {
    "id": "lPxCuimXMS3b"
   },
   "source": [
    "\n",
    "- We **can't productionize** KNN for large datasets\n",
    "\n",
    "**Why?**\n",
    "\n",
    "Because entire training data is used every time we make an inference.\n",
    "\n",
    "So, it will be difficult to use KNN in this case.\n"
   ]
  },
  {
   "cell_type": "markdown",
   "metadata": {
    "id": "s_hFgAh4My8G"
   },
   "source": [
    "Let's try something else.\n",
    "\n",
    "\n",
    "Let's try to **split** the data into regions using **axis parallel hyperplanes**\n",
    "\n",
    "The splitted region  along with decision boundaries will look like :"
   ]
  },
  {
   "cell_type": "markdown",
   "metadata": {
    "id": "0Z0gLow3Cuq2"
   },
   "source": [
    "<img src=https://d2beiqkhq929f0.cloudfront.net/public_assets/assets/000/040/784/original/Screenshot_2023-07-28_at_11.13.00_AM.png?1690523302 width=700>"
   ]
  },
  {
   "cell_type": "markdown",
   "metadata": {
    "id": "vK0ZKePYmcvx"
   },
   "source": [
    "With the help of these hyperplanes,\n",
    "- we can represent these **homogenous splitted region** using **if else conditions**\n",
    "\n",
    "Let's see how it looks like :"
   ]
  },
  {
   "cell_type": "markdown",
   "metadata": {
    "id": "QppsGojxHShi"
   },
   "source": [
    "<img src=https://d2beiqkhq929f0.cloudfront.net/public_assets/assets/000/040/785/original/Screenshot_2023-07-28_at_11.13.06_AM.png?1690523371 width=700>"
   ]
  },
  {
   "cell_type": "markdown",
   "metadata": {
    "id": "VuDR6AieBoJA"
   },
   "source": [
    "Now, that we have the conditions with us\n",
    "\n",
    "Let's try to represent these conditions digramatically:"
   ]
  },
  {
   "cell_type": "markdown",
   "metadata": {
    "id": "hCbEoYn3E6U8"
   },
   "source": [
    "Notice that\n",
    "- This is resembling a **tree structure**\n",
    "\n",
    "where\n",
    "- **top most node** is called **root node**\n",
    "- **Bottom most node** is called **leaf node**\n",
    "- and **the nodes in between** them are called **Internal node**\n",
    "\n",
    "\n",
    "This is called a **Decision Tree**\n",
    "\n"
   ]
  },
  {
   "cell_type": "markdown",
   "metadata": {
    "id": "-OhFGy1IpLR8"
   },
   "source": [
    "```\n",
    "Quiz 2 - Check your understanding\n",
    "\n",
    "Statement I : Topmost node is called leaf node\n",
    "\n",
    "Statement II: Topmost node is called root node.\n",
    "\n",
    "Statement III: Bottom most node are called leaf nodes.\n",
    "\n",
    "Statement IV: Nodes in between root and leaf are called decision nodes/ internal nodes.\n",
    "\n",
    "\n",
    "Which of the following statements are true ?\n",
    "\n",
    "a. All statements are true\n",
    "b. II & IV\n",
    "c. I & III\n",
    "d. III & IV\n",
    "\n",
    "\n",
    "Correction option: d. II & IV\n",
    "```"
   ]
  },
  {
   "cell_type": "markdown",
   "metadata": {
    "id": "bB8E9b31uUWd"
   },
   "source": [
    "#### Visualization"
   ]
  },
  {
   "cell_type": "markdown",
   "metadata": {
    "id": "KrbA1xfouXam"
   },
   "source": [
    "Here's an visualization to help you understand how we use these axis parallel hyperplane to split the data.\n",
    "\n",
    "https://mlu-explain.github.io/decision-tree/"
   ]
  },
  {
   "cell_type": "markdown",
   "metadata": {
    "id": "cLz1wqBuuikG"
   },
   "source": [
    "<center><img src='https://drive.google.com/uc?id=1aqUEGBXOhMUlrhQ8vPiDxRQqM3IROd1s' width=800>\n",
    "\n",
    "\n"
   ]
  },
  {
   "cell_type": "markdown",
   "metadata": {
    "id": "5b0W3cJ-wKmq"
   },
   "source": [
    "Notice that\n",
    "- how easily it is able to classify multiclass data\n",
    "\n",
    "- which might have been an overhead if we decided to use logistic regression"
   ]
  },
  {
   "cell_type": "markdown",
   "metadata": {
    "id": "hHrCEb6vWEzB"
   },
   "source": [
    "#### (Optional) But, Will DT only work when decision boundaries are axis parallel ?"
   ]
  },
  {
   "cell_type": "markdown",
   "metadata": {
    "id": "tYz8lqKTWJ8F"
   },
   "source": [
    "Say, we have the following dataset :"
   ]
  },
  {
   "cell_type": "markdown",
   "metadata": {
    "id": "GXr451G0XzQR"
   },
   "source": [
    " Rememeber that, in DT\n",
    "- **each individual hyperplane is axis parallel.**\n",
    "- the **final decision boundary** which is **made out of combining these hyperplane need not be axis parallel**"
   ]
  },
  {
   "cell_type": "markdown",
   "metadata": {
    "id": "Twf0bPUoYSmo"
   },
   "source": [
    "Let's see how DT will handle this case:"
   ]
  },
  {
   "cell_type": "markdown",
   "metadata": {
    "id": "OVra7lzaaY76"
   },
   "source": [
    "It will make multiple axis parallel hyperplane to split the region in homogenous subspace.\n",
    "\n",
    "\n",
    "But, if you were see its effective decision boundary , it'll come out to be :"
   ]
  },
  {
   "cell_type": "markdown",
   "metadata": {
    "id": "UxbevDVZa9gJ"
   },
   "source": [
    "<img src=https://d2beiqkhq929f0.cloudfront.net/public_assets/assets/000/040/787/original/Screenshot_2023-07-28_at_11.13.19_AM.png?1690524717 width=700>"
   ]
  },
  {
   "cell_type": "markdown",
   "metadata": {
    "id": "osEJMGmOIYi1"
   },
   "source": [
    "Whenever we get a datapoint\n",
    "\n",
    "- Based on the set of rules/ condition\n",
    "    - we classify it into one of the classes.\n",
    "\n",
    "**Logically**, it is combination of **nested if else conditions**\n",
    "\n",
    "**Geomtrically**, it is combination of **axis parallel hyperplanes**.\n",
    "- and this combination of axis parallel hyperplane helps us in classifying non linear data"
   ]
  },
  {
   "cell_type": "markdown",
   "metadata": {
    "id": "RHn-Acg8UfXk"
   },
   "source": [
    "```\n",
    "Quiz 3 - Check your understanding\n",
    "\n",
    "Which of the following is an advantage of Decision Tree\n",
    "\n",
    "a. Decision trees can handle multi class classification problems.\n",
    "b. Decision trees are easily interprtable\n",
    "c. Decision trees can capture complex nonlinear relationships in the data.\n",
    "d. All of the above\n",
    "\n",
    "Ans: d. All of the above\n",
    "```"
   ]
  },
  {
   "cell_type": "markdown",
   "metadata": {
    "id": "avzjZpjYH9Bz"
   },
   "source": [
    "#### One of the main advantage of Decision Trees are\n",
    "  \n",
    "DTs are **easily interpretable**\n",
    "\n",
    "**How so?**\n",
    "\n",
    "\n",
    "  - Let's take an example:\n",
    "    - One conclusion that can be derived from above decision tree is\n",
    "      - Employees younger than 29 yrs and work overtime >= 2.5hrs are more likely to churn\n",
    "    - This can help the company take specific decisions in this direction to reduce attrition such as:\n",
    "      - Incentivise overtime\n",
    "      - Reducing workload"
   ]
  },
  {
   "cell_type": "markdown",
   "metadata": {
    "id": "B3Uovg_wfqJh"
   },
   "source": [
    "\n",
    "\n",
    "<img src=https://d2beiqkhq929f0.cloudfront.net/public_assets/assets/000/040/786/original/Screenshot_2023-07-28_at_11.13.12_AM.png?1690524563 width=700>\n",
    "\n"
   ]
  },
  {
   "cell_type": "markdown",
   "metadata": {
    "id": "UlNCwBAFgzFn"
   },
   "source": [
    "If you notice that,\n",
    "- while building the hyperplanes here\n",
    "- we were **trying to split** data **into** **homogenous region/ subspace** containing only single class datapoints"
   ]
  },
  {
   "cell_type": "markdown",
   "metadata": {
    "id": "cmlzQrxxV4uL"
   },
   "source": [
    "```\n",
    "Quiz-4 Check your understanding\n",
    "\n",
    "What are we trying to do in Decision Trees?\n",
    "\n",
    "a. Trying to split data into homogenous regions\n",
    "b. achieve max possible prediction confidence\n",
    "c. learn the decision rules from the data\n",
    "d. All of the above\n",
    "\n",
    "\n",
    "Correct option: d. All of the above\n",
    "\n",
    "```"
   ]
  },
  {
   "cell_type": "markdown",
   "metadata": {
    "id": "vLMymNSdhN_I"
   },
   "source": [
    "#### What do we need to create these homogenous subspace ?\n",
    "\n",
    "We need 2 things\n",
    "- Feature\n",
    "- Condition to split the data.\n",
    "\n",
    "\n",
    "We have the features with us.\n",
    "- We just need to figure out how to find these split conditions.\n",
    "\n",
    "\n",
    "This is what **learning/ training** means in **decision tree**\n",
    "\n",
    "Let's learn how to split the data into homogenous regions"
   ]
  },
  {
   "cell_type": "markdown",
   "metadata": {
    "id": "1R45N1r3IW_x"
   },
   "source": [
    "# Points to Remember"
   ]
  },
  {
   "cell_type": "markdown",
   "metadata": {
    "id": "Vld7kAdMIZU-"
   },
   "source": [
    "<img src=https://d2beiqkhq929f0.cloudfront.net/public_assets/assets/000/040/788/original/Screenshot_2023-07-28_at_11.13.28_AM.png?1690524797 width=700>"
   ]
  },
  {
   "cell_type": "markdown",
   "metadata": {
    "id": "IpsxpJyChaFG"
   },
   "source": [
    "## How to split the nodes ?"
   ]
  },
  {
   "cell_type": "markdown",
   "metadata": {
    "id": "F_CtW_KGe18B"
   },
   "source": [
    "#### But, how do we find these rules ?\n",
    "\n",
    "- Obviously, we cannot manually create rules for the entire data\n",
    "- So, we will have to **learn these rules from the data**\n",
    "\n",
    "<br>\n",
    "\n",
    "#### What is the end goal of classification ?\n",
    "\n",
    "Our purpose is to achieve max possible predicition confidence and accuracy\n"
   ]
  },
  {
   "cell_type": "markdown",
   "metadata": {
    "id": "9XdRO6pFIlO-"
   },
   "source": [
    "<img src=https://d2beiqkhq929f0.cloudfront.net/public_assets/assets/000/040/789/original/Screenshot_2023-07-28_at_11.13.34_AM.png?1690524836 width=700>"
   ]
  },
  {
   "cell_type": "markdown",
   "metadata": {
    "id": "-NoVm5ydIzOy"
   },
   "source": [
    "\n",
    "<br>\n",
    "\n",
    "#### How do decision trees improve predicition confidence ?\n",
    "  - By dividing heterogenous subspaces into smaller subspaces\n",
    "\n",
    "We want\n",
    "  - A homogenous subspace i.e. which contains data belonging to only one class\n",
    "  \n",
    "   **Why ?**\n",
    "    - Confidence of predicition will be maximum in this case"
   ]
  },
  {
   "cell_type": "markdown",
   "metadata": {
    "id": "Ra1xNv3Phtiv"
   },
   "source": [
    "Say, we have a node with following distribution"
   ]
  },
  {
   "cell_type": "markdown",
   "metadata": {
    "id": "CFUkf_wYzzqf"
   },
   "source": [
    "And we are given with two options to split this node."
   ]
  },
  {
   "cell_type": "markdown",
   "metadata": {
    "id": "xOQJFW3AI6jS"
   },
   "source": [
    "<img src=https://d2beiqkhq929f0.cloudfront.net/public_assets/assets/000/040/790/original/Screenshot_2023-07-28_at_11.13.41_AM.png?1690524942 width=700>"
   ]
  },
  {
   "cell_type": "markdown",
   "metadata": {
    "id": "h3SS8sEm5b-V"
   },
   "source": [
    "#### Which option will give us more homogenous (purer) nodes ?\n",
    "\n",
    "\n",
    "```\n",
    "Quiz 5 - Try it out\n",
    "\n",
    "\n",
    "Given the following split options for splitting root node,\n",
    "\n",
    "Root node : 100 +Ve, 100 -ve datapoint\n",
    "\n",
    "Option 1:\n",
    "\n",
    "Left node : 10 +ve, 90 -ve datapoints\n",
    "Right node : 90 + ve, 10 -ve datapoints\n",
    "\n",
    "\n",
    "Option 2 :\n",
    "Left node : 60 +ve, 40 -ve datapoints\n",
    "Right node : 40 +ve, 60 -ve datapoints\n",
    "\n",
    "Which option will give us more homogenous nodes ?\n",
    "\n",
    "a. Option 1\n",
    "b. Option 2\n",
    "c. Both will give same homogenous nodes\n",
    "d. None\n",
    "\n",
    "```\n",
    "Correct option: **Option 1**"
   ]
  },
  {
   "cell_type": "markdown",
   "metadata": {
    "id": "RyeC0lTeGm6z"
   },
   "source": [
    "#### But, why are we looking for pure nodes ?"
   ]
  },
  {
   "cell_type": "markdown",
   "metadata": {
    "id": "F-DyoZYxB0fz"
   },
   "source": [
    "In order to understand that,\n",
    "\n",
    "Let's see **how DT assign class label at prediction time**.\n",
    "\n",
    "\n",
    "During prediction time,\n",
    "- it predicts the label as the one of majority class at that node.\n",
    "\n",
    "Let's see with an example:"
   ]
  },
  {
   "cell_type": "markdown",
   "metadata": {
    "id": "XJypi38GEoca"
   },
   "source": [
    "<center><img src='decision_img.png' width=800>\n"
   ]
  },
  {
   "cell_type": "markdown",
   "metadata": {
    "id": "m46RGNLYGEiA"
   },
   "source": [
    "As we are taking majority vote\n",
    "- **pure node** will have **more confidence** in the prediction\n"
   ]
  },
  {
   "cell_type": "markdown",
   "metadata": {
    "id": "1d_StGvU54Qw"
   },
   "source": [
    "If we were to pick **option 1**\n",
    "- We have **purer node** and more homogenous data\n",
    "- It'll give us **more confidence** in our prediction\n",
    "\n",
    "\n",
    "<br>\n",
    "\n",
    "If we were to pick option 2\n",
    "- There is **less condifence** in the prediction\n",
    "- i.e. we are 60% confident in our prediction (left child node) that our datapoint belong to positive class\n",
    "- Hence, node is **impure** and more hetrogenous data\n",
    "\n",
    "\n",
    "**So, we'll pick option 1 for split.**\n",
    "\n",
    "\n",
    "\n",
    "\n",
    "\n"
   ]
  },
  {
   "cell_type": "markdown",
   "metadata": {
    "id": "SK_cX1xnTobk"
   },
   "source": [
    "#### But, what does confidence here means ?\n",
    "\n",
    "**Think of condifence as class probability.**\n",
    "\n",
    "For example:\n",
    "- In left node,\n",
    "    - we have datapoints as follows:\n",
    "        \n",
    "            +ve class : 10\n",
    "            -ve class : 90\n",
    "\n",
    "\n",
    "So, we can say that\n",
    "- if a datapoint belong to left node\n",
    "- there is a 90% probability it belongs to -ve class\n",
    "\n",
    "or class probability is 0.9.\n"
   ]
  },
  {
   "cell_type": "markdown",
   "metadata": {
    "id": "KX7Yh3bXTqkn"
   },
   "source": [
    "<center><img src='decision_img-2.png' width=800>"
   ]
  },
  {
   "cell_type": "markdown",
   "metadata": {
    "id": "SKhCfDMlHHUx"
   },
   "source": [
    "**Conclusion**:\n",
    "- **Purer** the nodes, more **homogenous** the data is.\n",
    "- **More homogenous** the data in the node is, **more confident** we are about our prediction belonging to specific class.\n",
    "- **purer** the node, **more the probability** that datapoints belongs to particular class."
   ]
  },
  {
   "cell_type": "markdown",
   "metadata": {
    "id": "_iJH8DnVWYEQ"
   },
   "source": [
    "```\n",
    "Quiz- 6 - Check your understanding\n",
    "\n",
    "\n",
    "Which of the following statement is false ?\n",
    "\n",
    "a. Purer the node, more confidence we are in our prediction\n",
    "b. For making prediction, DT takes majority vote of class.\n",
    "c. More homogenous the data is at the node, more confident we are about our prediction\n",
    "d. None of the above\n",
    "\n",
    "\n",
    "Correction option: d. None of the above\n",
    "\n",
    "```"
   ]
  },
  {
   "cell_type": "markdown",
   "metadata": {
    "id": "DwSHKDOW7joy"
   },
   "source": [
    "So, our **objective** is:\n",
    "- To **split a node** in such a way\n",
    "    - that we **get purer nodes**\n",
    "\n",
    "\n",
    "#### But, how do we quantify the purity of the nodes ?\n",
    "\n",
    "#### How do we calculate purity mathematically ?\n",
    "\n",
    "We do so using **Entropy**\n",
    "\n",
    "Let's understand what entropy is"
   ]
  },
  {
   "cell_type": "markdown",
   "metadata": {
    "id": "whcJ7OtlEwmo"
   },
   "source": [
    "## Entropy"
   ]
  },
  {
   "cell_type": "markdown",
   "metadata": {
    "id": "RUyJogmyF76I"
   },
   "source": [
    "Entropy is used to **measure the impurity** not purity\n",
    "- i.e. it measures the hetrogenity of the node.\n",
    "\n",
    "\n",
    "Fun fact:\n",
    "- The concept of entropy comes from basic probability/ information theory\n",
    "- where it is used to measure the randomness.\n",
    "\n",
    "So,\n",
    "\n",
    "More the hetrogenity in the node,\n",
    "- larger the value of entropy will be and vice versa.\n",
    "\n",
    "\n",
    "\n",
    "\n"
   ]
  },
  {
   "cell_type": "markdown",
   "metadata": {
    "id": "dEDThyiTHXlm"
   },
   "source": [
    "```\n",
    "Quiz 7 - Try it yourself\n",
    "\n",
    "In which of the cases will the entropy be minimum ?\n",
    "\n",
    "A. A node will all datapoints belonging to one class only\n",
    "B. Node with datapoints belonging to both class\n",
    "C. Node with 100 datapoints with one datapoint belonging to positive and rest belonging to other class\n",
    "D. Entropy is independent of proportion of datapoints in the node.\n",
    "\n",
    "\n",
    "Ans: A. A node will all datapoints belonging to one class only\n",
    "\n",
    "\n",
    "```"
   ]
  },
  {
   "cell_type": "markdown",
   "metadata": {
    "id": "O69aRi5OHl3T"
   },
   "source": [
    "Since we want the **nodes** to be **pure**,\n",
    "- we want **entropy** as **low** as possible."
   ]
  },
  {
   "cell_type": "markdown",
   "metadata": {
    "id": "oC-gYqP2Xh6T"
   },
   "source": [
    "Let's look into the fomulation of Entropy"
   ]
  },
  {
   "cell_type": "markdown",
   "metadata": {
    "id": "tDvPbuE8JiYu"
   },
   "source": [
    "<img src=https://d2beiqkhq929f0.cloudfront.net/public_assets/assets/000/040/791/original/Screenshot_2023-07-28_at_11.13.48_AM.png?1690524980 width=700>"
   ]
  },
  {
   "cell_type": "markdown",
   "metadata": {
    "id": "zd-tyGSnX2Or"
   },
   "source": [
    "### Entropy formulation"
   ]
  },
  {
   "cell_type": "markdown",
   "metadata": {
    "id": "T4vgJCAHX3wv"
   },
   "source": [
    "Say, Y be a **discrete random variable**.\n",
    "\n",
    "- it can take **k discrete values** i.e y ∈ {$y_1, y_2, y_3, ..., y_k$}\n",
    "\n",
    "\n",
    "#### How many discrete values of y do we have in employee attrition problem ?\n",
    "\n",
    "Since, there are **two classes** (churn or stay),\n",
    "- we have two discrete values for y in this case."
   ]
  },
  {
   "cell_type": "markdown",
   "metadata": {
    "id": "OT1Ag6pwaAyt"
   },
   "source": [
    "#### What will be the entropy for our binary case classification problem ?"
   ]
  },
  {
   "cell_type": "markdown",
   "metadata": {
    "id": "69VB26gEJbQh"
   },
   "source": [
    "<img src=https://d2beiqkhq929f0.cloudfront.net/public_assets/assets/000/040/792/original/Screenshot_2023-07-28_at_11.13.54_AM.png?1690525078 width=700>"
   ]
  },
  {
   "cell_type": "markdown",
   "metadata": {
    "id": "lQ8k-i0KdrRP"
   },
   "source": [
    "Let's try to understand entropy for binary class case using an example"
   ]
  },
  {
   "cell_type": "markdown",
   "metadata": {
    "id": "UOu1WBTfbB-U"
   },
   "source": [
    "Say, we have 4 jars.\n",
    "- Each jar is filled with balls\n",
    "\n",
    "Balls are of two colors\n",
    "- Red ball\n",
    "- Blue ball\n",
    "\n"
   ]
  },
  {
   "cell_type": "markdown",
   "metadata": {
    "id": "KbZ8f0dJdXE0"
   },
   "source": [
    "You have been asked to pick a ball from these 4 jars\n",
    "\n",
    "\n",
    "#### Which jars will give you highest confidence on whether the ball you have picked is red or not ?\n",
    "\n",
    "Jar 3 and 4 will give us highest confidence.\n",
    "- As there jars are pure.\n",
    "- So, we are pretty sure\n",
    "    - We won't get a red ball in Jar 3\n",
    "    - And we'll definately get red ball in Jar 4.\n",
    "\n",
    "- In Jar 1,\n",
    "    - which is impure (as it has both red and blue balls)\n",
    "    - we won't have much confidence on whether the ball being picked is red or not."
   ]
  },
  {
   "cell_type": "markdown",
   "metadata": {
    "id": "crX4mGqueMz0"
   },
   "source": [
    "Let's represent these confidence in numerical terms. i.e. **calculate entropy of each jar**."
   ]
  },
  {
   "cell_type": "markdown",
   "metadata": {
    "id": "GojqlJl6enxE"
   },
   "source": [
    "<img src=https://d2beiqkhq929f0.cloudfront.net/public_assets/assets/000/040/793/original/Screenshot_2023-07-28_at_11.14.01_AM.png?1690525135 width=700>"
   ]
  },
  {
   "cell_type": "markdown",
   "metadata": {
    "id": "FSwX8hPMjR-d"
   },
   "source": [
    "Notice that\n",
    "- Jar with equal number of red and blue balls have highest entropy i.e. 1\n",
    "- Jar with only red balls or blue balls has lowest entropy i.e. 0.\n",
    "\n",
    "\n"
   ]
  },
  {
   "cell_type": "markdown",
   "metadata": {
    "id": "rc8O6jyZYB_D"
   },
   "source": [
    "```\n",
    "Quiz-8 - Check your understanding\n",
    "\n",
    "Which of the following statements is true ?\n",
    "\n",
    "a. More the entropy, more pure the node is.\n",
    "b. Less the entropy, more impure the node is.\n",
    "c. More the entropy, more homogenous the node is.\n",
    "d. Less the entropy, more homogenous the node is.\n",
    "\n",
    "\n",
    "Correct option: d. Less the entropy, more homogenous the node is\n",
    "\n",
    "\n",
    "Explanation:\n",
    "- More pure the node is i.e. more homogenous\n",
    "    - less will be the entropy.\n",
    "\n",
    "```"
   ]
  },
  {
   "cell_type": "markdown",
   "metadata": {
    "id": "YjMH5mXGjyZr"
   },
   "source": [
    "\n",
    "\n",
    "` Quiz 9 - Try it yourself`\n",
    "\n",
    "```\n",
    "At what probability value will the entropy value be maximum for binary class?\n",
    "\n",
    "A. 0\n",
    "B. 0.5\n",
    "C. 0.33\n",
    "D. 1\n",
    "\n",
    "\n",
    "Ans: B. 0.5\n",
    "\n",
    "```\n",
    "\n",
    "Let's understand it by plotting the the curve"
   ]
  },
  {
   "cell_type": "markdown",
   "metadata": {
    "id": "RJmvqfGFkA2b"
   },
   "source": [
    "#### Plotting entropy"
   ]
  },
  {
   "cell_type": "markdown",
   "metadata": {
    "id": "tS_P7w5NkDNt"
   },
   "source": [
    "Let's plot entropy for binary system and see how it looks like:"
   ]
  },
  {
   "cell_type": "markdown",
   "metadata": {
    "id": "GIpsQNPIuAtR"
   },
   "source": [
    "Desmos plot: https://www.desmos.com/calculator/avaplvktso"
   ]
  },
  {
   "cell_type": "code",
   "execution_count": 22,
   "metadata": {
    "id": "LOoCgCeprKSx"
   },
   "outputs": [],
   "source": [
    "from IPython.display import IFrame"
   ]
  },
  {
   "cell_type": "code",
   "execution_count": 23,
   "metadata": {
    "colab": {
     "base_uri": "https://localhost:8080/",
     "height": 416
    },
    "id": "70H9Q_hprR_c",
    "outputId": "3a89fe6f-a810-4776-ec01-73b9993659fa"
   },
   "outputs": [
    {
     "data": {
      "text/html": [
       "\n",
       "        <iframe\n",
       "            width=\"700\"\n",
       "            height=\"375\"\n",
       "            src=\"https://www.desmos.com/calculator/avaplvktso\"\n",
       "            frameborder=\"0\"\n",
       "            allowfullscreen\n",
       "            \n",
       "        ></iframe>\n",
       "        "
      ],
      "text/plain": [
       "<IPython.lib.display.IFrame at 0x146150510f0>"
      ]
     },
     "execution_count": 23,
     "metadata": {},
     "output_type": "execute_result"
    }
   ],
   "source": [
    "IFrame(src=\"https://www.desmos.com/calculator/avaplvktso\", width=700, height=375)"
   ]
  },
  {
   "cell_type": "markdown",
   "metadata": {
    "id": "Ap85B0IyJyok"
   },
   "source": [
    "<img src= https://d2beiqkhq929f0.cloudfront.net/public_assets/assets/000/040/794/original/Screenshot_2023-07-28_at_11.14.07_AM.png?1690525169 width=700>"
   ]
  },
  {
   "cell_type": "markdown",
   "metadata": {
    "id": "-VreJXJSo-tp"
   },
   "source": [
    "Notice that\n",
    "- Value of entropy is maximum\n",
    "    - when the probability is 0.5 i.e. equal number of datapoints for each class\n",
    "- Entropy value is minimum (Entropy = 0 )\n",
    "    - when the probability P(Y = 1) is either 0 or 1 (pure node)"
   ]
  },
  {
   "cell_type": "markdown",
   "metadata": {
    "id": "09jKfFxgqrf7"
   },
   "source": [
    "#### Visualization for entropy"
   ]
  },
  {
   "cell_type": "markdown",
   "metadata": {
    "id": "IARnkW0mqtX1"
   },
   "source": [
    "In case you want to see how entropy changes as number of datapoint changes, here's a visualization for that."
   ]
  },
  {
   "cell_type": "code",
   "execution_count": 24,
   "metadata": {
    "scrolled": true
   },
   "outputs": [
    {
     "data": {
      "text/html": [
       "\n",
       "        <iframe\n",
       "            width=\"700\"\n",
       "            height=\"375\"\n",
       "            src=\"https://mlu-explain.github.io/decision-tree/\"\n",
       "            frameborder=\"0\"\n",
       "            allowfullscreen\n",
       "            \n",
       "        ></iframe>\n",
       "        "
      ],
      "text/plain": [
       "<IPython.lib.display.IFrame at 0x14614ef2770>"
      ]
     },
     "execution_count": 24,
     "metadata": {},
     "output_type": "execute_result"
    }
   ],
   "source": [
    "IFrame(src=\"https://mlu-explain.github.io/decision-tree/\", width=700, height=375)"
   ]
  },
  {
   "cell_type": "markdown",
   "metadata": {},
   "source": [
    "<center><img src='decision_img-3.png' width=800>"
   ]
  },
  {
   "cell_type": "markdown",
   "metadata": {
    "id": "dZEbusbophxi"
   },
   "source": [
    "**Conclusion:**\n",
    "- Entropy is **maximum** when the node is **impure** (P(Y =1) = 0.5) i.e. 1\n",
    "- Entropy is  **minimum** when the node is **pure** i.e. 0\n",
    "- Entropy lies between 0 and 1."
   ]
  },
  {
   "cell_type": "markdown",
   "metadata": {
    "id": "lgoTklj-piJ_"
   },
   "source": [
    "Now, that we have learnt about purity and how to use entropy to calculate that.\n",
    "\n",
    "Let's see how Decision Trees uses it for internal working"
   ]
  },
  {
   "cell_type": "markdown",
   "metadata": {
    "id": "eKxP13OzWxw_"
   },
   "source": [
    "```\n",
    "Quiz 10 - Check your understanding\n",
    "\n",
    "What will the value of entropy for following distribution of datapoints in node:\n",
    "\n",
    "Positive class: 50\n",
    "Negative class: 0\n",
    "\n",
    "\n",
    "Options:\n",
    "A. 0.33\n",
    "B. 1\n",
    "C. -1\n",
    "D. 0\n",
    "\n",
    "Answer: D. 0\n",
    "\n",
    "\n",
    "Explanation:\n",
    "- Since it is a pure node, it's entropy will be 0 .\n",
    "\n",
    "```"
   ]
  },
  {
   "cell_type": "markdown",
   "metadata": {
    "id": "PrxBzgdUJ8qg"
   },
   "source": [
    "# Points to Remember"
   ]
  },
  {
   "cell_type": "markdown",
   "metadata": {
    "id": "8myDcn5KJ-tO"
   },
   "source": [
    "<img src=https://d2beiqkhq929f0.cloudfront.net/public_assets/assets/000/040/795/original/Screenshot_2023-07-28_at_11.14.13_AM.png?1690525211 width=700>"
   ]
  },
  {
   "cell_type": "markdown",
   "metadata": {
    "id": "6SanfczxvFoH"
   },
   "source": [
    "## How Decision Tree works? Building a DT intuition"
   ]
  },
  {
   "cell_type": "markdown",
   "metadata": {
    "id": "F91BUgBFvXzI"
   },
   "source": [
    "Let's understand it using a dummy example.\n",
    "\n",
    "\n",
    "Consider a dataset with 100 datapoints\n",
    "- and 2 features (Gender , Age < 35 )\n",
    "\n"
   ]
  },
  {
   "cell_type": "markdown",
   "metadata": {
    "id": "olyx1hmaKIyi"
   },
   "source": [
    "<img src=https://d2beiqkhq929f0.cloudfront.net/public_assets/assets/000/040/796/original/Screenshot_2023-07-28_at_11.14.20_AM.png?1690525257 width=700>"
   ]
  },
  {
   "cell_type": "markdown",
   "metadata": {
    "id": "VDTI7Rma1jEO"
   },
   "source": [
    "#### Can we use this root node for predicition ?\n",
    "\n",
    "No. We can't. It is highly hetrogenous\n",
    "\n",
    "Hence, it'll have a high entropy.\n",
    "\n",
    "Let's calculate its entropy"
   ]
  },
  {
   "cell_type": "markdown",
   "metadata": {
    "id": "n-h4hPWmIbfL"
   },
   "source": [
    "<img src=https://d2beiqkhq929f0.cloudfront.net/public_assets/assets/000/040/797/original/Screenshot_2023-07-28_at_11.14.27_AM.png?1690525296 width=700>"
   ]
  },
  {
   "cell_type": "markdown",
   "metadata": {
    "id": "bH4rS8s7JKa-"
   },
   "source": [
    "So, we should split the node in order to reduce the entropy.\n",
    "- and make it homogenous.\n",
    "\n",
    "We have two features with us. i.e. Gender and Age < 35.\n",
    "\n",
    "\n"
   ]
  },
  {
   "cell_type": "markdown",
   "metadata": {
    "id": "X9DFcnN7Jnw1"
   },
   "source": [
    "#### Which feature shall we use for splitting ?\n",
    "\n",
    "We don't know until we calculate the entropy of split for the feature.\n",
    "\n",
    "\n"
   ]
  },
  {
   "cell_type": "markdown",
   "metadata": {
    "id": "Nj39SX-EKG6G"
   },
   "source": [
    "#### Splitting using Gender feature and age<35"
   ]
  },
  {
   "cell_type": "markdown",
   "metadata": {
    "id": "dpKhNdWyKDJh"
   },
   "source": [
    "Let's first split using Gender feature\n",
    "\n",
    "\n",
    "When we split using gender\n",
    "- we get two child nodes\n",
    "- one for Male\n",
    "- other for Female."
   ]
  },
  {
   "cell_type": "markdown",
   "metadata": {
    "id": "5mwHxHszKdZR"
   },
   "source": [
    "<img src=https://d2beiqkhq929f0.cloudfront.net/public_assets/assets/000/040/798/original/Screenshot_2023-07-28_at_11.14.34_AM.png?1690525348 width =700>"
   ]
  },
  {
   "cell_type": "markdown",
   "metadata": {
    "id": "LKB9yB7qMNsK"
   },
   "source": [
    "Let's calculate the entropy of child to check whether the entropy has reduced or not"
   ]
  },
  {
   "cell_type": "markdown",
   "metadata": {
    "id": "frAhtm_JOYfz"
   },
   "source": [
    "Now that we have calculated entropy of parent as well as both child\n",
    "- we need to check if there is a reduction in entropy.\n",
    "\n",
    "But, each child node has an entropy value.\n",
    "- In order to see the reduction in entropy,\n",
    "    - we first need to combine the child entropy to get a single value out of it.\n",
    "    - then we can compare it with parent entropy.\n",
    "\n",
    "#### How do we combine child entropy ?"
   ]
  },
  {
   "cell_type": "markdown",
   "metadata": {
    "id": "DIopfxsUXkOC"
   },
   "source": [
    "```\n",
    "Quiz 11 - Try it out\n",
    "\n",
    "Which strategy should we use for combining child entropy?\n",
    "\n",
    "A. Simple average\n",
    "B. Weighted average\n",
    "C. Median of child entropy\n",
    "D. Maximum of child entropy\n",
    "\n",
    "\n",
    "Ans: B. Weighted average\n",
    "\n",
    "```"
   ]
  },
  {
   "cell_type": "markdown",
   "metadata": {
    "id": "wztUinjYP9FD"
   },
   "source": [
    "**Simple average?**\n",
    "\n",
    "- When we take simple average,\n",
    "    - we are ignoring the proportions of datapoints belonging to each node\n",
    "\n",
    "There can be a case where\n",
    "- Child 1 contains 98 datapoints\n",
    "- Child 2 contains 2 datapoints\n",
    "\n",
    "We should include the number of datapoints it is impacting while calculating combined entropy.\n",
    "\n",
    "\n",
    "So, we should take **weighted average** in this case.\n",
    "\n"
   ]
  },
  {
   "cell_type": "markdown",
   "metadata": {
    "id": "QuBK3FdiQAQz"
   },
   "source": [
    "#### How do we calculate weighted entropy of child nodes ?"
   ]
  },
  {
   "cell_type": "markdown",
   "metadata": {
    "id": "E7zwJy6qQ986"
   },
   "source": [
    "We simply do so by multiplying the datapoint proportion with its entropy value"
   ]
  },
  {
   "cell_type": "markdown",
   "metadata": {
    "id": "gaMi1PGIKjsZ"
   },
   "source": [
    "<img src=https://d2beiqkhq929f0.cloudfront.net/public_assets/assets/000/040/799/original/Screenshot_2023-07-28_at_11.14.40_AM.png?1690525396 width=700>"
   ]
  },
  {
   "cell_type": "markdown",
   "metadata": {
    "id": "QT84NXV0SOXN"
   },
   "source": [
    "There is a slight reduction in weighted child entropy (0.88) compared to parent entropy (0.97)\n",
    "\n",
    "- So, we are moving towards purer nodes."
   ]
  },
  {
   "cell_type": "markdown",
   "metadata": {
    "id": "aicquSD1SjZN"
   },
   "source": [
    "This **reduction in entropy** i.e. Parent - weight entropy of child is termed as **Information gain**\n",
    "\n"
   ]
  },
  {
   "cell_type": "markdown",
   "metadata": {
    "id": "b0s1foA0TBlQ"
   },
   "source": [
    "<img src=https://d2beiqkhq929f0.cloudfront.net/public_assets/assets/000/040/800/original/Screenshot_2023-07-28_at_11.14.46_AM.png?1690525429 width=700>"
   ]
  },
  {
   "cell_type": "markdown",
   "metadata": {
    "id": "uAnY51VuX5VA"
   },
   "source": [
    "We can say that we want to\n",
    "- **maximize information gain**\n",
    "- or **minimize entropy**"
   ]
  },
  {
   "cell_type": "markdown",
   "metadata": {
    "id": "F-42mWOuYL3O"
   },
   "source": [
    "We want to maximize information gain.\n",
    "\n",
    "So, there is chance that there is some other feature\n",
    "- which is providing more information gain than Gender feature\n",
    "\n",
    "So, we should use that feature instead.\n",
    "\n",
    "This means we should calculate Information gain for Age < 35 feature as well\n",
    "\n"
   ]
  },
  {
   "cell_type": "markdown",
   "metadata": {
    "id": "TdVZ-9J9ZAKz"
   },
   "source": [
    "```\n",
    "Quiz 12 - Check your understanding\n",
    "\n",
    "Which of the following statement related to Information gain is false ?\n",
    "\n",
    "\n",
    "a. Information gain is defined as reduction in entropy.\n",
    "b. We want to maximize information gain\n",
    "c. It is calculated by subtracting weighted child entropy from parent entropy.\n",
    "d. It is calculated by subtracting parent entropy from weighted child entropy\n",
    "\n",
    "\n",
    "Correct option : d. It is calculated by subtracting parent entropy from weighted child entropy\n",
    "\n",
    "```"
   ]
  },
  {
   "cell_type": "markdown",
   "metadata": {
    "id": "X_7AcE87bvt4"
   },
   "source": [
    "The information gain for each feature is as follows:\n",
    "\n",
    "- $I_G(Parent, Age < 35) = 0.257$\n",
    "- $I_G(Parent, Gender) = 0.091$\n",
    "\n",
    "#### Which feature shall we pick to split the root node ?\n",
    "\n",
    "We pick feature s.t it gives us maximum information gain\n",
    "- In this case, splitting using Age < 35 is giving us maximum information gain.\n",
    "    - So, we'll pick it to split our root node."
   ]
  },
  {
   "cell_type": "markdown",
   "metadata": {
    "id": "7jstL3p-dAvU"
   },
   "source": [
    "Let's split our node using Age<35 feature"
   ]
  },
  {
   "cell_type": "markdown",
   "metadata": {
    "id": "4yk2iGZjLK1E"
   },
   "source": [
    "<img src=https://d2beiqkhq929f0.cloudfront.net/public_assets/assets/000/040/801/original/Screenshot_2023-07-28_at_11.14.53_AM.png?1690525534 width=700>"
   ]
  },
  {
   "cell_type": "markdown",
   "metadata": {
    "id": "huk4nCVogs6P"
   },
   "source": [
    "Let's talk about left child node\n",
    "\n",
    "#### Has the entropy of left child node reduced to 0 or close to 0 ?\n",
    "\n",
    "No.\n",
    "- Although the entropy is lower than before\n",
    "- but it is still an impure node.\n",
    "\n",
    "In order to achieve more confidence in prediction,\n",
    "- we should further split this node.\n",
    "\n",
    "\n"
   ]
  },
  {
   "cell_type": "markdown",
   "metadata": {
    "id": "uKfAP0-UhfXO"
   },
   "source": [
    "Again, in order to split this node\n",
    "- we'll calculate information gain using features\n",
    "- say, these features are gender, salary, years of experience.\n",
    "\n",
    "\n",
    "Whichever feature gives us the maximum information gain,\n",
    "- we'll split the node using that feature."
   ]
  },
  {
   "cell_type": "markdown",
   "metadata": {
    "id": "Gf1G51g7hw6G"
   },
   "source": [
    "Assume that gender gave us highest info. gain,\n",
    "- we'll split this node using gender"
   ]
  },
  {
   "cell_type": "markdown",
   "metadata": {
    "id": "yT-mgVVoh39H"
   },
   "source": [
    "<img src=https://d2beiqkhq929f0.cloudfront.net/public_assets/assets/000/040/802/original/Screenshot_2023-07-28_at_11.56.08_AM.png?1690525583 width=700>"
   ]
  },
  {
   "cell_type": "markdown",
   "metadata": {
    "id": "HE0F8NsyinjE"
   },
   "source": [
    "We continue doing so\n",
    "- until we get purer nodes\n",
    "- i.e. confidence in prediction is high."
   ]
  },
  {
   "cell_type": "markdown",
   "metadata": {
    "id": "DqBlliCcuL70"
   },
   "source": [
    "#### What happens if we have more than 2 categories for a feature ? How do we split in that case ?"
   ]
  },
  {
   "cell_type": "markdown",
   "metadata": {
    "id": "9Z-yRomzO5NN"
   },
   "source": [
    "In case where there are more than 2 categories in a feature,\n",
    "- we simply make a child node for each category"
   ]
  },
  {
   "cell_type": "markdown",
   "metadata": {
    "id": "RH2-wMXDQwKh"
   },
   "source": [
    "<img src=https://d2beiqkhq929f0.cloudfront.net/public_assets/assets/000/040/803/original/Screenshot_2023-07-28_at_11.14.59_AM.png?1690525611 width=700>"
   ]
  },
  {
   "cell_type": "markdown",
   "metadata": {
    "id": "Rh1ea6U-SuL5"
   },
   "source": [
    "```\n",
    "Quiz 13 - Check your understanding\n",
    "\n",
    "We calculated information gain for 3 features which is as follows:\n",
    "\n",
    "Feature 1 : 0.3\n",
    "Feature 2 : 0.03\n",
    "Feature 3: 0.2\n",
    "\n",
    "\n",
    "Which feature would you pick for splitting the node ?\n",
    "\n",
    "A. Feature 1\n",
    "B. Feature 2\n",
    "C. Feature 3\n",
    "\n",
    "Ans: A. Feature 1\n",
    "\n",
    "\n",
    "Explanation:\n",
    "- We want to pick feature which gives us maximum information gain.\n",
    "- Hence, we'll pick Feature 1\n",
    "\n",
    "```"
   ]
  },
  {
   "cell_type": "markdown",
   "metadata": {
    "id": "WV0K8HAkiwmA"
   },
   "source": [
    "## Visualizing the process of building DT"
   ]
  },
  {
   "cell_type": "markdown",
   "metadata": {
    "id": "x6CTCUvKXF__"
   },
   "source": [
    "\n",
    "\n",
    "link: https://drive.google.com/file/d/1CBFhQ2bYf81kTN-x_T6B1hcbIVqbXjAz/view?usp=sharing\n",
    "\n",
    "paper: https://opus.bibliothek.uni-augsburg.de/opus4/frontdoor/deliver/index/docId/79711/file/ECML_PKDD_Decision_Tree_Learning.pdf\n",
    "\n",
    "Steps to follow:\n",
    "1. Unzip the file\n",
    "2. Launch index.html to launch the project\n",
    "3. Go to Data (top right) -> Import training data -> data.csv\n",
    "\n",
    "4. Dataset are present in folder named \"Files\". You can move your custom dataset into that folder. However, there are few limits on number of columns and format of data (csv)\n",
    "\n",
    "It contains data for attrition use case (3 features)\n",
    "- Gender\n",
    "- Age < 35\n",
    "- Marital Status\n",
    "\n",
    "\n",
    "4. Select Mode as \"Stepwise\". It'll build DT node by node.\n",
    "\n",
    "5. Click on build.\n",
    "\n",
    "6. Click build again to move to next stage of DT\n",
    "\n",
    "For each stage, you can view the information gain on left pane of window.\n",
    "\n",
    "\n"
   ]
  },
  {
   "cell_type": "markdown",
   "metadata": {
    "id": "cV32zf_fXks-"
   },
   "source": [
    "<img src='https://drive.google.com/uc?id=14isfl0c12jpwLRMcuLI1WleLQh5UP3zo' width = 700>\n"
   ]
  },
  {
   "cell_type": "markdown",
   "metadata": {
    "id": "00sI10S0XFUo"
   },
   "source": [
    "<center><img src='https://drive.google.com/uc?id=1_gayxjqaf_WaasqCbApkU10Q-Xi5EflL' width=800>\n",
    "\n",
    "\n"
   ]
  },
  {
   "cell_type": "markdown",
   "metadata": {
    "id": "pZ82bNVNh7tl"
   },
   "source": [
    "Now that we have learnt how decision tree works.\n",
    "\n",
    "Let's try to implement it from scratch"
   ]
  },
  {
   "cell_type": "markdown",
   "metadata": {
    "id": "rE7YmSlGwy-U"
   },
   "source": [
    "## (Optional) Post Read - Scratch impl of DT"
   ]
  },
  {
   "cell_type": "markdown",
   "metadata": {
    "id": "etysml3Gw5Ch"
   },
   "source": [
    "link : https://colab.research.google.com/drive/1QpgOv1W8x_l81GPN6ebQTb58eqA0RaNm?usp=sharing"
   ]
  },
  {
   "cell_type": "markdown",
   "metadata": {
    "id": "2gKYkTt7qhdT"
   },
   "source": [
    "## Sklearn implemenation"
   ]
  },
  {
   "cell_type": "code",
   "execution_count": 27,
   "metadata": {
    "id": "5JrIfb5xBVXI"
   },
   "outputs": [],
   "source": [
    "import numpy as np\n",
    "import pandas as pd\n",
    "import matplotlib.pyplot as plt"
   ]
  },
  {
   "cell_type": "markdown",
   "metadata": {
    "id": "vxAO7GjUrjb3"
   },
   "source": [
    "#### Fetching data"
   ]
  },
  {
   "cell_type": "code",
   "execution_count": 28,
   "metadata": {
    "colab": {
     "base_uri": "https://localhost:8080/"
    },
    "id": "ggIMZaetBjAR",
    "outputId": "6d28c54f-3b02-49dc-ce64-5b231c5ee628"
   },
   "outputs": [
    {
     "name": "stderr",
     "output_type": "stream",
     "text": [
      "Downloading...\n",
      "From: https://drive.google.com/uc?id=19L3rYatfhbBL1r5MHrv-p_oM2wlvrhqk\n",
      "To: E:\\Scaler-Notes-Git\\DSML-Notes\\M-15 ML-Supervised Algorithms\\03 ML Decision Trees-1\\preprocessed_X_sm.pickle\n",
      "\n",
      "  0%|          | 0.00/534k [00:00<?, ?B/s]\n",
      "100%|##########| 534k/534k [00:00<00:00, 6.88MB/s]\n",
      "Downloading...\n",
      "From: https://drive.google.com/uc?id=1OHLKJwA3qZopKPvlKoRldM6BvA1A4dYF\n",
      "To: E:\\Scaler-Notes-Git\\DSML-Notes\\M-15 ML-Supervised Algorithms\\03 ML Decision Trees-1\\X_test.pickle\n",
      "\n",
      "  0%|          | 0.00/111k [00:00<?, ?B/s]\n",
      "100%|##########| 111k/111k [00:00<00:00, 1.40MB/s]\n",
      "Downloading...\n",
      "From: https://drive.google.com/uc?id=1N7O_fWCTJLu8SIa_paKcDEzllgpMk8sK\n",
      "To: E:\\Scaler-Notes-Git\\DSML-Notes\\M-15 ML-Supervised Algorithms\\03 ML Decision Trees-1\\y_sm.pickle\n",
      "\n",
      "  0%|          | 0.00/15.4k [00:00<?, ?B/s]\n",
      "100%|##########| 15.4k/15.4k [00:00<?, ?B/s]\n",
      "Downloading...\n",
      "From: https://drive.google.com/uc?id=12Bh2AN8LcZAlg20ehpQrEWccUDaSdsOG\n",
      "To: E:\\Scaler-Notes-Git\\DSML-Notes\\M-15 ML-Supervised Algorithms\\03 ML Decision Trees-1\\y_test.pickle\n",
      "\n",
      "  0%|          | 0.00/9.49k [00:00<?, ?B/s]\n",
      "100%|##########| 9.49k/9.49k [00:00<?, ?B/s]\n"
     ]
    }
   ],
   "source": [
    "!gdown 19L3rYatfhbBL1r5MHrv-p_oM2wlvrhqk\n",
    "!gdown 1OHLKJwA3qZopKPvlKoRldM6BvA1A4dYF\n",
    "!gdown 1N7O_fWCTJLu8SIa_paKcDEzllgpMk8sK\n",
    "!gdown 12Bh2AN8LcZAlg20ehpQrEWccUDaSdsOG"
   ]
  },
  {
   "cell_type": "code",
   "execution_count": 29,
   "metadata": {
    "id": "kuAO-W1hoUy1"
   },
   "outputs": [
    {
     "ename": "ModuleNotFoundError",
     "evalue": "No module named 'pandas.core.indexes.numeric'",
     "output_type": "error",
     "traceback": [
      "\u001b[1;31m---------------------------------------------------------------------------\u001b[0m",
      "\u001b[1;31mModuleNotFoundError\u001b[0m                       Traceback (most recent call last)",
      "Cell \u001b[1;32mIn[29], line 7\u001b[0m\n\u001b[0;32m      4\u001b[0m     X_train \u001b[38;5;241m=\u001b[39m pickle\u001b[38;5;241m.\u001b[39mload(handle)\n\u001b[0;32m      6\u001b[0m \u001b[38;5;28;01mwith\u001b[39;00m \u001b[38;5;28mopen\u001b[39m(\u001b[38;5;124m'\u001b[39m\u001b[38;5;124mX_test.pickle\u001b[39m\u001b[38;5;124m'\u001b[39m, \u001b[38;5;124m'\u001b[39m\u001b[38;5;124mrb\u001b[39m\u001b[38;5;124m'\u001b[39m) \u001b[38;5;28;01mas\u001b[39;00m handle:\n\u001b[1;32m----> 7\u001b[0m     X_test \u001b[38;5;241m=\u001b[39m \u001b[43mpickle\u001b[49m\u001b[38;5;241;43m.\u001b[39;49m\u001b[43mload\u001b[49m\u001b[43m(\u001b[49m\u001b[43mhandle\u001b[49m\u001b[43m)\u001b[49m\n\u001b[0;32m      9\u001b[0m \u001b[38;5;28;01mwith\u001b[39;00m \u001b[38;5;28mopen\u001b[39m(\u001b[38;5;124m'\u001b[39m\u001b[38;5;124my_sm.pickle\u001b[39m\u001b[38;5;124m'\u001b[39m, \u001b[38;5;124m'\u001b[39m\u001b[38;5;124mrb\u001b[39m\u001b[38;5;124m'\u001b[39m) \u001b[38;5;28;01mas\u001b[39;00m handle:\n\u001b[0;32m     10\u001b[0m     y_train \u001b[38;5;241m=\u001b[39m pickle\u001b[38;5;241m.\u001b[39mload(handle)\n",
      "\u001b[1;31mModuleNotFoundError\u001b[0m: No module named 'pandas.core.indexes.numeric'"
     ]
    }
   ],
   "source": [
    "import pickle\n",
    "# Load data (deserialize)\n",
    "with open('preprocessed_X_sm.pickle', 'rb') as handle:\n",
    "    X_train = pickle.load(handle)\n",
    "\n",
    "with open('X_test.pickle', 'rb') as handle:\n",
    "    X_test = pickle.load(handle)\n",
    "\n",
    "with open('y_sm.pickle', 'rb') as handle:\n",
    "    y_train = pickle.load(handle)\n",
    "\n",
    "with open('y_test.pickle', 'rb') as handle:\n",
    "    y_test = pickle.load(handle)"
   ]
  },
  {
   "cell_type": "markdown",
   "metadata": {
    "id": "oTOvI6AFrlcu"
   },
   "source": [
    "#### Reading data"
   ]
  },
  {
   "cell_type": "markdown",
   "metadata": {
    "id": "CiFTPXDkDGKT"
   },
   "source": [
    "#### Importing sklearn DT\n",
    "\n",
    "\n",
    "sklearn DT doc - https://scikit-learn.org/stable/modules/generated/sklearn.tree.DecisionTreeClassifier.html"
   ]
  },
  {
   "cell_type": "code",
   "execution_count": null,
   "metadata": {
    "id": "rbyJy0-EDF_g"
   },
   "outputs": [],
   "source": [
    "from sklearn.tree import DecisionTreeClassifier"
   ]
  },
  {
   "cell_type": "markdown",
   "metadata": {
    "id": "EpaJ1NfmrW6h"
   },
   "source": [
    "#### Initiating instance"
   ]
  },
  {
   "cell_type": "code",
   "execution_count": null,
   "metadata": {
    "id": "ASdlXdc-Cqg3"
   },
   "outputs": [],
   "source": [
    "model = DecisionTreeClassifier(criterion='entropy')"
   ]
  },
  {
   "cell_type": "markdown",
   "metadata": {
    "id": "pBDJ4--2rY07"
   },
   "source": [
    "#### Fitting the model"
   ]
  },
  {
   "cell_type": "code",
   "execution_count": null,
   "metadata": {
    "colab": {
     "base_uri": "https://localhost:8080/",
     "height": 75
    },
    "id": "DoHfztOCDinZ",
    "outputId": "2ae5c3ea-1f52-4fa8-d9cc-71b0c4f3bc8c"
   },
   "outputs": [],
   "source": [
    "model.fit(X_train, y_train)"
   ]
  },
  {
   "cell_type": "markdown",
   "metadata": {
    "id": "FJvoguQ3raeI"
   },
   "source": [
    "#### Get the train / test score"
   ]
  },
  {
   "cell_type": "code",
   "execution_count": null,
   "metadata": {
    "colab": {
     "base_uri": "https://localhost:8080/"
    },
    "id": "fdXUQ2TiDlEI",
    "outputId": "3741545f-89e1-4e3c-a147-2a31f91acb89"
   },
   "outputs": [],
   "source": [
    "model.score(X_test, y_test)"
   ]
  },
  {
   "cell_type": "code",
   "execution_count": null,
   "metadata": {
    "colab": {
     "base_uri": "https://localhost:8080/"
    },
    "id": "fYj9AJQyDr_-",
    "outputId": "029df831-ba5a-4de3-e68c-323436a41687"
   },
   "outputs": [],
   "source": [
    "model.score(X_train, y_train)"
   ]
  },
  {
   "cell_type": "markdown",
   "metadata": {
    "id": "z0QgLQKPaIYW"
   },
   "source": [
    "```\n",
    "\n",
    "Quiz 14 - Check your understanding\n",
    "\n",
    "What does the following model performance say about the model ?\n",
    "\n",
    "Train accuracy - 1.0\n",
    "Test accuracy - 0.76\n",
    "\n",
    "\n",
    "Options\n",
    "a. Model is underfitting\n",
    "b. Model is overfitting\n",
    "c. Model is best fit model\n",
    "d. None of the above\n",
    "\n",
    "\n",
    "Correct option:  b. Model is overfitting\n",
    "```"
   ]
  },
  {
   "cell_type": "markdown",
   "metadata": {
    "id": "vvbQG0w3qJFJ"
   },
   "source": [
    "There is a huge difference in train and test score\n",
    "- Model is currently overfitting."
   ]
  },
  {
   "cell_type": "markdown",
   "metadata": {
    "id": "MSk_sEB3rer2"
   },
   "source": [
    "#### Visualizing DT"
   ]
  },
  {
   "cell_type": "code",
   "execution_count": null,
   "metadata": {
    "colab": {
     "base_uri": "https://localhost:8080/",
     "height": 710
    },
    "id": "GdsD4PcQDzsU",
    "outputId": "9d0baa6a-32fc-4284-e985-f23cc7c17e7a"
   },
   "outputs": [],
   "source": [
    "from sklearn.tree import plot_tree\n",
    "plt.figure(figsize=(14,14))\n",
    "plot_tree(model, filled = True);"
   ]
  },
  {
   "cell_type": "markdown",
   "metadata": {
    "id": "AvGmCBpzEgZ1"
   },
   "source": [
    "Notice that\n",
    "- how deep is this DT is\n",
    "\n",
    "\n",
    "#### How do we stop it from overfitting ?\n",
    "\n",
    "We'll learn about how to handle bias variance tradeoff in DT in next lecture"
   ]
  },
  {
   "cell_type": "markdown",
   "metadata": {
    "id": "cbA46TvzLhRx"
   },
   "source": [
    "#Points to Remember"
   ]
  },
  {
   "cell_type": "markdown",
   "metadata": {
    "id": "8ESNk6CqLjAg"
   },
   "source": [
    "<img src=https://d2beiqkhq929f0.cloudfront.net/public_assets/assets/000/040/804/original/Screenshot_2023-07-28_at_11.15.09_AM.png?1690525651 width=700>"
   ]
  },
  {
   "cell_type": "markdown",
   "metadata": {
    "id": "mSRZT1YPLod7"
   },
   "source": [
    "<img src=https://d2beiqkhq929f0.cloudfront.net/public_assets/assets/000/040/805/original/Screenshot_2023-07-28_at_11.15.18_AM.png?1690525674 width=700>"
   ]
  }
 ],
 "metadata": {
  "colab": {
   "provenance": []
  },
  "kernelspec": {
   "display_name": "Python 3 (ipykernel)",
   "language": "python",
   "name": "python3"
  },
  "language_info": {
   "codemirror_mode": {
    "name": "ipython",
    "version": 3
   },
   "file_extension": ".py",
   "mimetype": "text/x-python",
   "name": "python",
   "nbconvert_exporter": "python",
   "pygments_lexer": "ipython3",
   "version": "3.10.2"
  }
 },
 "nbformat": 4,
 "nbformat_minor": 1
}
