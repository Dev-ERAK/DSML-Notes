{
 "cells": [
  {
   "cell_type": "code",
   "execution_count": 1,
   "metadata": {
    "id": "r1pWq7kp9T6l"
   },
   "outputs": [],
   "source": [
    "import pandas as pd\n",
    "import numpy as np"
   ]
  },
  {
   "cell_type": "code",
   "execution_count": 47,
   "metadata": {},
   "outputs": [
    {
     "name": "stdout",
     "output_type": "stream",
     "text": [
      "3.10.2 (tags/v3.10.2:a58ebcc, Jan 17 2022, 14:12:15) [MSC v.1929 64 bit (AMD64)]\n"
     ]
    }
   ],
   "source": [
    "import sys\n",
    "print(sys.version)"
   ]
  },
  {
   "cell_type": "code",
   "execution_count": 2,
   "metadata": {
    "colab": {
     "base_uri": "https://localhost:8080/"
    },
    "id": "P9jvKZCD9VZh",
    "outputId": "b9f620fa-c077-4506-bfec-c7fcaac898b6"
   },
   "outputs": [
    {
     "name": "stderr",
     "output_type": "stream",
     "text": [
      "Downloading...\n",
      "From: https://drive.google.com/uc?id=1ZdhRqYv-JizWV6DxO6C4R_k1kxPhmlF2\n",
      "To: E:\\Scaler-Notes-Git\\DSML-Notes\\M-15 ML-Supervised Algorithms\\02 ML k Nearest Neighbors-2\\multiclass.csv\n",
      "\n",
      "  0%|          | 0.00/14.6k [00:00<?, ?B/s]\n",
      "100%|##########| 14.6k/14.6k [00:00<00:00, 14.6MB/s]\n"
     ]
    }
   ],
   "source": [
    "!gdown 1ZdhRqYv-JizWV6DxO6C4R_k1kxPhmlF2\n"
   ]
  },
  {
   "cell_type": "code",
   "execution_count": 3,
   "metadata": {
    "colab": {
     "base_uri": "https://localhost:8080/",
     "height": 206
    },
    "id": "p8sUAEge9WxP",
    "outputId": "f71166ca-f11a-4be9-c3e8-bcfd7f246432"
   },
   "outputs": [
    {
     "data": {
      "text/html": [
       "<div>\n",
       "<style scoped>\n",
       "    .dataframe tbody tr th:only-of-type {\n",
       "        vertical-align: middle;\n",
       "    }\n",
       "\n",
       "    .dataframe tbody tr th {\n",
       "        vertical-align: top;\n",
       "    }\n",
       "\n",
       "    .dataframe thead th {\n",
       "        text-align: right;\n",
       "    }\n",
       "</style>\n",
       "<table border=\"1\" class=\"dataframe\">\n",
       "  <thead>\n",
       "    <tr style=\"text-align: right;\">\n",
       "      <th></th>\n",
       "      <th>Region</th>\n",
       "      <th>Fresh</th>\n",
       "      <th>Milk</th>\n",
       "      <th>Grocery</th>\n",
       "      <th>Frozen</th>\n",
       "      <th>Detergents_Paper</th>\n",
       "      <th>Delicassen</th>\n",
       "      <th>class</th>\n",
       "    </tr>\n",
       "  </thead>\n",
       "  <tbody>\n",
       "    <tr>\n",
       "      <th>0</th>\n",
       "      <td>3</td>\n",
       "      <td>12669</td>\n",
       "      <td>9656</td>\n",
       "      <td>7561</td>\n",
       "      <td>214</td>\n",
       "      <td>2674</td>\n",
       "      <td>1338</td>\n",
       "      <td>2</td>\n",
       "    </tr>\n",
       "    <tr>\n",
       "      <th>1</th>\n",
       "      <td>3</td>\n",
       "      <td>7057</td>\n",
       "      <td>9810</td>\n",
       "      <td>9568</td>\n",
       "      <td>1762</td>\n",
       "      <td>3293</td>\n",
       "      <td>1776</td>\n",
       "      <td>2</td>\n",
       "    </tr>\n",
       "    <tr>\n",
       "      <th>2</th>\n",
       "      <td>3</td>\n",
       "      <td>6353</td>\n",
       "      <td>8808</td>\n",
       "      <td>7684</td>\n",
       "      <td>2405</td>\n",
       "      <td>3516</td>\n",
       "      <td>7844</td>\n",
       "      <td>2</td>\n",
       "    </tr>\n",
       "    <tr>\n",
       "      <th>3</th>\n",
       "      <td>3</td>\n",
       "      <td>13265</td>\n",
       "      <td>1196</td>\n",
       "      <td>4221</td>\n",
       "      <td>6404</td>\n",
       "      <td>507</td>\n",
       "      <td>1788</td>\n",
       "      <td>1</td>\n",
       "    </tr>\n",
       "    <tr>\n",
       "      <th>4</th>\n",
       "      <td>3</td>\n",
       "      <td>22615</td>\n",
       "      <td>5410</td>\n",
       "      <td>7198</td>\n",
       "      <td>3915</td>\n",
       "      <td>1777</td>\n",
       "      <td>5185</td>\n",
       "      <td>1</td>\n",
       "    </tr>\n",
       "  </tbody>\n",
       "</table>\n",
       "</div>"
      ],
      "text/plain": [
       "   Region  Fresh  Milk  Grocery  Frozen  Detergents_Paper  Delicassen  class\n",
       "0       3  12669  9656     7561     214              2674        1338      2\n",
       "1       3   7057  9810     9568    1762              3293        1776      2\n",
       "2       3   6353  8808     7684    2405              3516        7844      2\n",
       "3       3  13265  1196     4221    6404               507        1788      1\n",
       "4       3  22615  5410     7198    3915              1777        5185      1"
      ]
     },
     "execution_count": 3,
     "metadata": {},
     "output_type": "execute_result"
    }
   ],
   "source": [
    "df=pd.read_csv('multiclass.csv')\n",
    "df.head()"
   ]
  },
  {
   "cell_type": "code",
   "execution_count": 4,
   "metadata": {
    "colab": {
     "base_uri": "https://localhost:8080/",
     "height": 472
    },
    "id": "FYzospZ59ZBY",
    "outputId": "b750b827-e8d5-44e0-9c48-420685588745"
   },
   "outputs": [
    {
     "data": {
      "image/png": "[encoded data removed]",
      "text/plain": [
       "<Figure size 640x480 with 1 Axes>"
      ]
     },
     "metadata": {},
     "output_type": "display_data"
    }
   ],
   "source": [
    "import seaborn as sns\n",
    "import matplotlib.pyplot as plt\n",
    "\n",
    "sns.histplot(data=df, x=\"class\")\n",
    "plt.title('Data Distribution')\n",
    "plt.show()"
   ]
  },
  {
   "cell_type": "code",
   "execution_count": 5,
   "metadata": {
    "id": "Ba4ERNGJ9x7o"
   },
   "outputs": [],
   "source": [
    "X=df[['Region',\t'Fresh',\t'Milk',\t'Grocery',\t'Frozen',\t'Detergents_Paper',\t'Delicassen'\t]].copy()\n",
    "y=df[['class']].copy()"
   ]
  },
  {
   "cell_type": "code",
   "execution_count": 6,
   "metadata": {
    "colab": {
     "base_uri": "https://localhost:8080/",
     "height": 206
    },
    "id": "1WTFmVVD-F7l",
    "outputId": "d99bb376-0674-49a2-9010-02303ca939d9"
   },
   "outputs": [
    {
     "data": {
      "text/html": [
       "<div>\n",
       "<style scoped>\n",
       "    .dataframe tbody tr th:only-of-type {\n",
       "        vertical-align: middle;\n",
       "    }\n",
       "\n",
       "    .dataframe tbody tr th {\n",
       "        vertical-align: top;\n",
       "    }\n",
       "\n",
       "    .dataframe thead th {\n",
       "        text-align: right;\n",
       "    }\n",
       "</style>\n",
       "<table border=\"1\" class=\"dataframe\">\n",
       "  <thead>\n",
       "    <tr style=\"text-align: right;\">\n",
       "      <th></th>\n",
       "      <th>Region</th>\n",
       "      <th>Fresh</th>\n",
       "      <th>Milk</th>\n",
       "      <th>Grocery</th>\n",
       "      <th>Frozen</th>\n",
       "      <th>Detergents_Paper</th>\n",
       "      <th>Delicassen</th>\n",
       "    </tr>\n",
       "  </thead>\n",
       "  <tbody>\n",
       "    <tr>\n",
       "      <th>0</th>\n",
       "      <td>3</td>\n",
       "      <td>12669</td>\n",
       "      <td>9656</td>\n",
       "      <td>7561</td>\n",
       "      <td>214</td>\n",
       "      <td>2674</td>\n",
       "      <td>1338</td>\n",
       "    </tr>\n",
       "    <tr>\n",
       "      <th>1</th>\n",
       "      <td>3</td>\n",
       "      <td>7057</td>\n",
       "      <td>9810</td>\n",
       "      <td>9568</td>\n",
       "      <td>1762</td>\n",
       "      <td>3293</td>\n",
       "      <td>1776</td>\n",
       "    </tr>\n",
       "    <tr>\n",
       "      <th>2</th>\n",
       "      <td>3</td>\n",
       "      <td>6353</td>\n",
       "      <td>8808</td>\n",
       "      <td>7684</td>\n",
       "      <td>2405</td>\n",
       "      <td>3516</td>\n",
       "      <td>7844</td>\n",
       "    </tr>\n",
       "    <tr>\n",
       "      <th>3</th>\n",
       "      <td>3</td>\n",
       "      <td>13265</td>\n",
       "      <td>1196</td>\n",
       "      <td>4221</td>\n",
       "      <td>6404</td>\n",
       "      <td>507</td>\n",
       "      <td>1788</td>\n",
       "    </tr>\n",
       "    <tr>\n",
       "      <th>4</th>\n",
       "      <td>3</td>\n",
       "      <td>22615</td>\n",
       "      <td>5410</td>\n",
       "      <td>7198</td>\n",
       "      <td>3915</td>\n",
       "      <td>1777</td>\n",
       "      <td>5185</td>\n",
       "    </tr>\n",
       "  </tbody>\n",
       "</table>\n",
       "</div>"
      ],
      "text/plain": [
       "   Region  Fresh  Milk  Grocery  Frozen  Detergents_Paper  Delicassen\n",
       "0       3  12669  9656     7561     214              2674        1338\n",
       "1       3   7057  9810     9568    1762              3293        1776\n",
       "2       3   6353  8808     7684    2405              3516        7844\n",
       "3       3  13265  1196     4221    6404               507        1788\n",
       "4       3  22615  5410     7198    3915              1777        5185"
      ]
     },
     "execution_count": 6,
     "metadata": {},
     "output_type": "execute_result"
    }
   ],
   "source": [
    "X.head()"
   ]
  },
  {
   "cell_type": "code",
   "execution_count": 7,
   "metadata": {
    "colab": {
     "base_uri": "https://localhost:8080/",
     "height": 206
    },
    "id": "KyKdIJxV-H1h",
    "outputId": "69ead53d-915b-4be9-9c4b-ec55d97fe026"
   },
   "outputs": [
    {
     "data": {
      "text/html": [
       "<div>\n",
       "<style scoped>\n",
       "    .dataframe tbody tr th:only-of-type {\n",
       "        vertical-align: middle;\n",
       "    }\n",
       "\n",
       "    .dataframe tbody tr th {\n",
       "        vertical-align: top;\n",
       "    }\n",
       "\n",
       "    .dataframe thead th {\n",
       "        text-align: right;\n",
       "    }\n",
       "</style>\n",
       "<table border=\"1\" class=\"dataframe\">\n",
       "  <thead>\n",
       "    <tr style=\"text-align: right;\">\n",
       "      <th></th>\n",
       "      <th>class</th>\n",
       "    </tr>\n",
       "  </thead>\n",
       "  <tbody>\n",
       "    <tr>\n",
       "      <th>0</th>\n",
       "      <td>2</td>\n",
       "    </tr>\n",
       "    <tr>\n",
       "      <th>1</th>\n",
       "      <td>2</td>\n",
       "    </tr>\n",
       "    <tr>\n",
       "      <th>2</th>\n",
       "      <td>2</td>\n",
       "    </tr>\n",
       "    <tr>\n",
       "      <th>3</th>\n",
       "      <td>1</td>\n",
       "    </tr>\n",
       "    <tr>\n",
       "      <th>4</th>\n",
       "      <td>1</td>\n",
       "    </tr>\n",
       "  </tbody>\n",
       "</table>\n",
       "</div>"
      ],
      "text/plain": [
       "   class\n",
       "0      2\n",
       "1      2\n",
       "2      2\n",
       "3      1\n",
       "4      1"
      ]
     },
     "execution_count": 7,
     "metadata": {},
     "output_type": "execute_result"
    }
   ],
   "source": [
    "y.head()"
   ]
  },
  {
   "cell_type": "code",
   "execution_count": 8,
   "metadata": {
    "id": "j2P-jr6c-KMD"
   },
   "outputs": [],
   "source": [
    "from sklearn.decomposition import PCA\n",
    "import matplotlib.pyplot as plt\n",
    "\n",
    "\n",
    "def scatter_visualize(visualize1,visualize2,y_label):\n",
    "  scatter = plt.scatter(visualize[:,0] ,visualize[:,1],c = y.values[:,0] )\n",
    "  plt.legend(handles=scatter.legend_elements()[0], labels=['Class1','Class2','Class3'])\n",
    "  plt.show()"
   ]
  },
  {
   "cell_type": "code",
   "execution_count": 9,
   "metadata": {
    "colab": {
     "base_uri": "https://localhost:8080/",
     "height": 430
    },
    "id": "q-yMhUIW-jlC",
    "outputId": "a1c8eacb-dce3-4d1f-83f6-9e0deacb81b7"
   },
   "outputs": [
    {
     "data": {
      "image/png": "[encoded data removed]",
      "text/plain": [
       "<Figure size 640x480 with 1 Axes>"
      ]
     },
     "metadata": {},
     "output_type": "display_data"
    }
   ],
   "source": [
    "pca = PCA(n_components=2)\n",
    "visualize = pca.fit_transform(X)\n",
    "\n",
    "\n",
    "scatter_visualize(visualize[:,0] ,visualize[:,1],y.values[:,0])"
   ]
  },
  {
   "cell_type": "code",
   "execution_count": 10,
   "metadata": {
    "id": "-MiaCP7s-vu1"
   },
   "outputs": [],
   "source": [
    "from sklearn.model_selection import train_test_split\n",
    "import matplotlib.pyplot as plt\n",
    "\n",
    "X_train_val, X_test, y_train_val, y_test = train_test_split(X,y,test_size=0.25, random_state=42)\n",
    "\n",
    "X_train, X_val, y_train, y_val = train_test_split(X_train_val,y_train_val,test_size=0.25, random_state=42)"
   ]
  },
  {
   "cell_type": "code",
   "execution_count": 11,
   "metadata": {
    "colab": {
     "base_uri": "https://localhost:8080/"
    },
    "id": "DAEbjoyfKOKd",
    "outputId": "9ea0147c-8d3f-4dba-e048-e14eb9dbe678"
   },
   "outputs": [
    {
     "name": "stdout",
     "output_type": "stream",
     "text": [
      "(247, 7) (247, 1)\n",
      "(83, 7) (83, 1)\n",
      "(110, 7) (110, 1)\n"
     ]
    }
   ],
   "source": [
    "print(X_train.shape, y_train.shape)\n",
    "print(X_val.shape, y_val.shape)\n",
    "print(X_test.shape, y_test.shape)"
   ]
  },
  {
   "cell_type": "code",
   "execution_count": 12,
   "metadata": {
    "colab": {
     "base_uri": "https://localhost:8080/"
    },
    "id": "86t2zvEOMFLs",
    "outputId": "fe383f77-7ce9-4312-9aa8-3cd9a24f827d"
   },
   "outputs": [
    {
     "data": {
      "text/plain": [
       "class\n",
       "3        99\n",
       "2        95\n",
       "1        53\n",
       "Name: count, dtype: int64"
      ]
     },
     "execution_count": 12,
     "metadata": {},
     "output_type": "execute_result"
    }
   ],
   "source": [
    "y_train.value_counts()"
   ]
  },
  {
   "cell_type": "code",
   "execution_count": 15,
   "metadata": {
    "id": "OU4Czun7KRr0"
   },
   "outputs": [],
   "source": [
    "from imblearn.over_sampling import SMOTE\n",
    "\n",
    "# Create an instance of SMOTE\n",
    "smt = SMOTE()\n",
    "\n",
    "X_sm, y_sm = smt.fit_resample(X_train, y_train)"
   ]
  },
  {
   "cell_type": "code",
   "execution_count": 16,
   "metadata": {
    "colab": {
     "base_uri": "https://localhost:8080/"
    },
    "id": "kkdy7-BSL-x1",
    "outputId": "b1a2c525-e04a-43d3-f038-1d8ff75846b6"
   },
   "outputs": [
    {
     "data": {
      "text/plain": [
       "class\n",
       "1        99\n",
       "2        99\n",
       "3        99\n",
       "Name: count, dtype: int64"
      ]
     },
     "execution_count": 16,
     "metadata": {},
     "output_type": "execute_result"
    }
   ],
   "source": [
    "y_sm.value_counts()"
   ]
  },
  {
   "cell_type": "code",
   "execution_count": 17,
   "metadata": {
    "id": "ENcTbSQ6MB74"
   },
   "outputs": [],
   "source": [
    "from sklearn.preprocessing import StandardScaler\n",
    "\n",
    "st =  StandardScaler()\n",
    "\n",
    "X_sm = st.fit_transform(X_sm.values)\n",
    "X_val_scaled = st.transform(X_val.values)\n",
    "X_test_scaled = st.transform(X_test.values)\n",
    "\n",
    "y_sm = y_sm.values[:,0]\n",
    "y_val = y_val.values[:,0]\n",
    "y_test = y_test.values[:,0]"
   ]
  },
  {
   "cell_type": "code",
   "execution_count": 18,
   "metadata": {
    "colab": {
     "base_uri": "https://localhost:8080/"
    },
    "id": "S-9ZBSdcMV10",
    "outputId": "de7e0a1a-6515-4630-ff61-d1981d725c30"
   },
   "outputs": [
    {
     "data": {
      "text/plain": [
       "array([ 0.72611347, -0.61551436, -0.4577485 , -0.65562264, -0.30954657,\n",
       "       -0.50545143, -0.28867905])"
      ]
     },
     "execution_count": 18,
     "metadata": {},
     "output_type": "execute_result"
    }
   ],
   "source": [
    "X_val_scaled[50]"
   ]
  },
  {
   "cell_type": "code",
   "execution_count": 19,
   "metadata": {
    "id": "vjDg0NV_MXn_"
   },
   "outputs": [],
   "source": [
    "dist = np.sqrt(np.sum((X_val_scaled[50]-X_sm)**2,axis=1) )\n"
   ]
  },
  {
   "cell_type": "code",
   "execution_count": 20,
   "metadata": {
    "colab": {
     "base_uri": "https://localhost:8080/"
    },
    "id": "dMcysFnuM4Fr",
    "outputId": "3626ba1b-58f8-4aac-daf0-78dcccd81f38"
   },
   "outputs": [
    {
     "data": {
      "text/plain": [
       "(297,)"
      ]
     },
     "execution_count": 20,
     "metadata": {},
     "output_type": "execute_result"
    }
   ],
   "source": [
    "dist.shape"
   ]
  },
  {
   "cell_type": "code",
   "execution_count": 21,
   "metadata": {
    "id": "s2Prekk7NEOf"
   },
   "outputs": [],
   "source": [
    "distances = [(dist[i],y_sm[i]) for i in range(len(dist)) ]\n"
   ]
  },
  {
   "cell_type": "code",
   "execution_count": 22,
   "metadata": {
    "id": "_hordk3INZkv"
   },
   "outputs": [],
   "source": [
    "distances = sorted(distances)"
   ]
  },
  {
   "cell_type": "code",
   "execution_count": 23,
   "metadata": {
    "id": "rqyuo6VGNa4v"
   },
   "outputs": [],
   "source": [
    "distances = distances[:5]"
   ]
  },
  {
   "cell_type": "code",
   "execution_count": 24,
   "metadata": {
    "colab": {
     "base_uri": "https://localhost:8080/"
    },
    "id": "N_qMeHJeNqAY",
    "outputId": "9bfa5f3b-3f1a-45ac-cbf2-3d7ac24aeeae"
   },
   "outputs": [
    {
     "data": {
      "text/plain": [
       "[(0.2034821618981164, 3),\n",
       " (0.21493792342636098, 3),\n",
       " (0.23032458236554473, 3),\n",
       " (0.28523046915806116, 3),\n",
       " (0.3023455580001181, 3)]"
      ]
     },
     "execution_count": 24,
     "metadata": {},
     "output_type": "execute_result"
    }
   ],
   "source": [
    "distances"
   ]
  },
  {
   "cell_type": "code",
   "execution_count": 25,
   "metadata": {
    "id": "b_bs4_sQN2Qp"
   },
   "outputs": [],
   "source": [
    "distances = np.array(distances)\n"
   ]
  },
  {
   "cell_type": "code",
   "execution_count": 26,
   "metadata": {
    "id": "Neu2MCdUN6sS"
   },
   "outputs": [],
   "source": [
    "classes_counts = np.unique(distances[:,1],return_counts=True)\n"
   ]
  },
  {
   "cell_type": "code",
   "execution_count": 29,
   "metadata": {
    "colab": {
     "base_uri": "https://localhost:8080/"
    },
    "id": "5DhoKH6WN_z9",
    "outputId": "8b13ec87-d658-447e-b442-f1ee4b25258c"
   },
   "outputs": [
    {
     "data": {
      "text/plain": [
       "(array([3.]), array([5], dtype=int64))"
      ]
     },
     "execution_count": 29,
     "metadata": {},
     "output_type": "execute_result"
    }
   ],
   "source": [
    "classes_counts"
   ]
  },
  {
   "cell_type": "markdown",
   "metadata": {
    "colab": {
     "base_uri": "https://localhost:8080/",
     "height": 176
    },
    "id": "bTVrDOceOBem",
    "outputId": "9a7febd8-3412-4ab5-b957-b03c34b283fc"
   },
   "source": [
    "##array([3,2], array([5,1]))"
   ]
  },
  {
   "cell_type": "code",
   "execution_count": 30,
   "metadata": {
    "id": "2gP-2t6COcNz"
   },
   "outputs": [],
   "source": [
    "index = classes_counts[1].argmax()\n"
   ]
  },
  {
   "cell_type": "code",
   "execution_count": 31,
   "metadata": {
    "colab": {
     "base_uri": "https://localhost:8080/"
    },
    "id": "Wxt2tSCmOqbb",
    "outputId": "30858686-aa5c-475e-8754-53b83e9763fb"
   },
   "outputs": [
    {
     "data": {
      "text/plain": [
       "0"
      ]
     },
     "execution_count": 31,
     "metadata": {},
     "output_type": "execute_result"
    }
   ],
   "source": [
    "index"
   ]
  },
  {
   "cell_type": "code",
   "execution_count": 32,
   "metadata": {
    "id": "KKWaZ3LJOs-c"
   },
   "outputs": [],
   "source": [
    "pred = classes_counts[0][index]\n"
   ]
  },
  {
   "cell_type": "code",
   "execution_count": 33,
   "metadata": {
    "colab": {
     "base_uri": "https://localhost:8080/"
    },
    "id": "uDiZRTLdO1yY",
    "outputId": "1278b13d-02ba-4c33-d84f-71d51db399bb"
   },
   "outputs": [
    {
     "data": {
      "text/plain": [
       "3.0"
      ]
     },
     "execution_count": 33,
     "metadata": {},
     "output_type": "execute_result"
    }
   ],
   "source": [
    "pred"
   ]
  },
  {
   "cell_type": "code",
   "execution_count": 34,
   "metadata": {
    "id": "rDOI0jZxO25h"
   },
   "outputs": [],
   "source": [
    "def knn(X,Y,queryPoint,k):\n",
    "    \"\"\"Predict the class label for the query point\"\"\"\n",
    "    # Euclidean Distance\n",
    "    dist = np.sqrt(np.sum((queryPoint-X)**2,axis=1) )\n",
    "\n",
    "    # Storing distance and Class labels together\n",
    "    distances = [(dist[i],Y[i]) for i in range(len(dist)) ]\n",
    "    # sort the distances\n",
    "    distances = sorted(distances)\n",
    "    # Nearest/First K points\n",
    "    distances = distances[:k]\n",
    "\n",
    "    distances = np.array(distances)\n",
    "\n",
    "    classes_counts = np.unique(distances[:,1],return_counts=True)\n",
    "\n",
    "    index = classes_counts[1].argmax()\n",
    "    pred = classes_counts[0][index]\n",
    "\n",
    "    return int(pred),distances"
   ]
  },
  {
   "cell_type": "code",
   "execution_count": 35,
   "metadata": {
    "id": "dYCrhjGOO_7V"
   },
   "outputs": [],
   "source": [
    "pred,neighbors = knn(X_sm, y_sm, X_val_scaled[50],5)\n"
   ]
  },
  {
   "cell_type": "code",
   "execution_count": 36,
   "metadata": {
    "colab": {
     "base_uri": "https://localhost:8080/"
    },
    "id": "AGqEMNefQ_tu",
    "outputId": "25221c16-ece4-41c7-a1f4-9372f9a1b836"
   },
   "outputs": [
    {
     "name": "stdout",
     "output_type": "stream",
     "text": [
      "k nearest neighbors with the distance and class label :[[0.20348216 3.        ]\n",
      " [0.21493792 3.        ]\n",
      " [0.23032458 3.        ]\n",
      " [0.28523047 3.        ]\n",
      " [0.30234556 3.        ]]\n",
      "The predicted class label: 3\n"
     ]
    }
   ],
   "source": [
    "\n",
    "print(f'k nearest neighbors with the distance and class label :{neighbors}')\n",
    "\n",
    "print(f'The predicted class label: {pred}')"
   ]
  },
  {
   "cell_type": "code",
   "execution_count": 37,
   "metadata": {
    "id": "ZDpZM6Q3RBim"
   },
   "outputs": [],
   "source": [
    "from sklearn.neighbors import KNeighborsClassifier\n",
    "Acc = []\n",
    "\n",
    "# Calculating error for K values between 1 and 50\n",
    "# Note: 51 is not included in the loop\n",
    "for i in range(1, 51):\n",
    "    knn = KNeighborsClassifier(n_neighbors=i,metric='euclidean')\n",
    "    knn.fit(X_sm, y_sm)\n",
    "\n",
    "    Acc.append(knn.score(X_val_scaled,y_val))"
   ]
  },
  {
   "cell_type": "code",
   "execution_count": 38,
   "metadata": {
    "colab": {
     "base_uri": "https://localhost:8080/",
     "height": 486
    },
    "id": "tOipDc3aTMrh",
    "outputId": "fd68f5f0-67cf-4e1b-bfa4-1d27b149a34c"
   },
   "outputs": [
    {
     "data": {
      "text/plain": [
       "Text(0, 0.5, 'Accuracy')"
      ]
     },
     "execution_count": 38,
     "metadata": {},
     "output_type": "execute_result"
    },
    {
     "data": {
      "image/png": "[encoded data removed]",
      "text/plain": [
       "<Figure size 1200x600 with 1 Axes>"
      ]
     },
     "metadata": {},
     "output_type": "display_data"
    }
   ],
   "source": [
    "plt.figure(figsize=(12, 6))\n",
    "plt.plot(range(1, 51), Acc, color='red', linestyle='dashed', marker='o',\n",
    "         markerfacecolor='blue', markersize=10)\n",
    "plt.title('Accuracy of K Value')\n",
    "plt.xlabel('K Value')\n",
    "plt.ylabel('Accuracy')"
   ]
  },
  {
   "cell_type": "code",
   "execution_count": 39,
   "metadata": {
    "colab": {
     "base_uri": "https://localhost:8080/",
     "height": 449
    },
    "id": "9W2W36g5T00j",
    "outputId": "75cdbc70-190d-44fe-a7de-d1a40a84ccfb"
   },
   "outputs": [
    {
     "data": {
      "image/png": "[encoded data removed]",
      "text/plain": [
       "<Figure size 640x480 with 1 Axes>"
      ]
     },
     "metadata": {},
     "output_type": "display_data"
    }
   ],
   "source": [
    "import matplotlib.pyplot as plt\n",
    "from sklearn.inspection import DecisionBoundaryDisplay\n",
    "from sklearn.neighbors import KNeighborsClassifier\n",
    "\n",
    "# Choosing the first 2 columns for the plot\n",
    "\n",
    "\n",
    "pca = PCA(n_components=2)\n",
    "X_train_cols = pca.fit_transform(X_sm)\n",
    "\n",
    "# Creating and fitting the tree classifier\n",
    "\n",
    "classifier = KNeighborsClassifier(n_neighbors=5,metric='euclidean')\n",
    "\n",
    "classifier.fit(X_train_cols, y_sm)\n",
    "\n",
    "# Plotting the tree boundaries\n",
    "disp = DecisionBoundaryDisplay.from_estimator(classifier,\n",
    "                                              X_train_cols,\n",
    "                                              response_method=\"predict\",\n",
    "                                              xlabel='f1', ylabel='f2',\n",
    "                                              alpha=0.5,\n",
    "                                              cmap=plt.cm.coolwarm)\n",
    "\n",
    "# Plotting the data points\n",
    "disp.ax_.scatter(X_train_cols[:, 0], X_train_cols[:, 1],\n",
    "                 c=y_sm, edgecolor=\"k\",\n",
    "                 cmap=plt.cm.coolwarm)\n",
    "\n",
    "\n",
    "plt.show()"
   ]
  },
  {
   "cell_type": "code",
   "execution_count": 40,
   "metadata": {
    "colab": {
     "base_uri": "https://localhost:8080/"
    },
    "id": "nsyWgptsUg-6",
    "outputId": "8cd4602f-19ea-428b-9533-56d8c8b4242b"
   },
   "outputs": [
    {
     "name": "stderr",
     "output_type": "stream",
     "text": [
      "Downloading...\n",
      "From: https://drive.google.com/uc?id=1vDIXh1yJxLpmgdh3gZGM6WX0u3GCPuIS\n",
      "To: E:\\Scaler-Notes-Git\\DSML-Notes\\M-15 ML-Supervised Algorithms\\02 ML k Nearest Neighbors-2\\knn_imputation.csv\n",
      "\n",
      "  0%|          | 0.00/12.9k [00:00<?, ?B/s]\n",
      "100%|##########| 12.9k/12.9k [00:00<00:00, 1.01MB/s]\n"
     ]
    }
   ],
   "source": [
    "!gdown 1vDIXh1yJxLpmgdh3gZGM6WX0u3GCPuIS\n"
   ]
  },
  {
   "cell_type": "code",
   "execution_count": 41,
   "metadata": {
    "id": "OYY1-OU1kLDS"
   },
   "outputs": [],
   "source": [
    "import pandas as pd\n",
    "import numpy as np\n",
    "\n",
    "df_imp = pd.read_csv('knn_imputation.csv')\n",
    "df_imp.drop(['Unnamed: 0'],axis=1,inplace=True)"
   ]
  },
  {
   "cell_type": "code",
   "execution_count": 42,
   "metadata": {
    "colab": {
     "base_uri": "https://localhost:8080/",
     "height": 206
    },
    "id": "74M9UWnIkNOW",
    "outputId": "9eb00616-86a2-468e-aac4-db7049ccb4ec"
   },
   "outputs": [
    {
     "data": {
      "text/html": [
       "<div>\n",
       "<style scoped>\n",
       "    .dataframe tbody tr th:only-of-type {\n",
       "        vertical-align: middle;\n",
       "    }\n",
       "\n",
       "    .dataframe tbody tr th {\n",
       "        vertical-align: top;\n",
       "    }\n",
       "\n",
       "    .dataframe thead th {\n",
       "        text-align: right;\n",
       "    }\n",
       "</style>\n",
       "<table border=\"1\" class=\"dataframe\">\n",
       "  <thead>\n",
       "    <tr style=\"text-align: right;\">\n",
       "      <th></th>\n",
       "      <th>Region</th>\n",
       "      <th>Fresh</th>\n",
       "      <th>Milk</th>\n",
       "      <th>Grocery</th>\n",
       "      <th>Frozen</th>\n",
       "      <th>Detergents_Paper</th>\n",
       "      <th>Delicassen</th>\n",
       "    </tr>\n",
       "  </thead>\n",
       "  <tbody>\n",
       "    <tr>\n",
       "      <th>0</th>\n",
       "      <td>3.0</td>\n",
       "      <td>12669.0</td>\n",
       "      <td>9656.0</td>\n",
       "      <td>7561.0</td>\n",
       "      <td>214.0</td>\n",
       "      <td>2674.0</td>\n",
       "      <td>1338.0</td>\n",
       "    </tr>\n",
       "    <tr>\n",
       "      <th>1</th>\n",
       "      <td>3.0</td>\n",
       "      <td>7057.0</td>\n",
       "      <td>9810.0</td>\n",
       "      <td>9568.0</td>\n",
       "      <td>1762.0</td>\n",
       "      <td>3293.0</td>\n",
       "      <td>1776.0</td>\n",
       "    </tr>\n",
       "    <tr>\n",
       "      <th>2</th>\n",
       "      <td>3.0</td>\n",
       "      <td>6353.0</td>\n",
       "      <td>8808.0</td>\n",
       "      <td>NaN</td>\n",
       "      <td>2405.0</td>\n",
       "      <td>3516.0</td>\n",
       "      <td>7844.0</td>\n",
       "    </tr>\n",
       "    <tr>\n",
       "      <th>3</th>\n",
       "      <td>3.0</td>\n",
       "      <td>13265.0</td>\n",
       "      <td>1196.0</td>\n",
       "      <td>4221.0</td>\n",
       "      <td>6404.0</td>\n",
       "      <td>507.0</td>\n",
       "      <td>1788.0</td>\n",
       "    </tr>\n",
       "    <tr>\n",
       "      <th>4</th>\n",
       "      <td>3.0</td>\n",
       "      <td>22615.0</td>\n",
       "      <td>5410.0</td>\n",
       "      <td>7198.0</td>\n",
       "      <td>3915.0</td>\n",
       "      <td>1777.0</td>\n",
       "      <td>5185.0</td>\n",
       "    </tr>\n",
       "  </tbody>\n",
       "</table>\n",
       "</div>"
      ],
      "text/plain": [
       "   Region    Fresh    Milk  Grocery  Frozen  Detergents_Paper  Delicassen\n",
       "0     3.0  12669.0  9656.0   7561.0   214.0            2674.0      1338.0\n",
       "1     3.0   7057.0  9810.0   9568.0  1762.0            3293.0      1776.0\n",
       "2     3.0   6353.0  8808.0      NaN  2405.0            3516.0      7844.0\n",
       "3     3.0  13265.0  1196.0   4221.0  6404.0             507.0      1788.0\n",
       "4     3.0  22615.0  5410.0   7198.0  3915.0            1777.0      5185.0"
      ]
     },
     "execution_count": 42,
     "metadata": {},
     "output_type": "execute_result"
    }
   ],
   "source": [
    "df_imp.head()"
   ]
  },
  {
   "cell_type": "code",
   "execution_count": 43,
   "metadata": {
    "colab": {
     "base_uri": "https://localhost:8080/"
    },
    "id": "Ztg4rACkkQrj",
    "outputId": "453ff192-9405-47e8-f6c1-f40084aa94fa"
   },
   "outputs": [
    {
     "data": {
      "text/plain": [
       "Region               8\n",
       "Fresh               13\n",
       "Milk                15\n",
       "Grocery              9\n",
       "Frozen               8\n",
       "Detergents_Paper    10\n",
       "Delicassen          11\n",
       "dtype: int64"
      ]
     },
     "execution_count": 43,
     "metadata": {},
     "output_type": "execute_result"
    }
   ],
   "source": [
    "df_imp.isna().sum()"
   ]
  },
  {
   "cell_type": "code",
   "execution_count": 44,
   "metadata": {
    "id": "AMG37CRHkS_W"
   },
   "outputs": [],
   "source": [
    "from sklearn.pipeline import Pipeline\n",
    "from sklearn.impute import KNNImputer\n",
    "from sklearn.preprocessing import StandardScaler\n",
    "\n",
    "# Create the pipeline\n",
    "pipeline = Pipeline([\n",
    "    ('scaler', StandardScaler()),  # Step 1: StandardScaler for feature scaling\n",
    "    ('imputer', KNNImputer(n_neighbors=5))  # Step 2: KNNImputer for missing value imputation\n",
    "])\n",
    "\n",
    "# Fit and transform the data using the pipeline\n",
    "X_transformed = pipeline.fit_transform(df_imp)\n",
    "\n",
    "# Creating dataframe\n",
    "X_transformed = pd.DataFrame(X_transformed,columns=df_imp.columns)"
   ]
  },
  {
   "cell_type": "code",
   "execution_count": 45,
   "metadata": {
    "colab": {
     "base_uri": "https://localhost:8080/",
     "height": 206
    },
    "id": "pxAy4Sqikfad",
    "outputId": "a7b1aeef-5699-44f3-b803-62d6d1f8eff5"
   },
   "outputs": [
    {
     "data": {
      "text/html": [
       "<div>\n",
       "<style scoped>\n",
       "    .dataframe tbody tr th:only-of-type {\n",
       "        vertical-align: middle;\n",
       "    }\n",
       "\n",
       "    .dataframe tbody tr th {\n",
       "        vertical-align: top;\n",
       "    }\n",
       "\n",
       "    .dataframe thead th {\n",
       "        text-align: right;\n",
       "    }\n",
       "</style>\n",
       "<table border=\"1\" class=\"dataframe\">\n",
       "  <thead>\n",
       "    <tr style=\"text-align: right;\">\n",
       "      <th></th>\n",
       "      <th>Region</th>\n",
       "      <th>Fresh</th>\n",
       "      <th>Milk</th>\n",
       "      <th>Grocery</th>\n",
       "      <th>Frozen</th>\n",
       "      <th>Detergents_Paper</th>\n",
       "      <th>Delicassen</th>\n",
       "    </tr>\n",
       "  </thead>\n",
       "  <tbody>\n",
       "    <tr>\n",
       "      <th>0</th>\n",
       "      <td>0.555438</td>\n",
       "      <td>-0.233395</td>\n",
       "      <td>0.187310</td>\n",
       "      <td>-0.319038</td>\n",
       "      <td>-0.554681</td>\n",
       "      <td>-0.272830</td>\n",
       "      <td>-0.175386</td>\n",
       "    </tr>\n",
       "    <tr>\n",
       "      <th>1</th>\n",
       "      <td>0.555438</td>\n",
       "      <td>-0.616431</td>\n",
       "      <td>0.204632</td>\n",
       "      <td>-0.139260</td>\n",
       "      <td>-0.281917</td>\n",
       "      <td>-0.165147</td>\n",
       "      <td>-0.051741</td>\n",
       "    </tr>\n",
       "    <tr>\n",
       "      <th>2</th>\n",
       "      <td>0.555438</td>\n",
       "      <td>-0.664481</td>\n",
       "      <td>0.091925</td>\n",
       "      <td>0.200717</td>\n",
       "      <td>-0.168617</td>\n",
       "      <td>-0.126353</td>\n",
       "      <td>1.661231</td>\n",
       "    </tr>\n",
       "    <tr>\n",
       "      <th>3</th>\n",
       "      <td>0.555438</td>\n",
       "      <td>-0.192716</td>\n",
       "      <td>-0.764292</td>\n",
       "      <td>-0.618222</td>\n",
       "      <td>0.536025</td>\n",
       "      <td>-0.649809</td>\n",
       "      <td>-0.048353</td>\n",
       "    </tr>\n",
       "    <tr>\n",
       "      <th>4</th>\n",
       "      <td>0.555438</td>\n",
       "      <td>0.445450</td>\n",
       "      <td>-0.290291</td>\n",
       "      <td>-0.351554</td>\n",
       "      <td>0.097452</td>\n",
       "      <td>-0.428875</td>\n",
       "      <td>0.910606</td>\n",
       "    </tr>\n",
       "  </tbody>\n",
       "</table>\n",
       "</div>"
      ],
      "text/plain": [
       "     Region     Fresh      Milk   Grocery    Frozen  Detergents_Paper   \n",
       "0  0.555438 -0.233395  0.187310 -0.319038 -0.554681         -0.272830  \\\n",
       "1  0.555438 -0.616431  0.204632 -0.139260 -0.281917         -0.165147   \n",
       "2  0.555438 -0.664481  0.091925  0.200717 -0.168617         -0.126353   \n",
       "3  0.555438 -0.192716 -0.764292 -0.618222  0.536025         -0.649809   \n",
       "4  0.555438  0.445450 -0.290291 -0.351554  0.097452         -0.428875   \n",
       "\n",
       "   Delicassen  \n",
       "0   -0.175386  \n",
       "1   -0.051741  \n",
       "2    1.661231  \n",
       "3   -0.048353  \n",
       "4    0.910606  "
      ]
     },
     "execution_count": 45,
     "metadata": {},
     "output_type": "execute_result"
    }
   ],
   "source": [
    "X_transformed.head()"
   ]
  },
  {
   "cell_type": "code",
   "execution_count": 46,
   "metadata": {
    "colab": {
     "base_uri": "https://localhost:8080/"
    },
    "id": "wuF2hsgpki40",
    "outputId": "9836f810-c555-4985-f0dc-76cc9aea0831"
   },
   "outputs": [
    {
     "data": {
      "text/plain": [
       "Region              0\n",
       "Fresh               0\n",
       "Milk                0\n",
       "Grocery             0\n",
       "Frozen              0\n",
       "Detergents_Paper    0\n",
       "Delicassen          0\n",
       "dtype: int64"
      ]
     },
     "execution_count": 46,
     "metadata": {},
     "output_type": "execute_result"
    }
   ],
   "source": [
    "X_transformed.isna().sum()\n"
   ]
  },
  {
   "cell_type": "code",
   "execution_count": null,
   "metadata": {
    "id": "9uUrc_ACkkjE"
   },
   "outputs": [],
   "source": []
  }
 ],
 "metadata": {
  "colab": {
   "provenance": []
  },
  "kernelspec": {
   "display_name": "Python 3 (ipykernel)",
   "language": "python",
   "name": "python3"
  },
  "language_info": {
   "codemirror_mode": {
    "name": "ipython",
    "version": 3
   },
   "file_extension": ".py",
   "mimetype": "text/x-python",
   "name": "python",
   "nbconvert_exporter": "python",
   "pygments_lexer": "ipython3",
   "version": "3.10.2"
  }
 },
 "nbformat": 4,
 "nbformat_minor": 1
}
