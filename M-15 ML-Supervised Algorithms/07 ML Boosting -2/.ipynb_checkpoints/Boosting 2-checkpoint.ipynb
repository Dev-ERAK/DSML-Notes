{
 "cells": [
  {
   "cell_type": "markdown",
   "id": "e9d9670e",
   "metadata": {},
   "source": [
    "## Content"
   ]
  },
  {
   "cell_type": "markdown",
   "id": "8b980056",
   "metadata": {},
   "source": [
    "\n",
    "- **Internals of GBDT - Pseudo Code**\n",
    "    - Quiz 1\n",
    "\n",
    "- **Bias Variance tradeoff**\n",
    "    - Quiz 2, 3\n",
    "    - M (Number of base learners)\n",
    "    - Depth\n",
    "    - [Base learners in GBDT](https://www.scaler.com/hire/test/problem/34995/ )\n",
    "    - [Max depth](https://www.scaler.com/hire/test/problem/25997/)\n",
    "    - [Max depth and independency](https://www.scaler.com/hire/test/problem/26000/)\n",
    "\n",
    "\n",
    "- **How do we regularize GBDT ?**\n",
    "    - Regularization by Shrinkage\n",
    "    - Stochsatic GBDT\n",
    "    - Quiz 4, 5, 6\n",
    "    - [Value of target](https://www.scaler.com/hire/test/problem/26003/) h/w\n",
    "    - [Speeding GBDT](https://www.scaler.com/hire/test/problem/25998/) h/w\n",
    "    - [Gradient boosting predict](https://www.scaler.com/hire/test/problem/25938/) (coding) h/w\n",
    "    - [Overfit in GBDT](https://www.scaler.com/hire/test/problem/34994/ )\n",
    "    - [Learning rate in gradient boosting](https://www.scaler.com/hire/test/problem/26070/)\n",
    "    - [Shrinkage](https://www.scaler.com/hire/test/problem/25993/)\n",
    "    - [Row and column sampling](https://www.scaler.com/hire/test/problem/26006/) h/w\n",
    "\n",
    "\n",
    "- **Does outlier impact GBDT?**\n",
    "    - Quiz 7, 8\n",
    "    - [Correct for boosting](https://www.scaler.com/hire/test/problem/25994/)\n",
    "\n",
    "\n",
    "- **Use case - EMG Signal Classification**"
   ]
  },
  {
   "cell_type": "markdown",
   "id": "a7a88f73",
   "metadata": {},
   "source": [
    "## Internals of Gradient Boosting Decision Tree (GBDT) - Pseudo Code"
   ]
  },
  {
   "cell_type": "markdown",
   "id": "40f95090",
   "metadata": {},
   "source": [
    "Let's look into the internals of GBDT\n",
    "- and try to understand its pseudo code.\n",
    "\n",
    "Link: https://en.wikipedia.org/wiki/Gradient_boosting#:~:text=5%5D%5B2%5D-,Input,-%3A%20training%20set\n",
    "        \n",
    "        "
   ]
  },
  {
   "cell_type": "markdown",
   "id": "e58b82ea",
   "metadata": {},
   "source": [
    "<center><img src='Algo-1.png' width=900></center>"
   ]
  },
  {
   "cell_type": "markdown",
   "id": "b0591ec5",
   "metadata": {},
   "source": [
    "Let's look into inputs first\n",
    "\n",
    "#### Inputs\n",
    "\n",
    "We have been provided with\n",
    "- Training data ($D_{Train}$)\n",
    "- a differentiable loss function $L(y , F(x))$ (e.g.: sq. loss in case of regression)\n",
    "- and number of model (trees) we are going to build\n",
    "\n",
    "\n",
    "Note:\n",
    "- Here F(x) is nothing but the predicted output (ŷ)\n",
    "\n",
    "\n",
    "<center><img src='Algo-2.png' width=800></center>\n",
    "\n",
    "\n",
    "Now, let's start off with the how algo works:"
   ]
  },
  {
   "cell_type": "markdown",
   "id": "66b1ddf1",
   "metadata": {},
   "source": [
    "### Step 1"
   ]
  },
  {
   "cell_type": "markdown",
   "id": "8879ad83",
   "metadata": {},
   "source": [
    "\n",
    "<center><img src='Algo-initialize.png' width=800></center>\n",
    "\n",
    "\n",
    "Recall that,\n",
    "\n",
    "\n",
    "We started off by creating the $0^{th}$ model i.e. $F_0(x)$\n",
    "\n",
    "#### In regression, what model did we create in stage 0 ?\n",
    "\n",
    "    Mean model i.e. take average of y values as prediction\n",
    "\n",
    "    \n",
    "But, this is not what's written in step 1.\n",
    "\n",
    "Let's try to understand what's written in first step\n",
    "\n",
    "In simple english, it is saying\n",
    "- For the given loss $L$\n",
    "    - find the value γ which minimizes the loss $L(y_i, γ)$\n",
    "    \n",
    "    \n",
    "Assume we have loss as squared loss,\n",
    "- Let's try to find the value of γ which minimizes squared loss.\n",
    "\n",
    "\n",
    "#### How do we find that ?\n",
    "\n",
    "By taking the derivative of loss function"
   ]
  },
  {
   "cell_type": "markdown",
   "id": "FhWIdTGSuQvq",
   "metadata": {},
   "source": [
    "\n",
    "\n",
    "<center><img src='argmin-1.png' width=800></center>\n",
    "\n",
    "\n",
    "\n",
    "<center><img src='argmin-2.png' width=800></center>\n",
    "\n",
    "The **γ** that minimizes the sq. loss\n",
    "- is nothhing but **mean value**.\n",
    "\n",
    "\n",
    "So, this complex equation is simply telling us to create a **mean model**\n",
    "\n",
    "Now that we have find the value of $M_0$,\n",
    "- we need to find $h_1(x), h_2(x) ... h_m(x)$\n",
    "- as well as the weights $γ_1, y_2, ... y_m$\n",
    "\n",
    "\n",
    "let's see how we find them\n",
    "\n",
    "### Step 2"
   ]
  },
  {
   "cell_type": "markdown",
   "id": "0e042e2c",
   "metadata": {
    "id": "JiXTTUoTwwIF"
   },
   "source": [
    "\n",
    "\n",
    "<center><img src='step-2.png' width=800></center>\n",
    "\n"
   ]
  },
  {
   "cell_type": "markdown",
   "id": "c48d9c1f",
   "metadata": {
    "id": "smVUNM0LzOEY"
   },
   "source": [
    "Since we have to create M models (Stage 1 to Stage M),\n",
    "- we are iterating M times"
   ]
  },
  {
   "cell_type": "markdown",
   "id": "79228d03",
   "metadata": {
    "id": "WonzuPBL4leP"
   },
   "source": [
    "#### Step 2.1"
   ]
  },
  {
   "cell_type": "markdown",
   "id": "fb73c8ae",
   "metadata": {
    "id": "8DT810TizWLO"
   },
   "source": [
    "First off, in order to train new model\n",
    "- we **calculate** the **residuals of the previous model**\n",
    "\n",
    "Here, we **use pseudo residuals** i.e. negative gradient as residual."
   ]
  },
  {
   "cell_type": "markdown",
   "id": "0e936c71",
   "metadata": {
    "id": "zxxd6eoVzsmI"
   },
   "source": [
    "\n",
    "\n",
    "<center><img src='https://drive.google.com/uc?id=1LSKpxowDZxIxYv3HkPQwTuWWEzlERa5n' width=800></center>\n"
   ]
  },
  {
   "cell_type": "markdown",
   "id": "6ab26371",
   "metadata": {
    "id": "kfvyEe360QFP"
   },
   "source": [
    "Here,\n",
    "- i represents the datapoints\n",
    "- m respresents the iteration (stage)\n",
    "\n",
    "\n",
    "Since, we are at iteration 1\n",
    "- m = 1\n",
    "\n",
    "So,\n",
    "- $r_{im}$ will be $r_{i1}$\n",
    "\n",
    "\n",
    "We'll calculate the residual of each point\n",
    "- by calculating negative gradient of Loss w.r.t F(x)\n",
    "- F(x) here will be $F_0(x)$ ($F_{m-1}(x)$ - last stage model)"
   ]
  },
  {
   "cell_type": "markdown",
   "id": "a0b3e09f",
   "metadata": {
    "id": "kdLRbgFW4nWr"
   },
   "source": [
    "#### Step 2.2"
   ]
  },
  {
   "cell_type": "markdown",
   "id": "08c34301",
   "metadata": {
    "id": "Ibu_kQnM00SV"
   },
   "source": [
    "Once we have found the residual for each point,\n",
    "- we fit the model using {$x_i, r_{im}$} i.e. features and residual."
   ]
  },
  {
   "cell_type": "markdown",
   "id": "84c3bc20",
   "metadata": {
    "id": "EmZ8307b1o8K"
   },
   "source": [
    "\n",
    "\n",
    "<center><img src='https://drive.google.com/uc?id=1B5VUPeOAZ1sevyQdfZ_uu5v3hXkQPQRn' width=800></center>\n"
   ]
  },
  {
   "cell_type": "markdown",
   "id": "5524f106",
   "metadata": {
    "id": "ot6Hhozx4e9V"
   },
   "source": [
    "Now we have we have learnt $h_1(x)$,\n",
    "- we need to find its weight $γ_1$\n",
    "\n",
    "\n",
    "This is what we do in next step"
   ]
  },
  {
   "cell_type": "markdown",
   "id": "cced0d6b",
   "metadata": {
    "id": "kO4ytyio5yVa"
   },
   "source": [
    "#### Step 2.3"
   ]
  },
  {
   "cell_type": "markdown",
   "id": "05f5dc7e",
   "metadata": {
    "id": "K67fz57-41bf"
   },
   "source": [
    "\n",
    "\n",
    "<center><img src='https://drive.google.com/uc?id=1WxqQ7Bfr_W8Fu8bdu4JTfKH41l6NCfdF' width=800></center>\n",
    "\n",
    "\n"
   ]
  },
  {
   "cell_type": "markdown",
   "id": "29202925",
   "metadata": {
    "id": "4V3axHZq5uki"
   },
   "source": [
    "Let's write this equation in simple english\n",
    "\n",
    "We want to **find γ** which **minimizes the given loss**\n",
    "\n",
    "$$Loss = L(y_i, F_{m-1}(x_i) + γh_m(x_i))$$"
   ]
  },
  {
   "cell_type": "markdown",
   "id": "7d512504",
   "metadata": {
    "id": "1K2eGXdG6EpC"
   },
   "source": [
    "\n",
    "\n",
    "<center><img src='https://drive.google.com/uc?id=13TuLbufT4eF1PIQDnPOBrnYWkcaRoUHL' width=800></center>\n",
    "\n",
    "\n"
   ]
  },
  {
   "cell_type": "markdown",
   "id": "bb3baa56",
   "metadata": {
    "id": "TysZ_F0J6USQ"
   },
   "source": [
    "Here\n",
    "- $y_i$ are actual values\n",
    "- We have already calculated value of $F_{m-1}$\n",
    "    - For m = 1,\n",
    "        - $F_{m-1}(x_i)$ = $F_0(x_i)$\n",
    "        - which we calculated in first step\n",
    "    - and $h_m(x)$ will be $h_1(x)$\n",
    "        - which we we just calculated\n",
    "\n",
    "So, the only variable here is γ\n",
    "- rest everything is constant\n",
    "\n"
   ]
  },
  {
   "cell_type": "markdown",
   "id": "e3126ce2",
   "metadata": {
    "id": "FCoo077g-fU_"
   },
   "source": [
    "We can simply take the derivative of it w.r.t γ\n",
    "- and equate it to 0 and find the value of γ which minimizes the loss.\n",
    "\n",
    "\n",
    "This weight will be represented using $γ_m$\n",
    "- For m = 1, it will be $γ_1$"
   ]
  },
  {
   "cell_type": "markdown",
   "id": "c7e671af",
   "metadata": {
    "id": "dSfcCL977Ko7"
   },
   "source": [
    "After calculating the $h_1(x)$ and $γ_1$,\n",
    "- we need to make final predicition\n",
    "- i.e. combine the previous model prediction with current model predicition\n",
    "\n",
    "\n",
    "This is what we do in next step"
   ]
  },
  {
   "cell_type": "markdown",
   "id": "da3ceb85",
   "metadata": {
    "id": "cKI604VB7ZKt"
   },
   "source": [
    "#### Step 2.4"
   ]
  },
  {
   "cell_type": "markdown",
   "id": "806db322",
   "metadata": {
    "id": "vm-g6wb07d_c"
   },
   "source": [
    "\n",
    "\n",
    "<center><img src='https://drive.google.com/uc?id=1sdMd6vOpn2tOgEKSxjB2pOAejh6IRCCQ' width=800></center>\n",
    "\n",
    "\n",
    "\n"
   ]
  },
  {
   "cell_type": "markdown",
   "id": "87917582",
   "metadata": {
    "id": "bg2U0kVe8Ly4"
   },
   "source": [
    "We keep doing these sub steps for M interation\n",
    "- and lastly output the model"
   ]
  },
  {
   "cell_type": "markdown",
   "id": "743f810c",
   "metadata": {
    "id": "BsqDUiin8bu7"
   },
   "source": [
    "### Step 3"
   ]
  },
  {
   "cell_type": "markdown",
   "id": "33e1dc1c",
   "metadata": {
    "id": "sklhPlPy8cgt"
   },
   "source": [
    "\n",
    "\n",
    "<center><img src='https://drive.google.com/uc?id=1tBx9npK8Rf46BxSe_LOuFYhrz3kvgN8k' width=800></center>\n",
    "\n"
   ]
  },
  {
   "cell_type": "markdown",
   "id": "c311beef",
   "metadata": {
    "id": "PWUM0u9AWgvS"
   },
   "source": [
    "```\n",
    "Quiz 1 - Check your understanding\n",
    "\n",
    "Which of the following statement(s) are True?\n",
    "\n",
    "a. F_0(x) model will be a mean model\n",
    "b. For additive combining, we do weighted addition of consecutive models instead of simple addition\n",
    "c. We perform weighted addition in order to control the influence of the base learners.\n",
    "d. All of the above\n",
    "\n",
    "Correct option: All of the above\n",
    "\n",
    "```"
   ]
  },
  {
   "cell_type": "markdown",
   "id": "9cbe0620",
   "metadata": {
    "id": "r4ey-DmM-UgT"
   },
   "source": [
    "Now that we have learnt how does gradient boosting works\n",
    "\n",
    "Let's write some code to implement boosting using sklearn\n",
    "\n",
    "\n"
   ]
  },
  {
   "cell_type": "markdown",
   "id": "1864783c",
   "metadata": {
    "id": "J_2VKZClJVqK"
   },
   "source": [
    "## Bias Variance tradeoff"
   ]
  },
  {
   "cell_type": "markdown",
   "id": "2a1fc0c5",
   "metadata": {
    "id": "PH1EkFQSJX63"
   },
   "source": [
    "We learnt about various hyperparam in previous lecture. i.e.\n",
    "\n",
    "- M (number of base learners)\n",
    "- Depth\n",
    "\n",
    "\n",
    "let's try to answer some scenarios related to hyperparam"
   ]
  },
  {
   "cell_type": "markdown",
   "id": "6eca8620",
   "metadata": {
    "id": "NAoR-HkeQRsn"
   },
   "source": [
    "#### M (number of base learners)"
   ]
  },
  {
   "cell_type": "markdown",
   "id": "da900854",
   "metadata": {
    "id": "J-X0SnfIKPXa"
   },
   "source": [
    "```\n",
    "Quiz 2 - Try it out\n",
    "\n",
    "As we increase the value of M (number of base learners), the model will:\n",
    "\n",
    "a. Underfit\n",
    "b. Overfit\n",
    "c. No change\n",
    "d. None of the above\n",
    "\n",
    "\n",
    "Correct option: b. Overfit\n",
    "\n",
    "```"
   ]
  },
  {
   "cell_type": "markdown",
   "id": "9275b9a4",
   "metadata": {
    "id": "x6_4qN2kMRQU"
   },
   "source": [
    "As **M increases**\n",
    "- model will tend to **overfit**\n",
    "\n",
    "**Why?**\n",
    "\n",
    "- coz as the number of **base learners increases**\n",
    "    - it is **more likely** that the **training error** will **tend to 0**.\n",
    "\n",
    "Hence, making the model overfit"
   ]
  },
  {
   "cell_type": "markdown",
   "id": "2368c143",
   "metadata": {
    "id": "POuyyx9mPDkw"
   },
   "source": [
    "On the other hand,\n",
    "- if we **decrease** the value of **M**\n",
    "    - model will tend to **underfit**\n",
    "\n",
    "\n",
    "For example:\n",
    "- Say we take M = 1\n",
    "    - i.e. Stage 0 (mean model) and Stage 1 model\n",
    "    - This model will not have enough base learners to learn from the previous model's error\n",
    "    - it's predictions will be close to mean value.\n",
    "    - Hence, it will underfit."
   ]
  },
  {
   "cell_type": "markdown",
   "id": "e8853b38",
   "metadata": {
    "id": "Cxc1VTR2Sooy"
   },
   "source": [
    "<center><img src='https://drive.google.com/uc?id=1NBlp2NT27d7WjaJMiJ7RiOdMiLtIEcaS' width=700></center>"
   ]
  },
  {
   "cell_type": "markdown",
   "id": "30710669",
   "metadata": {
    "id": "tVtrYtvxhNI2"
   },
   "source": [
    "#### Depth"
   ]
  },
  {
   "cell_type": "markdown",
   "id": "ba008188",
   "metadata": {
    "id": "jLCKJ_7xQN71"
   },
   "source": [
    "Next, let's look into depth of decision Tree"
   ]
  },
  {
   "cell_type": "markdown",
   "id": "d6b7e449",
   "metadata": {
    "id": "TJVEP6rWQWHN"
   },
   "source": [
    "```\n",
    "Quiz - 3 Try it out\n",
    "\n",
    "What will happen if we increase max_depth of base learner in boosting?\n",
    "\n",
    "a. Overfit\n",
    "b. Underfit\n",
    "c. No change\n",
    "d. None of the above\n",
    "\n",
    "\n",
    "Correct option: a. Overfit\n",
    "\n",
    "```"
   ]
  },
  {
   "cell_type": "markdown",
   "id": "8cf2e347",
   "metadata": {
    "id": "HS7qusxMQieN"
   },
   "source": [
    "As depth of the base learners increases,\n",
    "- model will tend to overfit\n",
    "- as with increase in depth, variance of model increases\n",
    "    - and boosting reduces bias, not variance\n",
    "    - so model will overfit quicky."
   ]
  },
  {
   "cell_type": "markdown",
   "id": "52f3b52d",
   "metadata": {
    "id": "Fo-wPAS1UoOA"
   },
   "source": [
    "Conclusion:\n",
    "- **If we don't train GBDT properly, it'll overfit**.\n",
    "\n",
    "So, in order to prevent it from overfitting,\n",
    "- we introduce another level of regularization"
   ]
  },
  {
   "cell_type": "markdown",
   "id": "8e8d4c75",
   "metadata": {
    "id": "1Ls6HhuLVYVW"
   },
   "source": [
    "## How do we regularize GBDT ?"
   ]
  },
  {
   "cell_type": "markdown",
   "id": "c4f35e32",
   "metadata": {
    "id": "dnMDy8ZjVfHE"
   },
   "source": [
    "### Regularization by Shrinkage"
   ]
  },
  {
   "cell_type": "markdown",
   "id": "f5cf376b",
   "metadata": {
    "id": "jvhxRrZzbJ6L"
   },
   "source": [
    "We have the final model equation as:"
   ]
  },
  {
   "cell_type": "markdown",
   "id": "d2691524",
   "metadata": {
    "id": "KrIQxueibQXh"
   },
   "source": [
    "<center><img src='https://drive.google.com/uc?id=13E3bem-DfkI8GgrHf6Nrl8YuN0aN2IN-' width=600></center>\n"
   ]
  },
  {
   "cell_type": "markdown",
   "id": "92655b50",
   "metadata": {
    "id": "vl2hexWZbSKc"
   },
   "source": [
    "To this,\n",
    "- we add an regularization term known as learning rate (ν)"
   ]
  },
  {
   "cell_type": "markdown",
   "id": "af6bdb43",
   "metadata": {
    "id": "IK7ES1MKclyO"
   },
   "source": [
    "<center><img src='https://drive.google.com/uc?id=1ycfCAUkI6ImqqVhZUYg9JzlvoLSoGix2' width=600></center>\n",
    "\n",
    "\n"
   ]
  },
  {
   "cell_type": "markdown",
   "id": "8ceb2c33",
   "metadata": {
    "id": "k3Me1nh7e-ZN"
   },
   "source": [
    "Note that\n",
    "- This learning rate is a hyperparam\n",
    "- i.e. its value is a fixed during the whole training/testing process.\n",
    "\n",
    "\n",
    "<br>\n",
    "\n",
    "Intuitively, learning rate is reducing the impact of $m^{th}$ model\n",
    "- so that model don't overfit easily.\n",
    "\n",
    "\n",
    "\n",
    "\n",
    "\n",
    "In case, you want to learn more about it, refer wiki: <a href =\"https://en.wikipedia.org/wiki/Gradient_boosting#:~:text=the%20training%20data.-,Shrinkage,-%5Bedit%5D\">link</a>"
   ]
  },
  {
   "cell_type": "markdown",
   "id": "b1039152",
   "metadata": {
    "id": "Z_ndFovRg7jZ"
   },
   "source": [
    "#### What happens if learning rate is small ?"
   ]
  },
  {
   "cell_type": "markdown",
   "id": "4cc8a2de",
   "metadata": {
    "id": "u7pstJa0fNHX"
   },
   "source": [
    "```\n",
    "Quiz 4 - Try it out\n",
    "\n",
    "What happens if we have learning rate as a very small value ?\n",
    "\n",
    "\n",
    "a. It will take less iterations (M) for model to converge\n",
    "b. It will take more iterations (M) for model to converge\n",
    "c. No impact. Model will converge as it was before introduction of learning rate\n",
    "d. None of the above\n",
    "\n",
    "Correct option: b. It will take more iternations (M) for model to converge\n",
    "\n",
    "```"
   ]
  },
  {
   "cell_type": "markdown",
   "id": "5d3d5e14",
   "metadata": {
    "id": "oatM0AkSg4jv"
   },
   "source": [
    "When learning rate is small value,\n",
    "- it'll take as more number of iterations for model to converge\n",
    "- As the impact of $m^{th}$ model will be reduce significatly."
   ]
  },
  {
   "cell_type": "markdown",
   "id": "4fb9e897",
   "metadata": {
    "id": "gUGQ9-jV8Dkp"
   },
   "source": [
    "There is another way to regularize GBDT as well"
   ]
  },
  {
   "cell_type": "markdown",
   "id": "ace09145",
   "metadata": {
    "id": "tn06Tb6t8GyZ"
   },
   "source": [
    "### Stochastic Gradient Boosting"
   ]
  },
  {
   "cell_type": "markdown",
   "id": "380817f4",
   "metadata": {
    "id": "_R0i-_xO8Q3U"
   },
   "source": [
    "The problem we are trying to solve is\n",
    "- GBDT overfits alot.\n",
    "\n"
   ]
  },
  {
   "cell_type": "markdown",
   "id": "c5afedc4",
   "metadata": {
    "id": "9A-9ljwLYLEi"
   },
   "source": [
    "```\n",
    "Quiz 5 - Check your understanding\n",
    "\n",
    "What does it mean when model is overfit ? Model will have ____\n",
    "\n",
    "a. Low variance\n",
    "b. High bias\n",
    "c. High variance\n",
    "d. None of the above.\n",
    "\n",
    "\n",
    "Correct option : a. High variance\n",
    "\n",
    "\n",
    "\n",
    "```"
   ]
  },
  {
   "cell_type": "markdown",
   "id": "4d7190e3",
   "metadata": {
    "id": "4b6AFjHgYsJT"
   },
   "source": [
    "So, an overfit model will have high variance low bias."
   ]
  },
  {
   "cell_type": "markdown",
   "id": "95420acf",
   "metadata": {
    "id": "JNzgPppbY0x5"
   },
   "source": [
    "#### Can you think of a way to reduce variance ? (Hint: Recall Random Forest)\n",
    "\n",
    "We can use **randomization**!\n",
    "\n",
    "Recall that\n",
    "- In RF, in order to reduce the high variance\n",
    "    - we used randomization in sampling i.e. Row sampling and column sampling\n",
    "\n"
   ]
  },
  {
   "cell_type": "markdown",
   "id": "3886e045",
   "metadata": {
    "id": "pO3bZ58hakue"
   },
   "source": [
    "We can use the same concept of randomization with GBDT to reduce the variance i.e. reduce overfitting"
   ]
  },
  {
   "cell_type": "markdown",
   "id": "c6c2d147",
   "metadata": {
    "id": "Sgi93Tn0av-2"
   },
   "source": [
    "<center><img src='https://drive.google.com/uc?id=1P4mDU5MKrMgszgNQhmr_W5OINg6uutYe' width=600></center>\n",
    "\n"
   ]
  },
  {
   "cell_type": "markdown",
   "id": "bcb27d2c",
   "metadata": {
    "id": "g0dFMNydZ45V"
   },
   "source": [
    "This usage of subsampling samples from datapoints for each base learner\n",
    "- helps in model generalization i.e. reducing overfit\n",
    "\n",
    "And this variation of GBDT is called **Stochastic Gradient Boosting**"
   ]
  },
  {
   "cell_type": "markdown",
   "id": "1e32ec03",
   "metadata": {
    "id": "PCmNZsJgadO2"
   },
   "source": [
    "Check it out: https://scikit-learn.org/stable/modules/generated/sklearn.ensemble.GradientBoostingClassifier.html"
   ]
  },
  {
   "cell_type": "markdown",
   "id": "9608ae2a",
   "metadata": {
    "id": "EcLDiqTraK2W"
   },
   "source": [
    "Note that:\n",
    "- sklearn also provides us the ability of row sampling\n",
    "    - using **subsample** hyperparam\n",
    "\n",
    "- and column sampling using **max_features** hyperparam"
   ]
  },
  {
   "cell_type": "markdown",
   "id": "54181220",
   "metadata": {
    "id": "3bYqzODtXewZ"
   },
   "source": [
    "```\n",
    "\n",
    "Quiz 6 - Check your understanding\n",
    "\n",
    "Which of the following techniques can help in regularizing GBDT\n",
    "\n",
    "a. Using Learning rate\n",
    "b. Using Sampling (Stochastic GBDT)\n",
    "c. All of the above\n",
    "\n",
    "Ans: c. All of the above\n",
    "\n",
    "```"
   ]
  },
  {
   "cell_type": "markdown",
   "id": "956ab2a3",
   "metadata": {
    "id": "lsp22WP4hLJp"
   },
   "source": [
    "## Does outlier impact GBDT  ?"
   ]
  },
  {
   "cell_type": "markdown",
   "id": "ab0dd30e",
   "metadata": {
    "id": "JXmpmtjalNHV"
   },
   "source": [
    "```\n",
    "\n",
    "Quiz 7 - Try it out\n",
    "\n",
    "What do you think: Do outliers impact GBDT?\n",
    "\n",
    "a. Yes. as it is based on residuals\n",
    "\n",
    "b. No. as it is based on residuals\n",
    "\n",
    "\n",
    "Correct option: a. Yes. as it is based on residuals\n",
    "```"
   ]
  },
  {
   "cell_type": "markdown",
   "id": "2214f041",
   "metadata": {
    "id": "o4ZoXHc9lytJ"
   },
   "source": [
    "Since each model is fit on residuals of previous models\n",
    "- outliers will have higher residual values\n",
    "\n",
    "and this causes GBDT to focus its attention on reducing these residuals for outliers points.\n",
    "\n"
   ]
  },
  {
   "cell_type": "markdown",
   "id": "af8a7ff3",
   "metadata": {
    "id": "Kpe7ch7HpLeg"
   },
   "source": [
    "#### How can we tackle this issue ? (Hint: GBDT's superpower)"
   ]
  },
  {
   "cell_type": "markdown",
   "id": "434c63b5",
   "metadata": {
    "id": "TVv2d5cqpWKA"
   },
   "source": [
    "We can resolve this issue by changing the loss function"
   ]
  },
  {
   "cell_type": "markdown",
   "id": "659f1c63",
   "metadata": {
    "id": "xNdGSU73pcER"
   },
   "source": [
    "When we use squared loss,\n",
    "- the value of loss increases exponentially if the error value is large"
   ]
  },
  {
   "cell_type": "markdown",
   "id": "a12a075e",
   "metadata": {
    "id": "iE-IFCtkptKR"
   },
   "source": [
    "<center><img src='https://drive.google.com/uc?id=1YeKSXMCdzyvbOxnukydk94oWMiaPN7Vh' width=600></center>\n"
   ]
  },
  {
   "cell_type": "markdown",
   "id": "bd6ea9e0",
   "metadata": {
    "id": "8raVfZ7Frqya"
   },
   "source": [
    "The issue is expoential increase in loss w.r.t small increase in error value\n",
    "\n",
    "#### What if we modify the loss function to taper off large loss values ?\n",
    "\n",
    "This is what **Huber loss** does."
   ]
  },
  {
   "cell_type": "markdown",
   "id": "b8d23842",
   "metadata": {
    "id": "Ez7JDDLZtj6V"
   },
   "source": [
    "For smaller residual values,\n",
    "- both Squared loss and Huber loss have same values\n",
    "\n",
    "However, as value of residual increases\n",
    "- Huber loss doesn't explode like sq. loss"
   ]
  },
  {
   "cell_type": "markdown",
   "id": "d61d10e0",
   "metadata": {
    "id": "BL-K_xl0r87t"
   },
   "source": [
    "<center><img src='https://drive.google.com/uc?id=1-r6q50XLOPSUUkFDIR_ljVeuuWR04PdK' width=800></center>\n"
   ]
  },
  {
   "cell_type": "markdown",
   "id": "547391b2",
   "metadata": {
    "id": "OD38R-OktZvA"
   },
   "source": [
    "Other than that,\n",
    "- we **can** also **use RMSE**\n",
    "- as it is taking the root of whole value,\n",
    "    - the loss value won't explode for large error values"
   ]
  },
  {
   "cell_type": "markdown",
   "id": "32ed7f64",
   "metadata": {
    "id": "xjexdWTnX9FH"
   },
   "source": [
    "```\n",
    "Quiz 8 - Check your understanding\n",
    "\n",
    "\n",
    "How can we deal with outliers in GBDT?\n",
    "\n",
    "Statement 1: Remove the outliers\n",
    "Statement 2: Use loss function which isn't impacted by outliers\n",
    "\n",
    "\n",
    "a. Statement 1\n",
    "b. Statement 2\n",
    "c. Statement 1 & 2\n",
    "d. None of the above\n",
    "\n",
    "Correct option: c. Statement 1 & 2\n",
    "\n",
    "```"
   ]
  },
  {
   "cell_type": "markdown",
   "id": "89e0386b",
   "metadata": {
    "id": "nFAQspgBvcFJ"
   },
   "source": [
    "Now, that we are done with the concept of GBDT\n",
    "\n",
    "Let's apply it on one interesting usecase"
   ]
  },
  {
   "cell_type": "markdown",
   "id": "4759c23e",
   "metadata": {
    "id": "oPcLO1XevhMM"
   },
   "source": [
    "## UseCase - EMG Signal Classification"
   ]
  },
  {
   "cell_type": "markdown",
   "id": "aa4cdd5b",
   "metadata": {
    "id": "TD6BdRSjGmFG"
   },
   "source": [
    "\n",
    "\n",
    "#### Problem Statement:\n",
    "- Your task is to classify these EMG signals into 20 different physical actions\n",
    "- This will then be used for controlling the robotics arm.\n",
    "\n",
    "#### What is EMG (ElectroMioGraphy) ?\n",
    "  - Technique to study electrical signals produced by muscular movement.\n",
    "\n",
    "#### Dataset\n",
    "- You have a dataset of EMG signals from 4 subjects/people.\n",
    "\n",
    "#### How was the data collected ?\n",
    "  - Subject was asked to perform specific physical actions\n",
    "  - Signals produced due to that movement were recorded over time.\n",
    "  - 8 channels were used to record the signals\n",
    "  - Channels here correspond to muscles\\\n",
    "    For eg: Right-hand bicep\n",
    "  - Frequency : 10 $ms^{-1}$\n",
    "\n",
    "Now, lets import some libs at first."
   ]
  },
  {
   "cell_type": "markdown",
   "id": "23fb77d4",
   "metadata": {
    "id": "lsZg4GySltn1"
   },
   "source": [
    " Source: https://archive.ics.uci.edu/ml/datasets/EMG+Physical+Action+Data+Set"
   ]
  },
  {
   "cell_type": "code",
   "execution_count": 1,
   "id": "be96a11d",
   "metadata": {
    "id": "A6s3CP7uHZBh"
   },
   "outputs": [],
   "source": [
    "import matplotlib.pyplot as plt\n",
    "import numpy as np\n",
    "import os\n",
    "import pandas as pd\n",
    "import sklearn"
   ]
  },
  {
   "cell_type": "markdown",
   "id": "ecca4850",
   "metadata": {
    "id": "VwGJa8TiH8JI"
   },
   "source": [
    "#### Extracting data"
   ]
  },
  {
   "cell_type": "code",
   "execution_count": 2,
   "id": "f665e36d",
   "metadata": {
    "colab": {
     "base_uri": "https://localhost:8080/"
    },
    "id": "DNJ1wvQ0HraB",
    "outputId": "f115f51f-6c1c-4bdc-9db8-a10885a92787"
   },
   "outputs": [
    {
     "name": "stderr",
     "output_type": "stream",
     "text": [
      "Downloading...\n",
      "From: https://drive.google.com/uc?id=1h86M8si2YT-aI4Zec1MeMP_mPYsLPy5F\n",
      "To: E:\\Scaler-Notes-Git\\DSML-Notes\\M-15 ML-Supervised Algorithms\\07 ML Boosting -2\\emg.rar\n",
      "\n",
      "  0%|          | 0.00/18.6M [00:00<?, ?B/s]\n",
      "  3%|2         | 524k/18.6M [00:00<00:06, 2.80MB/s]\n",
      "  6%|5         | 1.05M/18.6M [00:00<00:04, 3.79MB/s]\n",
      "  8%|8         | 1.57M/18.6M [00:00<00:03, 4.29MB/s]\n",
      " 11%|#1        | 2.10M/18.6M [00:00<00:03, 4.30MB/s]\n",
      " 14%|#4        | 2.62M/18.6M [00:00<00:06, 2.30MB/s]\n",
      " 20%|#9        | 3.67M/18.6M [00:01<00:04, 3.51MB/s]\n",
      " 25%|##5       | 4.72M/18.6M [00:01<00:03, 4.28MB/s]\n",
      " 31%|###1      | 5.77M/18.6M [00:01<00:02, 4.68MB/s]\n",
      " 37%|###6      | 6.82M/18.6M [00:01<00:02, 4.78MB/s]\n",
      " 39%|###9      | 7.34M/18.6M [00:01<00:02, 4.75MB/s]\n",
      " 42%|####2     | 7.86M/18.6M [00:01<00:02, 4.72MB/s]\n",
      " 45%|####5     | 8.39M/18.6M [00:01<00:02, 4.64MB/s]\n",
      " 51%|#####     | 9.44M/18.6M [00:02<00:01, 5.04MB/s]\n",
      " 56%|#####6    | 10.5M/18.6M [00:02<00:01, 4.99MB/s]\n",
      " 59%|#####9    | 11.0M/18.6M [00:02<00:01, 4.93MB/s]\n",
      " 62%|######2   | 11.5M/18.6M [00:02<00:01, 4.92MB/s]\n",
      " 65%|######4   | 12.1M/18.6M [00:02<00:01, 4.76MB/s]\n",
      " 70%|#######   | 13.1M/18.6M [00:02<00:01, 5.30MB/s]\n",
      " 76%|#######6  | 14.2M/18.6M [00:03<00:00, 5.40MB/s]\n",
      " 82%|########1 | 15.2M/18.6M [00:03<00:00, 5.62MB/s]\n",
      " 87%|########7 | 16.3M/18.6M [00:03<00:00, 5.33MB/s]\n",
      " 93%|#########3| 17.3M/18.6M [00:03<00:00, 5.42MB/s]\n",
      " 99%|#########8| 18.4M/18.6M [00:03<00:00, 5.51MB/s]\n",
      "100%|##########| 18.6M/18.6M [00:03<00:00, 4.79MB/s]\n"
     ]
    }
   ],
   "source": [
    "!gdown 1h86M8si2YT-aI4Zec1MeMP_mPYsLPy5F"
   ]
  },
  {
   "cell_type": "code",
   "execution_count": 3,
   "id": "efb32e28",
   "metadata": {
    "colab": {
     "base_uri": "https://localhost:8080/"
    },
    "id": "g14Sp-MuH3zf",
    "outputId": "98b9b1df-35ce-4cb8-d5fa-6b12d339fab2"
   },
   "outputs": [
    {
     "name": "stderr",
     "output_type": "stream",
     "text": [
      "'unrar' is not recognized as an internal or external command,\n",
      "operable program or batch file.\n"
     ]
    }
   ],
   "source": [
    "# x is extract\n",
    "\n",
    "!unrar x \"./emg.rar\" \"./\""
   ]
  },
  {
   "cell_type": "markdown",
   "id": "07ec30d9",
   "metadata": {
    "id": "xp4BSqOAIKRC"
   },
   "source": [
    "#### Visualizing file structure"
   ]
  },
  {
   "cell_type": "code",
   "execution_count": 4,
   "id": "3a2294f6",
   "metadata": {
    "colab": {
     "base_uri": "https://localhost:8080/"
    },
    "id": "mYsGyS-GIFqj",
    "outputId": "1ba10f82-6cd7-4455-d481-c84d00436ea1"
   },
   "outputs": [
    {
     "name": "stderr",
     "output_type": "stream",
     "text": [
      "'sudo' is not recognized as an internal or external command,\n",
      "operable program or batch file.\n"
     ]
    }
   ],
   "source": [
    "!sudo apt install tree"
   ]
  },
  {
   "cell_type": "code",
   "execution_count": 5,
   "id": "d31655e9",
   "metadata": {
    "colab": {
     "base_uri": "https://localhost:8080/"
    },
    "id": "HUp_nc6oIIKu",
    "outputId": "157b4666-1349-43ce-d838-9baffd944628"
   },
   "outputs": [
    {
     "name": "stdout",
     "output_type": "stream",
     "text": [
      "Folder PATH listing for volume Local Disk\n",
      "Volume serial number is E22F-836C\n",
      "E:\\SCALER-NOTES-GIT\\DSML-NOTES\\M-15 ML-SUPERVISED ALGORITHMS\\07 ML BOOSTING -2\\EMG PHYSICAL ACTION DATA SET\\SUB1\n",
      "Invalid path - \\SCALER-NOTES-GIT\\DSML-NOTES\\M-15 ML-SUPERVISED ALGORITHMS\\07 ML BOOSTING -2\\EMG PHYSICAL ACTION DATA SET\\SUB1\n",
      "No subfolders exist \n",
      "\n"
     ]
    }
   ],
   "source": [
    "!tree \"./EMG Physical Action Data Set/sub1\""
   ]
  },
  {
   "cell_type": "markdown",
   "id": "5b027c34",
   "metadata": {
    "id": "FhJDLHhRIeaV"
   },
   "source": [
    "Here if you see for subject 1 , we have  sub folders\n",
    "- aggressive and\n",
    "- normal\n",
    "\n",
    "These folders mention the aggresive and normal activities respectively with corresponding log and txt files\n",
    "\n",
    "We will use txt files\n",
    "\n",
    "\n",
    "Let's see one of the folder from above"
   ]
  },
  {
   "cell_type": "code",
   "execution_count": 6,
   "id": "fb40cda1",
   "metadata": {
    "colab": {
     "base_uri": "https://localhost:8080/"
    },
    "id": "wIY6jcEXIt_M",
    "outputId": "5476da95-e3e7-4115-8c9a-7392e3d151c9"
   },
   "outputs": [
    {
     "name": "stderr",
     "output_type": "stream",
     "text": [
      "'ls' is not recognized as an internal or external command,\n",
      "operable program or batch file.\n"
     ]
    }
   ],
   "source": [
    "!ls -lrt ./EMG\\ Physical\\ Action\\ Data\\ Set/sub1/Aggressive/txt/"
   ]
  },
  {
   "cell_type": "markdown",
   "id": "82b47b5d",
   "metadata": {
    "id": "uwCS_k9fI28C"
   },
   "source": [
    "#### Reading data"
   ]
  },
  {
   "cell_type": "markdown",
   "id": "8d29167b",
   "metadata": {
    "id": "ajSxpQILI4zx"
   },
   "source": [
    "Now, let's see what is the data in slapping.txt"
   ]
  },
  {
   "cell_type": "code",
   "execution_count": 7,
   "id": "025622c5",
   "metadata": {
    "colab": {
     "base_uri": "https://localhost:8080/"
    },
    "id": "Ead3eBY3I5qZ",
    "outputId": "73b6edc7-3e40-4ea2-84dd-767740a94993"
   },
   "outputs": [
    {
     "name": "stderr",
     "output_type": "stream",
     "text": [
      "'cat' is not recognized as an internal or external command,\n",
      "operable program or batch file.\n"
     ]
    }
   ],
   "source": [
    "!cat ./EMG\\ Physical\\ Action\\ Data\\ Set/sub1/Aggressive/txt/Slapping.txt"
   ]
  },
  {
   "cell_type": "markdown",
   "id": "8819a06a",
   "metadata": {
    "id": "QGH8Mv7DJAOX"
   },
   "source": [
    "**Key observations**\n",
    "\n",
    "* We got eight columns of the data which corresponds to eight electrodes\n",
    "* We are collecting data 10 times per millisecond,\n",
    "- each row gives the data for every 0.1 millisecond"
   ]
  },
  {
   "cell_type": "markdown",
   "id": "282d6d04",
   "metadata": {
    "id": "_Ah8OAda3nED"
   },
   "source": [
    "After this, we perform series of preprocessing on the data"
   ]
  },
  {
   "cell_type": "markdown",
   "id": "6740a4fe",
   "metadata": {
    "id": "jAUZwKcZ3qtm"
   },
   "source": [
    "#### Summary of preprocessing"
   ]
  },
  {
   "cell_type": "markdown",
   "id": "871e417d",
   "metadata": {
    "id": "-g7U4Mnut-nY"
   },
   "source": [
    "**Preprocessing Post Read**\n",
    "\n",
    "link: https://colab.research.google.com/drive/1jRl6U-gGxTvT1FHGzMW-5BDAhQ6ON6om?usp=sharing"
   ]
  },
  {
   "cell_type": "markdown",
   "id": "e8dc81aa",
   "metadata": {
    "id": "ul09_avt3sZi"
   },
   "source": [
    "<center><img src='https://drive.google.com/uc?id=11qjjffTkjFa04E30lGDF9JXODllsFVyQ' width=800></center>\n"
   ]
  },
  {
   "cell_type": "markdown",
   "id": "9e3b2f26",
   "metadata": {
    "id": "tp6fsWYx4Brj"
   },
   "source": [
    "<center><img src='https://drive.google.com/uc?id=1Ls6pX3YMOni2S5HsdIsZT5hLVlZXskgN' width=800></center>\n",
    "\n"
   ]
  },
  {
   "cell_type": "markdown",
   "id": "936f3afd",
   "metadata": {
    "id": "O42M5lW_8sj0"
   },
   "source": [
    "#### Preprocessed Data"
   ]
  },
  {
   "cell_type": "code",
   "execution_count": 8,
   "id": "e901e991",
   "metadata": {
    "colab": {
     "base_uri": "https://localhost:8080/"
    },
    "id": "fgdi_6KY808a",
    "outputId": "383e96f2-effc-454c-bb94-f9a73c29fb46"
   },
   "outputs": [
    {
     "name": "stderr",
     "output_type": "stream",
     "text": [
      "Downloading...\n",
      "From: https://drive.google.com/uc?id=171Yoe_GSapyrmOnD9oBzHWNOD_OnQs0F\n",
      "To: E:\\Scaler-Notes-Git\\DSML-Notes\\M-15 ML-Supervised Algorithms\\07 ML Boosting -2\\Y_test.pickle\n",
      "\n",
      "  0%|          | 0.00/31.7k [00:00<?, ?B/s]\n",
      "100%|##########| 31.7k/31.7k [00:00<00:00, 1.09MB/s]\n",
      "Downloading...\n",
      "From: https://drive.google.com/uc?id=1hnIlTPW3AMeB69EbeaXCRIrpMVT1Vwmc\n",
      "To: E:\\Scaler-Notes-Git\\DSML-Notes\\M-15 ML-Supervised Algorithms\\07 ML Boosting -2\\X_test.pickle\n",
      "\n",
      "  0%|          | 0.00/253k [00:00<?, ?B/s]\n",
      "100%|##########| 253k/253k [00:00<00:00, 1.98MB/s]\n",
      "100%|##########| 253k/253k [00:00<00:00, 1.98MB/s]\n",
      "Downloading...\n",
      "From: https://drive.google.com/uc?id=1nZtB_RtxMg_MgoRczb8UWQX-AEK_l3qE\n",
      "To: E:\\Scaler-Notes-Git\\DSML-Notes\\M-15 ML-Supervised Algorithms\\07 ML Boosting -2\\Y_train.pickle\n",
      "\n",
      "  0%|          | 0.00/126k [00:00<?, ?B/s]\n",
      "100%|##########| 126k/126k [00:00<00:00, 1.21MB/s]\n",
      "100%|##########| 126k/126k [00:00<00:00, 1.20MB/s]\n",
      "Downloading...\n",
      "From: https://drive.google.com/uc?id=1zLDUErwKdmF-RacOyHEuI_z_46LssQtP\n",
      "To: E:\\Scaler-Notes-Git\\DSML-Notes\\M-15 ML-Supervised Algorithms\\07 ML Boosting -2\\X_train.pickle\n",
      "\n",
      "  0%|          | 0.00/1.01M [00:00<?, ?B/s]\n",
      " 52%|#####1    | 524k/1.01M [00:00<00:00, 2.77MB/s]\n",
      "100%|##########| 1.01M/1.01M [00:00<00:00, 3.67MB/s]\n"
     ]
    }
   ],
   "source": [
    "\n",
    "!gdown 171Yoe_GSapyrmOnD9oBzHWNOD_OnQs0F\n",
    "!gdown 1hnIlTPW3AMeB69EbeaXCRIrpMVT1Vwmc\n",
    "!gdown 1nZtB_RtxMg_MgoRczb8UWQX-AEK_l3qE\n",
    "!gdown 1zLDUErwKdmF-RacOyHEuI_z_46LssQtP\n",
    "\n",
    "\n",
    "with open('X_train.pickle', 'rb') as handle:\n",
    "    X_train = pd.read_pickle(handle)\n",
    "\n",
    "with open('X_test.pickle', 'rb') as handle:\n",
    "    X_test = pd.read_pickle(handle)\n",
    "\n",
    "with open('Y_train.pickle', 'rb') as handle:\n",
    "    y_train = pd.read_pickle(handle)\n",
    "\n",
    "with open('Y_test.pickle', 'rb') as handle:\n",
    "    y_test = pd.read_pickle(handle)"
   ]
  },
  {
   "cell_type": "markdown",
   "id": "57d8e84c",
   "metadata": {
    "id": "UB24Jav85oik"
   },
   "source": [
    "### Modeling"
   ]
  },
  {
   "cell_type": "markdown",
   "id": "0feb7ec5",
   "metadata": {
    "id": "_r40YqMW5tGO"
   },
   "source": [
    "#### Decision Tree"
   ]
  },
  {
   "cell_type": "code",
   "execution_count": 9,
   "id": "fd3fa72e",
   "metadata": {
    "colab": {
     "base_uri": "https://localhost:8080/",
     "height": 118
    },
    "id": "fNWmduFd-sGY",
    "outputId": "16df93bc-68c0-4220-95f1-08074535fb1d"
   },
   "outputs": [
    {
     "data": {
      "text/html": [
       "<style>#sk-container-id-1 {\n",
       "  /* Definition of color scheme common for light and dark mode */\n",
       "  --sklearn-color-text: black;\n",
       "  --sklearn-color-line: gray;\n",
       "  /* Definition of color scheme for unfitted estimators */\n",
       "  --sklearn-color-unfitted-level-0: #fff5e6;\n",
       "  --sklearn-color-unfitted-level-1: #f6e4d2;\n",
       "  --sklearn-color-unfitted-level-2: #ffe0b3;\n",
       "  --sklearn-color-unfitted-level-3: chocolate;\n",
       "  /* Definition of color scheme for fitted estimators */\n",
       "  --sklearn-color-fitted-level-0: #f0f8ff;\n",
       "  --sklearn-color-fitted-level-1: #d4ebff;\n",
       "  --sklearn-color-fitted-level-2: #b3dbfd;\n",
       "  --sklearn-color-fitted-level-3: cornflowerblue;\n",
       "\n",
       "  /* Specific color for light theme */\n",
       "  --sklearn-color-text-on-default-background: var(--sg-text-color, var(--theme-code-foreground, var(--jp-content-font-color1, black)));\n",
       "  --sklearn-color-background: var(--sg-background-color, var(--theme-background, var(--jp-layout-color0, white)));\n",
       "  --sklearn-color-border-box: var(--sg-text-color, var(--theme-code-foreground, var(--jp-content-font-color1, black)));\n",
       "  --sklearn-color-icon: #696969;\n",
       "\n",
       "  @media (prefers-color-scheme: dark) {\n",
       "    /* Redefinition of color scheme for dark theme */\n",
       "    --sklearn-color-text-on-default-background: var(--sg-text-color, var(--theme-code-foreground, var(--jp-content-font-color1, white)));\n",
       "    --sklearn-color-background: var(--sg-background-color, var(--theme-background, var(--jp-layout-color0, #111)));\n",
       "    --sklearn-color-border-box: var(--sg-text-color, var(--theme-code-foreground, var(--jp-content-font-color1, white)));\n",
       "    --sklearn-color-icon: #878787;\n",
       "  }\n",
       "}\n",
       "\n",
       "#sk-container-id-1 {\n",
       "  color: var(--sklearn-color-text);\n",
       "}\n",
       "\n",
       "#sk-container-id-1 pre {\n",
       "  padding: 0;\n",
       "}\n",
       "\n",
       "#sk-container-id-1 input.sk-hidden--visually {\n",
       "  border: 0;\n",
       "  clip: rect(1px 1px 1px 1px);\n",
       "  clip: rect(1px, 1px, 1px, 1px);\n",
       "  height: 1px;\n",
       "  margin: -1px;\n",
       "  overflow: hidden;\n",
       "  padding: 0;\n",
       "  position: absolute;\n",
       "  width: 1px;\n",
       "}\n",
       "\n",
       "#sk-container-id-1 div.sk-dashed-wrapped {\n",
       "  border: 1px dashed var(--sklearn-color-line);\n",
       "  margin: 0 0.4em 0.5em 0.4em;\n",
       "  box-sizing: border-box;\n",
       "  padding-bottom: 0.4em;\n",
       "  background-color: var(--sklearn-color-background);\n",
       "}\n",
       "\n",
       "#sk-container-id-1 div.sk-container {\n",
       "  /* jupyter's `normalize.less` sets `[hidden] { display: none; }`\n",
       "     but bootstrap.min.css set `[hidden] { display: none !important; }`\n",
       "     so we also need the `!important` here to be able to override the\n",
       "     default hidden behavior on the sphinx rendered scikit-learn.org.\n",
       "     See: https://github.com/scikit-learn/scikit-learn/issues/21755 */\n",
       "  display: inline-block !important;\n",
       "  position: relative;\n",
       "}\n",
       "\n",
       "#sk-container-id-1 div.sk-text-repr-fallback {\n",
       "  display: none;\n",
       "}\n",
       "\n",
       "div.sk-parallel-item,\n",
       "div.sk-serial,\n",
       "div.sk-item {\n",
       "  /* draw centered vertical line to link estimators */\n",
       "  background-image: linear-gradient(var(--sklearn-color-text-on-default-background), var(--sklearn-color-text-on-default-background));\n",
       "  background-size: 2px 100%;\n",
       "  background-repeat: no-repeat;\n",
       "  background-position: center center;\n",
       "}\n",
       "\n",
       "/* Parallel-specific style estimator block */\n",
       "\n",
       "#sk-container-id-1 div.sk-parallel-item::after {\n",
       "  content: \"\";\n",
       "  width: 100%;\n",
       "  border-bottom: 2px solid var(--sklearn-color-text-on-default-background);\n",
       "  flex-grow: 1;\n",
       "}\n",
       "\n",
       "#sk-container-id-1 div.sk-parallel {\n",
       "  display: flex;\n",
       "  align-items: stretch;\n",
       "  justify-content: center;\n",
       "  background-color: var(--sklearn-color-background);\n",
       "  position: relative;\n",
       "}\n",
       "\n",
       "#sk-container-id-1 div.sk-parallel-item {\n",
       "  display: flex;\n",
       "  flex-direction: column;\n",
       "}\n",
       "\n",
       "#sk-container-id-1 div.sk-parallel-item:first-child::after {\n",
       "  align-self: flex-end;\n",
       "  width: 50%;\n",
       "}\n",
       "\n",
       "#sk-container-id-1 div.sk-parallel-item:last-child::after {\n",
       "  align-self: flex-start;\n",
       "  width: 50%;\n",
       "}\n",
       "\n",
       "#sk-container-id-1 div.sk-parallel-item:only-child::after {\n",
       "  width: 0;\n",
       "}\n",
       "\n",
       "/* Serial-specific style estimator block */\n",
       "\n",
       "#sk-container-id-1 div.sk-serial {\n",
       "  display: flex;\n",
       "  flex-direction: column;\n",
       "  align-items: center;\n",
       "  background-color: var(--sklearn-color-background);\n",
       "  padding-right: 1em;\n",
       "  padding-left: 1em;\n",
       "}\n",
       "\n",
       "\n",
       "/* Toggleable style: style used for estimator/Pipeline/ColumnTransformer box that is\n",
       "clickable and can be expanded/collapsed.\n",
       "- Pipeline and ColumnTransformer use this feature and define the default style\n",
       "- Estimators will overwrite some part of the style using the `sk-estimator` class\n",
       "*/\n",
       "\n",
       "/* Pipeline and ColumnTransformer style (default) */\n",
       "\n",
       "#sk-container-id-1 div.sk-toggleable {\n",
       "  /* Default theme specific background. It is overwritten whether we have a\n",
       "  specific estimator or a Pipeline/ColumnTransformer */\n",
       "  background-color: var(--sklearn-color-background);\n",
       "}\n",
       "\n",
       "/* Toggleable label */\n",
       "#sk-container-id-1 label.sk-toggleable__label {\n",
       "  cursor: pointer;\n",
       "  display: block;\n",
       "  width: 100%;\n",
       "  margin-bottom: 0;\n",
       "  padding: 0.5em;\n",
       "  box-sizing: border-box;\n",
       "  text-align: center;\n",
       "}\n",
       "\n",
       "#sk-container-id-1 label.sk-toggleable__label-arrow:before {\n",
       "  /* Arrow on the left of the label */\n",
       "  content: \"▸\";\n",
       "  float: left;\n",
       "  margin-right: 0.25em;\n",
       "  color: var(--sklearn-color-icon);\n",
       "}\n",
       "\n",
       "#sk-container-id-1 label.sk-toggleable__label-arrow:hover:before {\n",
       "  color: var(--sklearn-color-text);\n",
       "}\n",
       "\n",
       "/* Toggleable content - dropdown */\n",
       "\n",
       "#sk-container-id-1 div.sk-toggleable__content {\n",
       "  max-height: 0;\n",
       "  max-width: 0;\n",
       "  overflow: hidden;\n",
       "  text-align: left;\n",
       "  /* unfitted */\n",
       "  background-color: var(--sklearn-color-unfitted-level-0);\n",
       "}\n",
       "\n",
       "#sk-container-id-1 div.sk-toggleable__content.fitted {\n",
       "  /* fitted */\n",
       "  background-color: var(--sklearn-color-fitted-level-0);\n",
       "}\n",
       "\n",
       "#sk-container-id-1 div.sk-toggleable__content pre {\n",
       "  margin: 0.2em;\n",
       "  border-radius: 0.25em;\n",
       "  color: var(--sklearn-color-text);\n",
       "  /* unfitted */\n",
       "  background-color: var(--sklearn-color-unfitted-level-0);\n",
       "}\n",
       "\n",
       "#sk-container-id-1 div.sk-toggleable__content.fitted pre {\n",
       "  /* unfitted */\n",
       "  background-color: var(--sklearn-color-fitted-level-0);\n",
       "}\n",
       "\n",
       "#sk-container-id-1 input.sk-toggleable__control:checked~div.sk-toggleable__content {\n",
       "  /* Expand drop-down */\n",
       "  max-height: 200px;\n",
       "  max-width: 100%;\n",
       "  overflow: auto;\n",
       "}\n",
       "\n",
       "#sk-container-id-1 input.sk-toggleable__control:checked~label.sk-toggleable__label-arrow:before {\n",
       "  content: \"▾\";\n",
       "}\n",
       "\n",
       "/* Pipeline/ColumnTransformer-specific style */\n",
       "\n",
       "#sk-container-id-1 div.sk-label input.sk-toggleable__control:checked~label.sk-toggleable__label {\n",
       "  color: var(--sklearn-color-text);\n",
       "  background-color: var(--sklearn-color-unfitted-level-2);\n",
       "}\n",
       "\n",
       "#sk-container-id-1 div.sk-label.fitted input.sk-toggleable__control:checked~label.sk-toggleable__label {\n",
       "  background-color: var(--sklearn-color-fitted-level-2);\n",
       "}\n",
       "\n",
       "/* Estimator-specific style */\n",
       "\n",
       "/* Colorize estimator box */\n",
       "#sk-container-id-1 div.sk-estimator input.sk-toggleable__control:checked~label.sk-toggleable__label {\n",
       "  /* unfitted */\n",
       "  background-color: var(--sklearn-color-unfitted-level-2);\n",
       "}\n",
       "\n",
       "#sk-container-id-1 div.sk-estimator.fitted input.sk-toggleable__control:checked~label.sk-toggleable__label {\n",
       "  /* fitted */\n",
       "  background-color: var(--sklearn-color-fitted-level-2);\n",
       "}\n",
       "\n",
       "#sk-container-id-1 div.sk-label label.sk-toggleable__label,\n",
       "#sk-container-id-1 div.sk-label label {\n",
       "  /* The background is the default theme color */\n",
       "  color: var(--sklearn-color-text-on-default-background);\n",
       "}\n",
       "\n",
       "/* On hover, darken the color of the background */\n",
       "#sk-container-id-1 div.sk-label:hover label.sk-toggleable__label {\n",
       "  color: var(--sklearn-color-text);\n",
       "  background-color: var(--sklearn-color-unfitted-level-2);\n",
       "}\n",
       "\n",
       "/* Label box, darken color on hover, fitted */\n",
       "#sk-container-id-1 div.sk-label.fitted:hover label.sk-toggleable__label.fitted {\n",
       "  color: var(--sklearn-color-text);\n",
       "  background-color: var(--sklearn-color-fitted-level-2);\n",
       "}\n",
       "\n",
       "/* Estimator label */\n",
       "\n",
       "#sk-container-id-1 div.sk-label label {\n",
       "  font-family: monospace;\n",
       "  font-weight: bold;\n",
       "  display: inline-block;\n",
       "  line-height: 1.2em;\n",
       "}\n",
       "\n",
       "#sk-container-id-1 div.sk-label-container {\n",
       "  text-align: center;\n",
       "}\n",
       "\n",
       "/* Estimator-specific */\n",
       "#sk-container-id-1 div.sk-estimator {\n",
       "  font-family: monospace;\n",
       "  border: 1px dotted var(--sklearn-color-border-box);\n",
       "  border-radius: 0.25em;\n",
       "  box-sizing: border-box;\n",
       "  margin-bottom: 0.5em;\n",
       "  /* unfitted */\n",
       "  background-color: var(--sklearn-color-unfitted-level-0);\n",
       "}\n",
       "\n",
       "#sk-container-id-1 div.sk-estimator.fitted {\n",
       "  /* fitted */\n",
       "  background-color: var(--sklearn-color-fitted-level-0);\n",
       "}\n",
       "\n",
       "/* on hover */\n",
       "#sk-container-id-1 div.sk-estimator:hover {\n",
       "  /* unfitted */\n",
       "  background-color: var(--sklearn-color-unfitted-level-2);\n",
       "}\n",
       "\n",
       "#sk-container-id-1 div.sk-estimator.fitted:hover {\n",
       "  /* fitted */\n",
       "  background-color: var(--sklearn-color-fitted-level-2);\n",
       "}\n",
       "\n",
       "/* Specification for estimator info (e.g. \"i\" and \"?\") */\n",
       "\n",
       "/* Common style for \"i\" and \"?\" */\n",
       "\n",
       ".sk-estimator-doc-link,\n",
       "a:link.sk-estimator-doc-link,\n",
       "a:visited.sk-estimator-doc-link {\n",
       "  float: right;\n",
       "  font-size: smaller;\n",
       "  line-height: 1em;\n",
       "  font-family: monospace;\n",
       "  background-color: var(--sklearn-color-background);\n",
       "  border-radius: 1em;\n",
       "  height: 1em;\n",
       "  width: 1em;\n",
       "  text-decoration: none !important;\n",
       "  margin-left: 1ex;\n",
       "  /* unfitted */\n",
       "  border: var(--sklearn-color-unfitted-level-1) 1pt solid;\n",
       "  color: var(--sklearn-color-unfitted-level-1);\n",
       "}\n",
       "\n",
       ".sk-estimator-doc-link.fitted,\n",
       "a:link.sk-estimator-doc-link.fitted,\n",
       "a:visited.sk-estimator-doc-link.fitted {\n",
       "  /* fitted */\n",
       "  border: var(--sklearn-color-fitted-level-1) 1pt solid;\n",
       "  color: var(--sklearn-color-fitted-level-1);\n",
       "}\n",
       "\n",
       "/* On hover */\n",
       "div.sk-estimator:hover .sk-estimator-doc-link:hover,\n",
       ".sk-estimator-doc-link:hover,\n",
       "div.sk-label-container:hover .sk-estimator-doc-link:hover,\n",
       ".sk-estimator-doc-link:hover {\n",
       "  /* unfitted */\n",
       "  background-color: var(--sklearn-color-unfitted-level-3);\n",
       "  color: var(--sklearn-color-background);\n",
       "  text-decoration: none;\n",
       "}\n",
       "\n",
       "div.sk-estimator.fitted:hover .sk-estimator-doc-link.fitted:hover,\n",
       ".sk-estimator-doc-link.fitted:hover,\n",
       "div.sk-label-container:hover .sk-estimator-doc-link.fitted:hover,\n",
       ".sk-estimator-doc-link.fitted:hover {\n",
       "  /* fitted */\n",
       "  background-color: var(--sklearn-color-fitted-level-3);\n",
       "  color: var(--sklearn-color-background);\n",
       "  text-decoration: none;\n",
       "}\n",
       "\n",
       "/* Span, style for the box shown on hovering the info icon */\n",
       ".sk-estimator-doc-link span {\n",
       "  display: none;\n",
       "  z-index: 9999;\n",
       "  position: relative;\n",
       "  font-weight: normal;\n",
       "  right: .2ex;\n",
       "  padding: .5ex;\n",
       "  margin: .5ex;\n",
       "  width: min-content;\n",
       "  min-width: 20ex;\n",
       "  max-width: 50ex;\n",
       "  color: var(--sklearn-color-text);\n",
       "  box-shadow: 2pt 2pt 4pt #999;\n",
       "  /* unfitted */\n",
       "  background: var(--sklearn-color-unfitted-level-0);\n",
       "  border: .5pt solid var(--sklearn-color-unfitted-level-3);\n",
       "}\n",
       "\n",
       ".sk-estimator-doc-link.fitted span {\n",
       "  /* fitted */\n",
       "  background: var(--sklearn-color-fitted-level-0);\n",
       "  border: var(--sklearn-color-fitted-level-3);\n",
       "}\n",
       "\n",
       ".sk-estimator-doc-link:hover span {\n",
       "  display: block;\n",
       "}\n",
       "\n",
       "/* \"?\"-specific style due to the `<a>` HTML tag */\n",
       "\n",
       "#sk-container-id-1 a.estimator_doc_link {\n",
       "  float: right;\n",
       "  font-size: 1rem;\n",
       "  line-height: 1em;\n",
       "  font-family: monospace;\n",
       "  background-color: var(--sklearn-color-background);\n",
       "  border-radius: 1rem;\n",
       "  height: 1rem;\n",
       "  width: 1rem;\n",
       "  text-decoration: none;\n",
       "  /* unfitted */\n",
       "  color: var(--sklearn-color-unfitted-level-1);\n",
       "  border: var(--sklearn-color-unfitted-level-1) 1pt solid;\n",
       "}\n",
       "\n",
       "#sk-container-id-1 a.estimator_doc_link.fitted {\n",
       "  /* fitted */\n",
       "  border: var(--sklearn-color-fitted-level-1) 1pt solid;\n",
       "  color: var(--sklearn-color-fitted-level-1);\n",
       "}\n",
       "\n",
       "/* On hover */\n",
       "#sk-container-id-1 a.estimator_doc_link:hover {\n",
       "  /* unfitted */\n",
       "  background-color: var(--sklearn-color-unfitted-level-3);\n",
       "  color: var(--sklearn-color-background);\n",
       "  text-decoration: none;\n",
       "}\n",
       "\n",
       "#sk-container-id-1 a.estimator_doc_link.fitted:hover {\n",
       "  /* fitted */\n",
       "  background-color: var(--sklearn-color-fitted-level-3);\n",
       "}\n",
       "</style><div id=\"sk-container-id-1\" class=\"sk-top-container\"><div class=\"sk-text-repr-fallback\"><pre>GridSearchCV(cv=5, estimator=DecisionTreeClassifier(),\n",
       "             param_grid={&#x27;max_depth&#x27;: [3, 5, 7, 10, 15],\n",
       "                         &#x27;max_leaf_nodes&#x27;: [20, 40, 60]},\n",
       "             scoring=&#x27;accuracy&#x27;)</pre><b>In a Jupyter environment, please rerun this cell to show the HTML representation or trust the notebook. <br />On GitHub, the HTML representation is unable to render, please try loading this page with nbviewer.org.</b></div><div class=\"sk-container\" hidden><div class=\"sk-item sk-dashed-wrapped\"><div class=\"sk-label-container\"><div class=\"sk-label fitted sk-toggleable\"><input class=\"sk-toggleable__control sk-hidden--visually\" id=\"sk-estimator-id-1\" type=\"checkbox\" ><label for=\"sk-estimator-id-1\" class=\"sk-toggleable__label fitted sk-toggleable__label-arrow fitted\">&nbsp;&nbsp;GridSearchCV<a class=\"sk-estimator-doc-link fitted\" rel=\"noreferrer\" target=\"_blank\" href=\"https://scikit-learn.org/1.4/modules/generated/sklearn.model_selection.GridSearchCV.html\">?<span>Documentation for GridSearchCV</span></a><span class=\"sk-estimator-doc-link fitted\">i<span>Fitted</span></span></label><div class=\"sk-toggleable__content fitted\"><pre>GridSearchCV(cv=5, estimator=DecisionTreeClassifier(),\n",
       "             param_grid={&#x27;max_depth&#x27;: [3, 5, 7, 10, 15],\n",
       "                         &#x27;max_leaf_nodes&#x27;: [20, 40, 60]},\n",
       "             scoring=&#x27;accuracy&#x27;)</pre></div> </div></div><div class=\"sk-parallel\"><div class=\"sk-parallel-item\"><div class=\"sk-item\"><div class=\"sk-label-container\"><div class=\"sk-label fitted sk-toggleable\"><input class=\"sk-toggleable__control sk-hidden--visually\" id=\"sk-estimator-id-2\" type=\"checkbox\" ><label for=\"sk-estimator-id-2\" class=\"sk-toggleable__label fitted sk-toggleable__label-arrow fitted\">estimator: DecisionTreeClassifier</label><div class=\"sk-toggleable__content fitted\"><pre>DecisionTreeClassifier()</pre></div> </div></div><div class=\"sk-serial\"><div class=\"sk-item\"><div class=\"sk-estimator fitted sk-toggleable\"><input class=\"sk-toggleable__control sk-hidden--visually\" id=\"sk-estimator-id-3\" type=\"checkbox\" ><label for=\"sk-estimator-id-3\" class=\"sk-toggleable__label fitted sk-toggleable__label-arrow fitted\">&nbsp;DecisionTreeClassifier<a class=\"sk-estimator-doc-link fitted\" rel=\"noreferrer\" target=\"_blank\" href=\"https://scikit-learn.org/1.4/modules/generated/sklearn.tree.DecisionTreeClassifier.html\">?<span>Documentation for DecisionTreeClassifier</span></a></label><div class=\"sk-toggleable__content fitted\"><pre>DecisionTreeClassifier()</pre></div> </div></div></div></div></div></div></div></div></div>"
      ],
      "text/plain": [
       "GridSearchCV(cv=5, estimator=DecisionTreeClassifier(),\n",
       "             param_grid={'max_depth': [3, 5, 7, 10, 15],\n",
       "                         'max_leaf_nodes': [20, 40, 60]},\n",
       "             scoring='accuracy')"
      ]
     },
     "execution_count": 9,
     "metadata": {},
     "output_type": "execute_result"
    }
   ],
   "source": [
    "from sklearn.tree import DecisionTreeClassifier as DTC\n",
    "from sklearn import tree\n",
    "from sklearn.model_selection import GridSearchCV\n",
    "\n",
    "params = {\n",
    "    \"max_depth\" : [3, 5, 7, 10, 15],\n",
    "    \"max_leaf_nodes\" : [20, 40, 60]\n",
    "}\n",
    "\n",
    "model1 = DTC()\n",
    "clf = GridSearchCV(model1, params, scoring = \"accuracy\", cv=5)\n",
    "\n",
    "clf.fit(X_train, y_train)"
   ]
  },
  {
   "cell_type": "markdown",
   "id": "19b5f70e",
   "metadata": {
    "id": "5E1_pCLwFyqR"
   },
   "source": [
    "Lets see the results of our GridSearch"
   ]
  },
  {
   "cell_type": "code",
   "execution_count": 10,
   "id": "f645c67e",
   "metadata": {
    "colab": {
     "base_uri": "https://localhost:8080/"
    },
    "id": "3_3k0LmcFwSz",
    "outputId": "1c28310a-eafb-42b5-c8f2-b2153317da89"
   },
   "outputs": [
    {
     "name": "stdout",
     "output_type": "stream",
     "text": [
      "Parameters:{'max_depth': 3, 'max_leaf_nodes': 20} Mean_score: 0.34208509132931136 Rank: 13\n",
      "Parameters:{'max_depth': 3, 'max_leaf_nodes': 40} Mean_score: 0.34208509132931136 Rank: 13\n",
      "Parameters:{'max_depth': 3, 'max_leaf_nodes': 60} Mean_score: 0.34208509132931136 Rank: 13\n",
      "Parameters:{'max_depth': 5, 'max_leaf_nodes': 20} Mean_score: 0.4464730372237611 Rank: 12\n",
      "Parameters:{'max_depth': 5, 'max_leaf_nodes': 40} Mean_score: 0.4465364085416733 Rank: 11\n",
      "Parameters:{'max_depth': 5, 'max_leaf_nodes': 60} Mean_score: 0.4467266833873628 Rank: 10\n",
      "Parameters:{'max_depth': 7, 'max_leaf_nodes': 20} Mean_score: 0.6326735757693501 Rank: 9\n",
      "Parameters:{'max_depth': 7, 'max_leaf_nodes': 40} Mean_score: 0.6350201849010544 Rank: 7\n",
      "Parameters:{'max_depth': 7, 'max_leaf_nodes': 60} Mean_score: 0.6350201245665722 Rank: 8\n",
      "Parameters:{'max_depth': 10, 'max_leaf_nodes': 20} Mean_score: 0.6976794754761447 Rank: 5\n",
      "Parameters:{'max_depth': 10, 'max_leaf_nodes': 40} Mean_score: 0.773402086487067 Rank: 4\n",
      "Parameters:{'max_depth': 10, 'max_leaf_nodes': 60} Mean_score: 0.7898275258377392 Rank: 2\n",
      "Parameters:{'max_depth': 15, 'max_leaf_nodes': 20} Mean_score: 0.6976794754761447 Rank: 5\n",
      "Parameters:{'max_depth': 15, 'max_leaf_nodes': 40} Mean_score: 0.7794904390962618 Rank: 3\n",
      "Parameters:{'max_depth': 15, 'max_leaf_nodes': 60} Mean_score: 0.8032091106677196 Rank: 1\n"
     ]
    }
   ],
   "source": [
    "res = clf.cv_results_\n",
    "\n",
    "for i in range(len(res[\"params\"])):\n",
    "  print(f\"Parameters:{res['params'][i]} Mean_score: {res['mean_test_score'][i]} Rank: {res['rank_test_score'][i]}\")\n"
   ]
  },
  {
   "cell_type": "markdown",
   "id": "7176681e",
   "metadata": {
    "id": "eq9Ce7xaF3bK"
   },
   "source": [
    "#### So whats the best estimator and score ?"
   ]
  },
  {
   "cell_type": "code",
   "execution_count": 11,
   "id": "55498298",
   "metadata": {
    "colab": {
     "base_uri": "https://localhost:8080/"
    },
    "id": "gSG1z8iwENja",
    "outputId": "1f0b5ca8-845f-430b-9c5f-209d65bfaf2f"
   },
   "outputs": [
    {
     "name": "stdout",
     "output_type": "stream",
     "text": [
      "DecisionTreeClassifier(max_depth=15, max_leaf_nodes=60)\n"
     ]
    }
   ],
   "source": [
    "print(clf.best_estimator_)\n"
   ]
  },
  {
   "cell_type": "code",
   "execution_count": 12,
   "id": "67f22669",
   "metadata": {
    "id": "fbv599xA5zhy"
   },
   "outputs": [],
   "source": [
    "clf = DTC(**clf.best_params_)"
   ]
  },
  {
   "cell_type": "code",
   "execution_count": 13,
   "id": "9bbfa410",
   "metadata": {
    "colab": {
     "base_uri": "https://localhost:8080/",
     "height": 75
    },
    "id": "PjC8swnb58ih",
    "outputId": "be48e5fa-0de9-4134-d384-674ba9673406"
   },
   "outputs": [
    {
     "data": {
      "text/html": [
       "<style>#sk-container-id-2 {\n",
       "  /* Definition of color scheme common for light and dark mode */\n",
       "  --sklearn-color-text: black;\n",
       "  --sklearn-color-line: gray;\n",
       "  /* Definition of color scheme for unfitted estimators */\n",
       "  --sklearn-color-unfitted-level-0: #fff5e6;\n",
       "  --sklearn-color-unfitted-level-1: #f6e4d2;\n",
       "  --sklearn-color-unfitted-level-2: #ffe0b3;\n",
       "  --sklearn-color-unfitted-level-3: chocolate;\n",
       "  /* Definition of color scheme for fitted estimators */\n",
       "  --sklearn-color-fitted-level-0: #f0f8ff;\n",
       "  --sklearn-color-fitted-level-1: #d4ebff;\n",
       "  --sklearn-color-fitted-level-2: #b3dbfd;\n",
       "  --sklearn-color-fitted-level-3: cornflowerblue;\n",
       "\n",
       "  /* Specific color for light theme */\n",
       "  --sklearn-color-text-on-default-background: var(--sg-text-color, var(--theme-code-foreground, var(--jp-content-font-color1, black)));\n",
       "  --sklearn-color-background: var(--sg-background-color, var(--theme-background, var(--jp-layout-color0, white)));\n",
       "  --sklearn-color-border-box: var(--sg-text-color, var(--theme-code-foreground, var(--jp-content-font-color1, black)));\n",
       "  --sklearn-color-icon: #696969;\n",
       "\n",
       "  @media (prefers-color-scheme: dark) {\n",
       "    /* Redefinition of color scheme for dark theme */\n",
       "    --sklearn-color-text-on-default-background: var(--sg-text-color, var(--theme-code-foreground, var(--jp-content-font-color1, white)));\n",
       "    --sklearn-color-background: var(--sg-background-color, var(--theme-background, var(--jp-layout-color0, #111)));\n",
       "    --sklearn-color-border-box: var(--sg-text-color, var(--theme-code-foreground, var(--jp-content-font-color1, white)));\n",
       "    --sklearn-color-icon: #878787;\n",
       "  }\n",
       "}\n",
       "\n",
       "#sk-container-id-2 {\n",
       "  color: var(--sklearn-color-text);\n",
       "}\n",
       "\n",
       "#sk-container-id-2 pre {\n",
       "  padding: 0;\n",
       "}\n",
       "\n",
       "#sk-container-id-2 input.sk-hidden--visually {\n",
       "  border: 0;\n",
       "  clip: rect(1px 1px 1px 1px);\n",
       "  clip: rect(1px, 1px, 1px, 1px);\n",
       "  height: 1px;\n",
       "  margin: -1px;\n",
       "  overflow: hidden;\n",
       "  padding: 0;\n",
       "  position: absolute;\n",
       "  width: 1px;\n",
       "}\n",
       "\n",
       "#sk-container-id-2 div.sk-dashed-wrapped {\n",
       "  border: 1px dashed var(--sklearn-color-line);\n",
       "  margin: 0 0.4em 0.5em 0.4em;\n",
       "  box-sizing: border-box;\n",
       "  padding-bottom: 0.4em;\n",
       "  background-color: var(--sklearn-color-background);\n",
       "}\n",
       "\n",
       "#sk-container-id-2 div.sk-container {\n",
       "  /* jupyter's `normalize.less` sets `[hidden] { display: none; }`\n",
       "     but bootstrap.min.css set `[hidden] { display: none !important; }`\n",
       "     so we also need the `!important` here to be able to override the\n",
       "     default hidden behavior on the sphinx rendered scikit-learn.org.\n",
       "     See: https://github.com/scikit-learn/scikit-learn/issues/21755 */\n",
       "  display: inline-block !important;\n",
       "  position: relative;\n",
       "}\n",
       "\n",
       "#sk-container-id-2 div.sk-text-repr-fallback {\n",
       "  display: none;\n",
       "}\n",
       "\n",
       "div.sk-parallel-item,\n",
       "div.sk-serial,\n",
       "div.sk-item {\n",
       "  /* draw centered vertical line to link estimators */\n",
       "  background-image: linear-gradient(var(--sklearn-color-text-on-default-background), var(--sklearn-color-text-on-default-background));\n",
       "  background-size: 2px 100%;\n",
       "  background-repeat: no-repeat;\n",
       "  background-position: center center;\n",
       "}\n",
       "\n",
       "/* Parallel-specific style estimator block */\n",
       "\n",
       "#sk-container-id-2 div.sk-parallel-item::after {\n",
       "  content: \"\";\n",
       "  width: 100%;\n",
       "  border-bottom: 2px solid var(--sklearn-color-text-on-default-background);\n",
       "  flex-grow: 1;\n",
       "}\n",
       "\n",
       "#sk-container-id-2 div.sk-parallel {\n",
       "  display: flex;\n",
       "  align-items: stretch;\n",
       "  justify-content: center;\n",
       "  background-color: var(--sklearn-color-background);\n",
       "  position: relative;\n",
       "}\n",
       "\n",
       "#sk-container-id-2 div.sk-parallel-item {\n",
       "  display: flex;\n",
       "  flex-direction: column;\n",
       "}\n",
       "\n",
       "#sk-container-id-2 div.sk-parallel-item:first-child::after {\n",
       "  align-self: flex-end;\n",
       "  width: 50%;\n",
       "}\n",
       "\n",
       "#sk-container-id-2 div.sk-parallel-item:last-child::after {\n",
       "  align-self: flex-start;\n",
       "  width: 50%;\n",
       "}\n",
       "\n",
       "#sk-container-id-2 div.sk-parallel-item:only-child::after {\n",
       "  width: 0;\n",
       "}\n",
       "\n",
       "/* Serial-specific style estimator block */\n",
       "\n",
       "#sk-container-id-2 div.sk-serial {\n",
       "  display: flex;\n",
       "  flex-direction: column;\n",
       "  align-items: center;\n",
       "  background-color: var(--sklearn-color-background);\n",
       "  padding-right: 1em;\n",
       "  padding-left: 1em;\n",
       "}\n",
       "\n",
       "\n",
       "/* Toggleable style: style used for estimator/Pipeline/ColumnTransformer box that is\n",
       "clickable and can be expanded/collapsed.\n",
       "- Pipeline and ColumnTransformer use this feature and define the default style\n",
       "- Estimators will overwrite some part of the style using the `sk-estimator` class\n",
       "*/\n",
       "\n",
       "/* Pipeline and ColumnTransformer style (default) */\n",
       "\n",
       "#sk-container-id-2 div.sk-toggleable {\n",
       "  /* Default theme specific background. It is overwritten whether we have a\n",
       "  specific estimator or a Pipeline/ColumnTransformer */\n",
       "  background-color: var(--sklearn-color-background);\n",
       "}\n",
       "\n",
       "/* Toggleable label */\n",
       "#sk-container-id-2 label.sk-toggleable__label {\n",
       "  cursor: pointer;\n",
       "  display: block;\n",
       "  width: 100%;\n",
       "  margin-bottom: 0;\n",
       "  padding: 0.5em;\n",
       "  box-sizing: border-box;\n",
       "  text-align: center;\n",
       "}\n",
       "\n",
       "#sk-container-id-2 label.sk-toggleable__label-arrow:before {\n",
       "  /* Arrow on the left of the label */\n",
       "  content: \"▸\";\n",
       "  float: left;\n",
       "  margin-right: 0.25em;\n",
       "  color: var(--sklearn-color-icon);\n",
       "}\n",
       "\n",
       "#sk-container-id-2 label.sk-toggleable__label-arrow:hover:before {\n",
       "  color: var(--sklearn-color-text);\n",
       "}\n",
       "\n",
       "/* Toggleable content - dropdown */\n",
       "\n",
       "#sk-container-id-2 div.sk-toggleable__content {\n",
       "  max-height: 0;\n",
       "  max-width: 0;\n",
       "  overflow: hidden;\n",
       "  text-align: left;\n",
       "  /* unfitted */\n",
       "  background-color: var(--sklearn-color-unfitted-level-0);\n",
       "}\n",
       "\n",
       "#sk-container-id-2 div.sk-toggleable__content.fitted {\n",
       "  /* fitted */\n",
       "  background-color: var(--sklearn-color-fitted-level-0);\n",
       "}\n",
       "\n",
       "#sk-container-id-2 div.sk-toggleable__content pre {\n",
       "  margin: 0.2em;\n",
       "  border-radius: 0.25em;\n",
       "  color: var(--sklearn-color-text);\n",
       "  /* unfitted */\n",
       "  background-color: var(--sklearn-color-unfitted-level-0);\n",
       "}\n",
       "\n",
       "#sk-container-id-2 div.sk-toggleable__content.fitted pre {\n",
       "  /* unfitted */\n",
       "  background-color: var(--sklearn-color-fitted-level-0);\n",
       "}\n",
       "\n",
       "#sk-container-id-2 input.sk-toggleable__control:checked~div.sk-toggleable__content {\n",
       "  /* Expand drop-down */\n",
       "  max-height: 200px;\n",
       "  max-width: 100%;\n",
       "  overflow: auto;\n",
       "}\n",
       "\n",
       "#sk-container-id-2 input.sk-toggleable__control:checked~label.sk-toggleable__label-arrow:before {\n",
       "  content: \"▾\";\n",
       "}\n",
       "\n",
       "/* Pipeline/ColumnTransformer-specific style */\n",
       "\n",
       "#sk-container-id-2 div.sk-label input.sk-toggleable__control:checked~label.sk-toggleable__label {\n",
       "  color: var(--sklearn-color-text);\n",
       "  background-color: var(--sklearn-color-unfitted-level-2);\n",
       "}\n",
       "\n",
       "#sk-container-id-2 div.sk-label.fitted input.sk-toggleable__control:checked~label.sk-toggleable__label {\n",
       "  background-color: var(--sklearn-color-fitted-level-2);\n",
       "}\n",
       "\n",
       "/* Estimator-specific style */\n",
       "\n",
       "/* Colorize estimator box */\n",
       "#sk-container-id-2 div.sk-estimator input.sk-toggleable__control:checked~label.sk-toggleable__label {\n",
       "  /* unfitted */\n",
       "  background-color: var(--sklearn-color-unfitted-level-2);\n",
       "}\n",
       "\n",
       "#sk-container-id-2 div.sk-estimator.fitted input.sk-toggleable__control:checked~label.sk-toggleable__label {\n",
       "  /* fitted */\n",
       "  background-color: var(--sklearn-color-fitted-level-2);\n",
       "}\n",
       "\n",
       "#sk-container-id-2 div.sk-label label.sk-toggleable__label,\n",
       "#sk-container-id-2 div.sk-label label {\n",
       "  /* The background is the default theme color */\n",
       "  color: var(--sklearn-color-text-on-default-background);\n",
       "}\n",
       "\n",
       "/* On hover, darken the color of the background */\n",
       "#sk-container-id-2 div.sk-label:hover label.sk-toggleable__label {\n",
       "  color: var(--sklearn-color-text);\n",
       "  background-color: var(--sklearn-color-unfitted-level-2);\n",
       "}\n",
       "\n",
       "/* Label box, darken color on hover, fitted */\n",
       "#sk-container-id-2 div.sk-label.fitted:hover label.sk-toggleable__label.fitted {\n",
       "  color: var(--sklearn-color-text);\n",
       "  background-color: var(--sklearn-color-fitted-level-2);\n",
       "}\n",
       "\n",
       "/* Estimator label */\n",
       "\n",
       "#sk-container-id-2 div.sk-label label {\n",
       "  font-family: monospace;\n",
       "  font-weight: bold;\n",
       "  display: inline-block;\n",
       "  line-height: 1.2em;\n",
       "}\n",
       "\n",
       "#sk-container-id-2 div.sk-label-container {\n",
       "  text-align: center;\n",
       "}\n",
       "\n",
       "/* Estimator-specific */\n",
       "#sk-container-id-2 div.sk-estimator {\n",
       "  font-family: monospace;\n",
       "  border: 1px dotted var(--sklearn-color-border-box);\n",
       "  border-radius: 0.25em;\n",
       "  box-sizing: border-box;\n",
       "  margin-bottom: 0.5em;\n",
       "  /* unfitted */\n",
       "  background-color: var(--sklearn-color-unfitted-level-0);\n",
       "}\n",
       "\n",
       "#sk-container-id-2 div.sk-estimator.fitted {\n",
       "  /* fitted */\n",
       "  background-color: var(--sklearn-color-fitted-level-0);\n",
       "}\n",
       "\n",
       "/* on hover */\n",
       "#sk-container-id-2 div.sk-estimator:hover {\n",
       "  /* unfitted */\n",
       "  background-color: var(--sklearn-color-unfitted-level-2);\n",
       "}\n",
       "\n",
       "#sk-container-id-2 div.sk-estimator.fitted:hover {\n",
       "  /* fitted */\n",
       "  background-color: var(--sklearn-color-fitted-level-2);\n",
       "}\n",
       "\n",
       "/* Specification for estimator info (e.g. \"i\" and \"?\") */\n",
       "\n",
       "/* Common style for \"i\" and \"?\" */\n",
       "\n",
       ".sk-estimator-doc-link,\n",
       "a:link.sk-estimator-doc-link,\n",
       "a:visited.sk-estimator-doc-link {\n",
       "  float: right;\n",
       "  font-size: smaller;\n",
       "  line-height: 1em;\n",
       "  font-family: monospace;\n",
       "  background-color: var(--sklearn-color-background);\n",
       "  border-radius: 1em;\n",
       "  height: 1em;\n",
       "  width: 1em;\n",
       "  text-decoration: none !important;\n",
       "  margin-left: 1ex;\n",
       "  /* unfitted */\n",
       "  border: var(--sklearn-color-unfitted-level-1) 1pt solid;\n",
       "  color: var(--sklearn-color-unfitted-level-1);\n",
       "}\n",
       "\n",
       ".sk-estimator-doc-link.fitted,\n",
       "a:link.sk-estimator-doc-link.fitted,\n",
       "a:visited.sk-estimator-doc-link.fitted {\n",
       "  /* fitted */\n",
       "  border: var(--sklearn-color-fitted-level-1) 1pt solid;\n",
       "  color: var(--sklearn-color-fitted-level-1);\n",
       "}\n",
       "\n",
       "/* On hover */\n",
       "div.sk-estimator:hover .sk-estimator-doc-link:hover,\n",
       ".sk-estimator-doc-link:hover,\n",
       "div.sk-label-container:hover .sk-estimator-doc-link:hover,\n",
       ".sk-estimator-doc-link:hover {\n",
       "  /* unfitted */\n",
       "  background-color: var(--sklearn-color-unfitted-level-3);\n",
       "  color: var(--sklearn-color-background);\n",
       "  text-decoration: none;\n",
       "}\n",
       "\n",
       "div.sk-estimator.fitted:hover .sk-estimator-doc-link.fitted:hover,\n",
       ".sk-estimator-doc-link.fitted:hover,\n",
       "div.sk-label-container:hover .sk-estimator-doc-link.fitted:hover,\n",
       ".sk-estimator-doc-link.fitted:hover {\n",
       "  /* fitted */\n",
       "  background-color: var(--sklearn-color-fitted-level-3);\n",
       "  color: var(--sklearn-color-background);\n",
       "  text-decoration: none;\n",
       "}\n",
       "\n",
       "/* Span, style for the box shown on hovering the info icon */\n",
       ".sk-estimator-doc-link span {\n",
       "  display: none;\n",
       "  z-index: 9999;\n",
       "  position: relative;\n",
       "  font-weight: normal;\n",
       "  right: .2ex;\n",
       "  padding: .5ex;\n",
       "  margin: .5ex;\n",
       "  width: min-content;\n",
       "  min-width: 20ex;\n",
       "  max-width: 50ex;\n",
       "  color: var(--sklearn-color-text);\n",
       "  box-shadow: 2pt 2pt 4pt #999;\n",
       "  /* unfitted */\n",
       "  background: var(--sklearn-color-unfitted-level-0);\n",
       "  border: .5pt solid var(--sklearn-color-unfitted-level-3);\n",
       "}\n",
       "\n",
       ".sk-estimator-doc-link.fitted span {\n",
       "  /* fitted */\n",
       "  background: var(--sklearn-color-fitted-level-0);\n",
       "  border: var(--sklearn-color-fitted-level-3);\n",
       "}\n",
       "\n",
       ".sk-estimator-doc-link:hover span {\n",
       "  display: block;\n",
       "}\n",
       "\n",
       "/* \"?\"-specific style due to the `<a>` HTML tag */\n",
       "\n",
       "#sk-container-id-2 a.estimator_doc_link {\n",
       "  float: right;\n",
       "  font-size: 1rem;\n",
       "  line-height: 1em;\n",
       "  font-family: monospace;\n",
       "  background-color: var(--sklearn-color-background);\n",
       "  border-radius: 1rem;\n",
       "  height: 1rem;\n",
       "  width: 1rem;\n",
       "  text-decoration: none;\n",
       "  /* unfitted */\n",
       "  color: var(--sklearn-color-unfitted-level-1);\n",
       "  border: var(--sklearn-color-unfitted-level-1) 1pt solid;\n",
       "}\n",
       "\n",
       "#sk-container-id-2 a.estimator_doc_link.fitted {\n",
       "  /* fitted */\n",
       "  border: var(--sklearn-color-fitted-level-1) 1pt solid;\n",
       "  color: var(--sklearn-color-fitted-level-1);\n",
       "}\n",
       "\n",
       "/* On hover */\n",
       "#sk-container-id-2 a.estimator_doc_link:hover {\n",
       "  /* unfitted */\n",
       "  background-color: var(--sklearn-color-unfitted-level-3);\n",
       "  color: var(--sklearn-color-background);\n",
       "  text-decoration: none;\n",
       "}\n",
       "\n",
       "#sk-container-id-2 a.estimator_doc_link.fitted:hover {\n",
       "  /* fitted */\n",
       "  background-color: var(--sklearn-color-fitted-level-3);\n",
       "}\n",
       "</style><div id=\"sk-container-id-2\" class=\"sk-top-container\"><div class=\"sk-text-repr-fallback\"><pre>DecisionTreeClassifier(max_depth=15, max_leaf_nodes=60)</pre><b>In a Jupyter environment, please rerun this cell to show the HTML representation or trust the notebook. <br />On GitHub, the HTML representation is unable to render, please try loading this page with nbviewer.org.</b></div><div class=\"sk-container\" hidden><div class=\"sk-item\"><div class=\"sk-estimator fitted sk-toggleable\"><input class=\"sk-toggleable__control sk-hidden--visually\" id=\"sk-estimator-id-4\" type=\"checkbox\" checked><label for=\"sk-estimator-id-4\" class=\"sk-toggleable__label fitted sk-toggleable__label-arrow fitted\">&nbsp;&nbsp;DecisionTreeClassifier<a class=\"sk-estimator-doc-link fitted\" rel=\"noreferrer\" target=\"_blank\" href=\"https://scikit-learn.org/1.4/modules/generated/sklearn.tree.DecisionTreeClassifier.html\">?<span>Documentation for DecisionTreeClassifier</span></a><span class=\"sk-estimator-doc-link fitted\">i<span>Fitted</span></span></label><div class=\"sk-toggleable__content fitted\"><pre>DecisionTreeClassifier(max_depth=15, max_leaf_nodes=60)</pre></div> </div></div></div></div>"
      ],
      "text/plain": [
       "DecisionTreeClassifier(max_depth=15, max_leaf_nodes=60)"
      ]
     },
     "execution_count": 13,
     "metadata": {},
     "output_type": "execute_result"
    }
   ],
   "source": [
    "clf.fit(X_train, y_train)"
   ]
  },
  {
   "cell_type": "markdown",
   "id": "9e8dcd57",
   "metadata": {
    "id": "bpWfyMou7hXk"
   },
   "source": [
    "##### Train score"
   ]
  },
  {
   "cell_type": "code",
   "execution_count": 14,
   "id": "6c8a4683",
   "metadata": {
    "colab": {
     "base_uri": "https://localhost:8080/"
    },
    "id": "thno10Bl5-mc",
    "outputId": "ad4cb9e9-822b-4756-cd57-197ea4c8a56d"
   },
   "outputs": [
    {
     "data": {
      "text/plain": [
       "0.8223617453069508"
      ]
     },
     "execution_count": 14,
     "metadata": {},
     "output_type": "execute_result"
    }
   ],
   "source": [
    "clf.score(X_train, y_train)"
   ]
  },
  {
   "cell_type": "markdown",
   "id": "28f03c92",
   "metadata": {
    "id": "xE9VA6kX7ivy"
   },
   "source": [
    "##### Test score"
   ]
  },
  {
   "cell_type": "code",
   "execution_count": 15,
   "id": "8f81b94a",
   "metadata": {
    "colab": {
     "base_uri": "https://localhost:8080/"
    },
    "id": "eQ6bnp2n6HQD",
    "outputId": "62159d70-08cd-42e6-890d-2fe193a566d6"
   },
   "outputs": [
    {
     "data": {
      "text/plain": [
       "0.8125792543748415"
      ]
     },
     "execution_count": 15,
     "metadata": {},
     "output_type": "execute_result"
    }
   ],
   "source": [
    "clf.score(X_test, y_test)"
   ]
  },
  {
   "cell_type": "markdown",
   "id": "746767f2",
   "metadata": {
    "id": "5ovpFLhW6I4G"
   },
   "source": [
    "#### RF"
   ]
  },
  {
   "cell_type": "code",
   "execution_count": 16,
   "id": "c426156e",
   "metadata": {
    "colab": {
     "base_uri": "https://localhost:8080/"
    },
    "id": "9Qb-B1KG-A4f",
    "outputId": "a43dac30-d025-49dc-8e33-4295770c2d9d"
   },
   "outputs": [
    {
     "name": "stdout",
     "output_type": "stream",
     "text": [
      "Fitting 3 folds for each of 10 candidates, totalling 30 fits\n"
     ]
    }
   ],
   "source": [
    "from sklearn.ensemble import RandomForestClassifier as RFC\n",
    "from sklearn import tree\n",
    "from sklearn.model_selection import RandomizedSearchCV\n",
    "import datetime as dt\n",
    "\n",
    "params = {\n",
    "    \"n_estimators\": [10,25,50,100,150,200],\n",
    "    \"max_depth\" : [3, 5, 10, 15, 20],\n",
    "    \"max_leaf_nodes\" : [20, 40, 80]\n",
    "}\n",
    "\n",
    "rfc = RFC(n_jobs = -1)\n",
    "clf = RandomizedSearchCV(rfc, params, scoring = \"accuracy\", cv=3, n_jobs = -1, verbose = 1)\n",
    "\n",
    "start = dt.datetime.now()\n",
    "clf.fit(X_train, y_train)\n",
    "end = dt.datetime.now()"
   ]
  },
  {
   "cell_type": "code",
   "execution_count": 17,
   "id": "a1058529",
   "metadata": {
    "colab": {
     "base_uri": "https://localhost:8080/"
    },
    "id": "gHHyLSI2_uuX",
    "outputId": "e9c7ce6a-ffd8-45cd-c7a8-caf48784ae4f"
   },
   "outputs": [
    {
     "name": "stdout",
     "output_type": "stream",
     "text": [
      "Parameters:{'n_estimators': 10, 'max_leaf_nodes': 40, 'max_depth': 20} Mean_score: 0.8262937595129376 Rank: 6\n",
      "Parameters:{'n_estimators': 200, 'max_leaf_nodes': 80, 'max_depth': 15} Mean_score: 0.8914256722475901 Rank: 1\n",
      "Parameters:{'n_estimators': 150, 'max_leaf_nodes': 40, 'max_depth': 3} Mean_score: 0.6818239472349061 Rank: 8\n",
      "Parameters:{'n_estimators': 25, 'max_leaf_nodes': 40, 'max_depth': 3} Mean_score: 0.5972222222222222 Rank: 10\n",
      "Parameters:{'n_estimators': 200, 'max_leaf_nodes': 40, 'max_depth': 3} Mean_score: 0.6811263318112634 Rank: 9\n",
      "Parameters:{'n_estimators': 50, 'max_leaf_nodes': 80, 'max_depth': 10} Mean_score: 0.8781709791983765 Rank: 3\n",
      "Parameters:{'n_estimators': 200, 'max_leaf_nodes': 40, 'max_depth': 5} Mean_score: 0.7723871131405379 Rank: 7\n",
      "Parameters:{'n_estimators': 10, 'max_leaf_nodes': 80, 'max_depth': 20} Mean_score: 0.8712582445459157 Rank: 4\n",
      "Parameters:{'n_estimators': 150, 'max_leaf_nodes': 80, 'max_depth': 10} Mean_score: 0.8859081684424149 Rank: 2\n",
      "Parameters:{'n_estimators': 100, 'max_leaf_nodes': 40, 'max_depth': 20} Mean_score: 0.8538812785388128 Rank: 5\n"
     ]
    }
   ],
   "source": [
    "res = clf.cv_results_\n",
    "\n",
    "for i in range(len(res[\"params\"])):\n",
    "  print(f\"Parameters:{res['params'][i]} Mean_score: {res['mean_test_score'][i]} Rank: {res['rank_test_score'][i]}\")\n"
   ]
  },
  {
   "cell_type": "markdown",
   "id": "441db514",
   "metadata": {
    "id": "fwzaKUy8_0WI"
   },
   "source": [
    "Notice that,\n",
    "\n",
    "The performance of RF (0.89) is better than DT (0.81)"
   ]
  },
  {
   "cell_type": "code",
   "execution_count": 18,
   "id": "554ef022",
   "metadata": {
    "colab": {
     "base_uri": "https://localhost:8080/"
    },
    "id": "r01SWPhyBXDK",
    "outputId": "cab349bb-4fe7-4599-842b-b752f4b195b6"
   },
   "outputs": [
    {
     "name": "stdout",
     "output_type": "stream",
     "text": [
      "Time taken for fits : 0:00:28.952004\n"
     ]
    }
   ],
   "source": [
    "print(f\"Time taken for fits : {end - start}\")"
   ]
  },
  {
   "cell_type": "code",
   "execution_count": 19,
   "id": "7d48f35f",
   "metadata": {
    "colab": {
     "base_uri": "https://localhost:8080/"
    },
    "id": "6Fs56rr4AEhK",
    "outputId": "8a14b27e-6c68-4715-d3ef-dcd8c17c0478"
   },
   "outputs": [
    {
     "name": "stdout",
     "output_type": "stream",
     "text": [
      "RandomForestClassifier(max_depth=15, max_leaf_nodes=80, n_estimators=200,\n",
      "                       n_jobs=-1)\n"
     ]
    }
   ],
   "source": [
    "print(clf.best_estimator_)"
   ]
  },
  {
   "cell_type": "code",
   "execution_count": 20,
   "id": "7bf68ca2",
   "metadata": {
    "colab": {
     "base_uri": "https://localhost:8080/"
    },
    "id": "-J0DwE_DAY8R",
    "outputId": "ae62cdb0-a466-4230-8d92-0c6524ae6aad"
   },
   "outputs": [
    {
     "name": "stdout",
     "output_type": "stream",
     "text": [
      "Model acc 0.8917068222165864\n"
     ]
    }
   ],
   "source": [
    "rf = clf.best_estimator_\n",
    "\n",
    "rf.fit(X_train, y_train)\n",
    "\n",
    "print(\"Model acc\",rf.score(X_test, y_test))\n",
    "\n"
   ]
  },
  {
   "cell_type": "markdown",
   "id": "e8d3c8d9",
   "metadata": {
    "id": "9Lhmp9k272jA"
   },
   "source": [
    "#### GBDT"
   ]
  },
  {
   "cell_type": "code",
   "execution_count": 21,
   "id": "6fdb1785",
   "metadata": {
    "id": "Eh23CabHNDJC"
   },
   "outputs": [],
   "source": [
    "params = {\n",
    "    \"n_estimators\": [50,100,150,200],\n",
    "    \"max_depth\" : [3, 4, 5, 7],\n",
    "    \"max_leaf_nodes\" : [20, 40, 80],\n",
    "    \"learning_rate\": [0.1, 0.2, 0.3]\n",
    "}"
   ]
  },
  {
   "cell_type": "code",
   "execution_count": null,
   "id": "7b20b2c6",
   "metadata": {
    "colab": {
     "base_uri": "https://localhost:8080/"
    },
    "id": "9ajx0TqYM_ZU",
    "outputId": "1275cf39-3ef4-4242-92c6-f34e63ea5bf9"
   },
   "outputs": [],
   "source": [
    "from sklearn.ensemble import GradientBoostingClassifier as GBC\n",
    "from sklearn.model_selection import RandomizedSearchCV\n",
    "import datetime as dt\n",
    "\n",
    "\n",
    "gbc = GBC()\n",
    "clf = RandomizedSearchCV(gbc, params, scoring = \"accuracy\", cv=3, n_jobs = -1, verbose = 1)\n",
    "\n",
    "start = dt.datetime.now()\n",
    "\n",
    "clf.fit(X_train, y_train)\n",
    "\n",
    "end = dt.datetime.now()\n",
    "\n"
   ]
  },
  {
   "cell_type": "code",
   "execution_count": null,
   "id": "2dd50f38",
   "metadata": {
    "colab": {
     "base_uri": "https://localhost:8080/"
    },
    "id": "woTuckVVNj8H",
    "outputId": "7c9d42bb-462e-41b0-b024-d3d354d13452"
   },
   "outputs": [],
   "source": [
    "res = clf.cv_results_\n",
    "\n",
    "for i in range(len(res[\"params\"])):\n",
    "  print(f\"Parameters:{res['params'][i]} Mean_score: {res['mean_test_score'][i]} Rank: {res['rank_test_score'][i]}\")\n"
   ]
  },
  {
   "cell_type": "code",
   "execution_count": null,
   "id": "d84f9463",
   "metadata": {
    "colab": {
     "base_uri": "https://localhost:8080/"
    },
    "id": "t8El57tWNvWE",
    "outputId": "defc567e-e8da-45a1-9bda-9fa29310a7d7"
   },
   "outputs": [],
   "source": [
    "print(f\"Time taken for fits : {end - start}\")"
   ]
  },
  {
   "cell_type": "code",
   "execution_count": null,
   "id": "389d60a9",
   "metadata": {
    "colab": {
     "base_uri": "https://localhost:8080/"
    },
    "id": "foqmUdkEN1do",
    "outputId": "a27cfa32-1450-45cd-da5b-bcf003561abd"
   },
   "outputs": [],
   "source": [
    "print(clf.best_estimator_)"
   ]
  },
  {
   "cell_type": "code",
   "execution_count": null,
   "id": "845f6067",
   "metadata": {
    "colab": {
     "base_uri": "https://localhost:8080/"
    },
    "id": "-RJeRbT_N1d0",
    "outputId": "116f9b6e-ee2d-4a6e-cd1e-9915fda94383"
   },
   "outputs": [],
   "source": [
    "gbc = clf.best_estimator_\n",
    "\n",
    "gbc.fit(X_train, y_train)\n",
    "\n",
    "print(\"Model acc\",gbc.score(X_test, y_test))\n",
    "\n"
   ]
  },
  {
   "cell_type": "markdown",
   "id": "d80f868b",
   "metadata": {
    "id": "9Jqy5Gn6VlEj"
   },
   "source": [
    "Notice that\n",
    "- It took us > 30 mins to hyperparam tune sklearn GBDT  (slow)\n",
    "- Test accuracy: 0.96 (better than RF)"
   ]
  },
  {
   "cell_type": "code",
   "execution_count": null,
   "id": "1eb60015",
   "metadata": {},
   "outputs": [],
   "source": []
  }
 ],
 "metadata": {
  "kernelspec": {
   "display_name": "Python 3 (ipykernel)",
   "language": "python",
   "name": "python3"
  },
  "language_info": {
   "codemirror_mode": {
    "name": "ipython",
    "version": 3
   },
   "file_extension": ".py",
   "mimetype": "text/x-python",
   "name": "python",
   "nbconvert_exporter": "python",
   "pygments_lexer": "ipython3",
   "version": "3.10.2"
  }
 },
 "nbformat": 4,
 "nbformat_minor": 5
}
