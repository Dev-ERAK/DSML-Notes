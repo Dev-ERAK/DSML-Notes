{
 "cells": [
  {
   "cell_type": "code",
   "execution_count": 1,
   "metadata": {
    "colab": {
     "base_uri": "https://localhost:8080/"
    },
    "id": "apIAXAWKR9CL",
    "outputId": "e2335d3d-935b-4c06-9e49-41f0e7325393"
   },
   "outputs": [
    {
     "data": {
      "text/plain": [
       "4"
      ]
     },
     "execution_count": 1,
     "metadata": {},
     "output_type": "execute_result"
    }
   ],
   "source": [
    "2+2"
   ]
  },
  {
   "cell_type": "code",
   "execution_count": 2,
   "metadata": {
    "id": "PThK5TBLR97r"
   },
   "outputs": [],
   "source": [
    "import numpy as np\n",
    "import matplotlib.pyplot as plt"
   ]
  },
  {
   "cell_type": "code",
   "execution_count": 3,
   "metadata": {
    "colab": {
     "base_uri": "https://localhost:8080/",
     "height": 430
    },
    "id": "ojtEA4NCR_tl",
    "outputId": "ae2176cc-5d18-4814-9319-973f32c738c4"
   },
   "outputs": [
    {
     "ename": "NameError",
     "evalue": "name 'plot_function' is not defined",
     "output_type": "error",
     "traceback": [
      "\u001b[1;31m---------------------------------------------------------------------------\u001b[0m",
      "\u001b[1;31mNameError\u001b[0m                                 Traceback (most recent call last)",
      "Cell \u001b[1;32mIn[3], line 1\u001b[0m\n\u001b[1;32m----> 1\u001b[0m \u001b[43mplot_function\u001b[49m(\u001b[38;5;28;01mlambda\u001b[39;00m x : x\u001b[38;5;241m*\u001b[39m\u001b[38;5;241m*\u001b[39m\u001b[38;5;241m2\u001b[39m)\n",
      "\u001b[1;31mNameError\u001b[0m: name 'plot_function' is not defined"
     ]
    }
   ],
   "source": [
    "plot_function(lambda x : x**2)"
   ]
  },
  {
   "cell_type": "code",
   "execution_count": 4,
   "metadata": {
    "id": "UZVG2JmDSHYc"
   },
   "outputs": [],
   "source": [
    "def plot_function(func):\n",
    "  x_value = np.linspace(-10,10, 1000)\n",
    "  y_value = [func(x) for x in x_value ]\n",
    "  plt.plot(x_value, y_value)"
   ]
  },
  {
   "cell_type": "code",
   "execution_count": null,
   "metadata": {
    "id": "r_FAtWC7SeRg"
   },
   "outputs": [],
   "source": [
    "def plot_derivative(func):\n",
    "  x_value = np.linspace(-10,10, 1000)\n",
    "  delta = 0.0001\n",
    "  y_value = (func(x_value + delta) - func(x_value))/ delta\n",
    "  plt.plot(x_value, y_value)"
   ]
  },
  {
   "cell_type": "code",
   "execution_count": null,
   "metadata": {
    "colab": {
     "base_uri": "https://localhost:8080/",
     "height": 430
    },
    "id": "Jx76xy9zTBGF",
    "outputId": "4229268f-f0a1-4fbd-bedf-9705826edad5"
   },
   "outputs": [],
   "source": [
    "plot_derivative(lambda x : x**2)"
   ]
  },
  {
   "cell_type": "code",
   "execution_count": null,
   "metadata": {
    "id": "pXKI98nMTEVy"
   },
   "outputs": [],
   "source": []
  }
 ],
 "metadata": {
  "colab": {
   "provenance": []
  },
  "kernelspec": {
   "display_name": "Python 3 (ipykernel)",
   "language": "python",
   "name": "python3"
  },
  "language_info": {
   "codemirror_mode": {
    "name": "ipython",
    "version": 3
   },
   "file_extension": ".py",
   "mimetype": "text/x-python",
   "name": "python",
   "nbconvert_exporter": "python",
   "pygments_lexer": "ipython3",
   "version": "3.10.2"
  }
 },
 "nbformat": 4,
 "nbformat_minor": 1
}
